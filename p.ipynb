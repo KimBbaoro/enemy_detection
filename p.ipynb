{
 "cells": [
  {
   "cell_type": "code",
   "execution_count": 6,
   "metadata": {},
   "outputs": [],
   "source": [
    "import cv2\n",
    "import numpy as np\n",
    "\n",
    "frameWidth = 640\n",
    "frameHeight = 480\n",
    "cap = cv2.VideoCapture(1)\n",
    "cap.set(3, frameWidth)\n",
    "cap.set(4, frameHeight)\n",
    "cap.set(10,130)\n",
    "\n",
    "myColors = [[5,107,0,19,255,255],\n",
    "            [133,56,0,159,156,255],\n",
    "            [57,76,0,100,255,255]]\n",
    "\n",
    "def findColor(img, myColors):\n",
    "    imgHSV = cv2.cvtColor(img, cv2.COLOR_BGR2HSV)\n",
    "    for color in myColors:\n",
    "        lower = np.array(color[0:3])\n",
    "        upper = np.array(color[3:6])\n",
    "        mask = cv2.inRange(imgHSV, lower, upper)\n",
    "        cv2.imshow(str(color[0]), mask)\n",
    "    # lower = np.array([h_min,s_min])\n",
    "\n",
    "while True:\n",
    "    success, img = cap.read()\n",
    "    findColor(img, myColors)\n",
    "    cv2.imshow(\"Result\", img)\n",
    "    if cv2.waitKey(1)&0xFF==ord(\"q\"):\n",
    "        break"
   ]
  },
  {
   "cell_type": "code",
   "execution_count": null,
   "metadata": {},
   "outputs": [],
   "source": []
  }
 ],
 "metadata": {
  "kernelspec": {
   "display_name": "Python 3",
   "language": "python",
   "name": "python3"
  },
  "language_info": {
   "codemirror_mode": {
    "name": "ipython",
    "version": 3
   },
   "file_extension": ".py",
   "mimetype": "text/x-python",
   "name": "python",
   "nbconvert_exporter": "python",
   "pygments_lexer": "ipython3",
   "version": "3.11.4"
  },
  "orig_nbformat": 4
 },
 "nbformat": 4,
 "nbformat_minor": 2
}

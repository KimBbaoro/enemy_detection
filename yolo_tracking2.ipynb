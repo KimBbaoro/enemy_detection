{
 "cells": [
  {
   "cell_type": "code",
   "execution_count": 8,
   "metadata": {},
   "outputs": [],
   "source": [
    "import cv2\n",
    "import numpy as np\n",
    "import torch\n",
    "import ultralytics\n",
    "import supervision as sv"
   ]
  },
  {
   "cell_type": "code",
   "execution_count": 9,
   "metadata": {},
   "outputs": [],
   "source": [
    "from ultralytics import YOLO\n"
   ]
  },
  {
   "cell_type": "code",
   "execution_count": 10,
   "metadata": {},
   "outputs": [],
   "source": [
    "device = torch.device('cuda' if torch.cuda.is_available() else 'cpu')"
   ]
  },
  {
   "cell_type": "code",
   "execution_count": 11,
   "metadata": {},
   "outputs": [],
   "source": [
    "def paintPoints(img, boxes, myColors):\n",
    "    for i in range(len(boxes)):\n",
    "        newPoints = []\n",
    "        box = boxes[i]\n",
    "        myColor = myColors[i]\n",
    "        x1,y1,x2,y2 = box.xyxy[0][0],box.xyxy[0][1],box.xyxy[0][2],box.xyxy[0][3]\n",
    "        target_x = (x1+x2)/2\n",
    "        target_y = y1\n",
    "        newPoints.append([target_x, target_y,i])\n",
    "    return newPoints\n",
    "    # for point in newPoints:\n",
    "    #     cv2.circle(img, (int(point[0]), int(point[1])), 10,myColor, cv2.FILLED)"
   ]
  },
  {
   "cell_type": "code",
   "execution_count": 12,
   "metadata": {},
   "outputs": [],
   "source": [
    "def drawOnCanvas(img, myPoints, myColors):\n",
    "    for point in myPoints:\n",
    "        cv2.circle(img, (int(point[0]), int(point[1])), 5, myColors[point[2]], cv2.FILLED)"
   ]
  },
  {
   "cell_type": "code",
   "execution_count": 13,
   "metadata": {},
   "outputs": [
    {
     "name": "stderr",
     "output_type": "stream",
     "text": [
      "\n",
      "0: 256x416 (no detections), 20.4ms\n",
      "Speed: 0.8ms preprocess, 20.4ms inference, 0.2ms postprocess per image at shape (1, 3, 256, 416)\n",
      "\n",
      "0: 256x416 (no detections), 28.1ms\n",
      "Speed: 0.7ms preprocess, 28.1ms inference, 0.2ms postprocess per image at shape (1, 3, 256, 416)\n",
      "\n",
      "0: 256x416 (no detections), 19.3ms\n",
      "Speed: 0.6ms preprocess, 19.3ms inference, 0.2ms postprocess per image at shape (1, 3, 256, 416)\n",
      "\n",
      "0: 256x416 1 person, 19.9ms\n",
      "Speed: 0.7ms preprocess, 19.9ms inference, 0.4ms postprocess per image at shape (1, 3, 256, 416)\n",
      "\n"
     ]
    },
    {
     "name": "stdout",
     "output_type": "stream",
     "text": [
      "id :  None\n",
      "flag2\n",
      "id :  None\n",
      "flag2\n",
      "id :  None\n",
      "flag2\n",
      "id :  None\n"
     ]
    },
    {
     "name": "stderr",
     "output_type": "stream",
     "text": [
      "0: 256x416 1 person, 19.7ms\n",
      "Speed: 0.7ms preprocess, 19.7ms inference, 0.3ms postprocess per image at shape (1, 3, 256, 416)\n",
      "\n",
      "0: 256x416 1 person, 19.2ms\n",
      "Speed: 0.7ms preprocess, 19.2ms inference, 0.3ms postprocess per image at shape (1, 3, 256, 416)\n",
      "\n",
      "0: 256x416 1 person, 21.3ms\n",
      "Speed: 0.7ms preprocess, 21.3ms inference, 0.3ms postprocess per image at shape (1, 3, 256, 416)\n",
      "\n",
      "0: 256x416 1 person, 20.1ms\n",
      "Speed: 0.6ms preprocess, 20.1ms inference, 0.3ms postprocess per image at shape (1, 3, 256, 416)\n",
      "\n"
     ]
    },
    {
     "name": "stdout",
     "output_type": "stream",
     "text": [
      "id :  None\n",
      "id :  None\n",
      "id :  None\n",
      "id :  None\n"
     ]
    },
    {
     "name": "stderr",
     "output_type": "stream",
     "text": [
      "0: 256x416 1 person, 20.6ms\n",
      "Speed: 0.9ms preprocess, 20.6ms inference, 0.3ms postprocess per image at shape (1, 3, 256, 416)\n",
      "\n",
      "0: 256x416 1 person, 20.4ms\n",
      "Speed: 0.6ms preprocess, 20.4ms inference, 0.3ms postprocess per image at shape (1, 3, 256, 416)\n",
      "\n",
      "0: 256x416 1 person, 20.4ms\n",
      "Speed: 0.6ms preprocess, 20.4ms inference, 0.3ms postprocess per image at shape (1, 3, 256, 416)\n",
      "\n",
      "0: 256x416 1 person, 20.0ms\n",
      "Speed: 0.6ms preprocess, 20.0ms inference, 0.3ms postprocess per image at shape (1, 3, 256, 416)\n",
      "\n"
     ]
    },
    {
     "name": "stdout",
     "output_type": "stream",
     "text": [
      "id :  None\n",
      "id :  None\n",
      "id :  None\n",
      "id :  None\n"
     ]
    },
    {
     "name": "stderr",
     "output_type": "stream",
     "text": [
      "0: 256x416 1 person, 20.0ms\n",
      "Speed: 0.7ms preprocess, 20.0ms inference, 0.2ms postprocess per image at shape (1, 3, 256, 416)\n",
      "\n",
      "0: 256x416 1 person, 25.1ms\n",
      "Speed: 0.7ms preprocess, 25.1ms inference, 0.3ms postprocess per image at shape (1, 3, 256, 416)\n",
      "\n",
      "0: 256x416 1 person, 20.0ms\n",
      "Speed: 0.8ms preprocess, 20.0ms inference, 0.3ms postprocess per image at shape (1, 3, 256, 416)\n",
      "\n",
      "0: 256x416 1 person, 19.8ms\n",
      "Speed: 0.6ms preprocess, 19.8ms inference, 0.3ms postprocess per image at shape (1, 3, 256, 416)\n",
      "\n"
     ]
    },
    {
     "name": "stdout",
     "output_type": "stream",
     "text": [
      "id :  None\n",
      "id :  None\n",
      "id :  None\n",
      "id :  None\n"
     ]
    },
    {
     "name": "stderr",
     "output_type": "stream",
     "text": [
      "0: 256x416 1 person, 20.5ms\n",
      "Speed: 0.6ms preprocess, 20.5ms inference, 0.3ms postprocess per image at shape (1, 3, 256, 416)\n",
      "\n",
      "0: 256x416 (no detections), 19.8ms\n",
      "Speed: 0.6ms preprocess, 19.8ms inference, 0.2ms postprocess per image at shape (1, 3, 256, 416)\n",
      "\n",
      "0: 256x416 (no detections), 19.6ms\n",
      "Speed: 0.8ms preprocess, 19.6ms inference, 0.2ms postprocess per image at shape (1, 3, 256, 416)\n",
      "\n",
      "0: 256x416 1 person, 18.9ms\n",
      "Speed: 0.7ms preprocess, 18.9ms inference, 0.3ms postprocess per image at shape (1, 3, 256, 416)\n",
      "\n"
     ]
    },
    {
     "name": "stdout",
     "output_type": "stream",
     "text": [
      "id :  None\n",
      "id :  None\n",
      "flag2\n",
      "id :  None\n",
      "flag2\n",
      "id :  None\n"
     ]
    },
    {
     "name": "stderr",
     "output_type": "stream",
     "text": [
      "0: 256x416 1 person, 19.4ms\n",
      "Speed: 0.5ms preprocess, 19.4ms inference, 0.3ms postprocess per image at shape (1, 3, 256, 416)\n",
      "\n",
      "0: 256x416 1 person, 19.7ms\n",
      "Speed: 0.6ms preprocess, 19.7ms inference, 0.3ms postprocess per image at shape (1, 3, 256, 416)\n",
      "\n",
      "0: 256x416 1 person, 19.4ms\n",
      "Speed: 0.6ms preprocess, 19.4ms inference, 0.3ms postprocess per image at shape (1, 3, 256, 416)\n",
      "\n",
      "0: 256x416 1 person, 19.2ms\n",
      "Speed: 0.6ms preprocess, 19.2ms inference, 0.3ms postprocess per image at shape (1, 3, 256, 416)\n",
      "\n"
     ]
    },
    {
     "name": "stdout",
     "output_type": "stream",
     "text": [
      "id :  None\n",
      "id :  tensor([1.])\n",
      "id :  tensor([1.])\n",
      "id :  tensor([1.])\n"
     ]
    },
    {
     "name": "stderr",
     "output_type": "stream",
     "text": [
      "0: 256x416 1 person, 37.7ms\n",
      "Speed: 3.5ms preprocess, 37.7ms inference, 0.3ms postprocess per image at shape (1, 3, 256, 416)\n",
      "\n",
      "0: 256x416 1 person, 20.2ms\n",
      "Speed: 0.7ms preprocess, 20.2ms inference, 0.3ms postprocess per image at shape (1, 3, 256, 416)\n",
      "\n",
      "0: 256x416 1 person, 19.1ms\n",
      "Speed: 0.6ms preprocess, 19.1ms inference, 0.3ms postprocess per image at shape (1, 3, 256, 416)\n",
      "\n",
      "0: 256x416 2 persons, 19.2ms\n",
      "Speed: 0.6ms preprocess, 19.2ms inference, 0.3ms postprocess per image at shape (1, 3, 256, 416)\n",
      "\n"
     ]
    },
    {
     "name": "stdout",
     "output_type": "stream",
     "text": [
      "id :  tensor([1.])\n",
      "id :  tensor([1.])\n",
      "id :  tensor([1.])\n",
      "id :  tensor([1., 2.])\n"
     ]
    },
    {
     "name": "stderr",
     "output_type": "stream",
     "text": [
      "0: 256x416 2 persons, 19.7ms\n",
      "Speed: 0.6ms preprocess, 19.7ms inference, 0.3ms postprocess per image at shape (1, 3, 256, 416)\n",
      "\n",
      "0: 256x416 2 persons, 19.2ms\n",
      "Speed: 0.8ms preprocess, 19.2ms inference, 0.3ms postprocess per image at shape (1, 3, 256, 416)\n",
      "\n",
      "0: 256x416 2 persons, 19.2ms\n",
      "Speed: 0.8ms preprocess, 19.2ms inference, 0.3ms postprocess per image at shape (1, 3, 256, 416)\n",
      "\n",
      "0: 256x416 2 persons, 19.9ms\n",
      "Speed: 0.5ms preprocess, 19.9ms inference, 0.3ms postprocess per image at shape (1, 3, 256, 416)\n",
      "\n"
     ]
    },
    {
     "name": "stdout",
     "output_type": "stream",
     "text": [
      "id :  tensor([1., 2.])\n",
      "id :  tensor([1., 2.])\n",
      "id :  tensor([1., 2.])\n",
      "id :  tensor([1., 2.])\n"
     ]
    },
    {
     "name": "stderr",
     "output_type": "stream",
     "text": [
      "0: 256x416 2 persons, 19.2ms\n",
      "Speed: 0.6ms preprocess, 19.2ms inference, 0.3ms postprocess per image at shape (1, 3, 256, 416)\n",
      "\n",
      "0: 256x416 2 persons, 19.6ms\n",
      "Speed: 0.6ms preprocess, 19.6ms inference, 0.3ms postprocess per image at shape (1, 3, 256, 416)\n",
      "\n",
      "0: 256x416 2 persons, 18.6ms\n",
      "Speed: 0.6ms preprocess, 18.6ms inference, 0.3ms postprocess per image at shape (1, 3, 256, 416)\n",
      "\n",
      "0: 256x416 2 persons, 19.2ms\n",
      "Speed: 0.7ms preprocess, 19.2ms inference, 0.3ms postprocess per image at shape (1, 3, 256, 416)\n",
      "\n"
     ]
    },
    {
     "name": "stdout",
     "output_type": "stream",
     "text": [
      "id :  tensor([1., 2.])\n",
      "id :  tensor([1., 2.])\n",
      "id :  tensor([1., 2.])\n",
      "id :  tensor([1., 2.])\n"
     ]
    },
    {
     "name": "stderr",
     "output_type": "stream",
     "text": [
      "0: 256x416 2 persons, 18.7ms\n",
      "Speed: 0.6ms preprocess, 18.7ms inference, 0.3ms postprocess per image at shape (1, 3, 256, 416)\n",
      "\n",
      "0: 256x416 2 persons, 19.3ms\n",
      "Speed: 0.8ms preprocess, 19.3ms inference, 0.3ms postprocess per image at shape (1, 3, 256, 416)\n",
      "\n",
      "0: 256x416 2 persons, 18.7ms\n",
      "Speed: 0.7ms preprocess, 18.7ms inference, 0.3ms postprocess per image at shape (1, 3, 256, 416)\n",
      "\n",
      "0: 256x416 2 persons, 19.6ms\n",
      "Speed: 0.6ms preprocess, 19.6ms inference, 0.3ms postprocess per image at shape (1, 3, 256, 416)\n",
      "\n"
     ]
    },
    {
     "name": "stdout",
     "output_type": "stream",
     "text": [
      "id :  tensor([1., 2.])\n",
      "id :  tensor([1., 2.])\n",
      "id :  tensor([1., 2.])\n",
      "id :  tensor([1., 2.])\n"
     ]
    },
    {
     "name": "stderr",
     "output_type": "stream",
     "text": [
      "0: 256x416 1 person, 19.9ms\n",
      "Speed: 0.5ms preprocess, 19.9ms inference, 0.3ms postprocess per image at shape (1, 3, 256, 416)\n",
      "\n",
      "0: 256x416 1 person, 19.1ms\n",
      "Speed: 0.6ms preprocess, 19.1ms inference, 0.3ms postprocess per image at shape (1, 3, 256, 416)\n",
      "\n",
      "0: 256x416 1 person, 20.2ms\n",
      "Speed: 0.5ms preprocess, 20.2ms inference, 0.3ms postprocess per image at shape (1, 3, 256, 416)\n",
      "\n",
      "0: 256x416 1 person, 20.4ms\n",
      "Speed: 0.6ms preprocess, 20.4ms inference, 0.3ms postprocess per image at shape (1, 3, 256, 416)\n",
      "\n"
     ]
    },
    {
     "name": "stdout",
     "output_type": "stream",
     "text": [
      "id :  tensor([1.])\n",
      "id :  tensor([1.])\n",
      "id :  tensor([1.])\n",
      "id :  tensor([1.])\n"
     ]
    },
    {
     "name": "stderr",
     "output_type": "stream",
     "text": [
      "0: 256x416 2 persons, 19.0ms\n",
      "Speed: 0.8ms preprocess, 19.0ms inference, 0.3ms postprocess per image at shape (1, 3, 256, 416)\n",
      "\n",
      "0: 256x416 2 persons, 19.5ms\n",
      "Speed: 0.6ms preprocess, 19.5ms inference, 0.3ms postprocess per image at shape (1, 3, 256, 416)\n",
      "\n",
      "0: 256x416 2 persons, 19.2ms\n",
      "Speed: 0.6ms preprocess, 19.2ms inference, 0.3ms postprocess per image at shape (1, 3, 256, 416)\n",
      "\n",
      "0: 256x416 2 persons, 19.0ms\n",
      "Speed: 0.5ms preprocess, 19.0ms inference, 0.3ms postprocess per image at shape (1, 3, 256, 416)\n",
      "\n"
     ]
    },
    {
     "name": "stdout",
     "output_type": "stream",
     "text": [
      "id :  tensor([1., 2.])\n",
      "id :  tensor([1., 2.])\n",
      "id :  tensor([1., 2.])\n",
      "id :  tensor([1., 2.])\n"
     ]
    },
    {
     "name": "stderr",
     "output_type": "stream",
     "text": [
      "0: 256x416 2 persons, 19.1ms\n",
      "Speed: 0.5ms preprocess, 19.1ms inference, 0.3ms postprocess per image at shape (1, 3, 256, 416)\n",
      "\n",
      "0: 256x416 2 persons, 19.4ms\n",
      "Speed: 0.7ms preprocess, 19.4ms inference, 0.3ms postprocess per image at shape (1, 3, 256, 416)\n",
      "\n",
      "0: 256x416 2 persons, 19.5ms\n",
      "Speed: 0.5ms preprocess, 19.5ms inference, 0.3ms postprocess per image at shape (1, 3, 256, 416)\n",
      "\n",
      "0: 256x416 2 persons, 19.7ms\n",
      "Speed: 0.6ms preprocess, 19.7ms inference, 0.3ms postprocess per image at shape (1, 3, 256, 416)\n",
      "\n"
     ]
    },
    {
     "name": "stdout",
     "output_type": "stream",
     "text": [
      "id :  tensor([1., 2.])\n",
      "id :  tensor([1., 2.])\n",
      "id :  tensor([1., 2.])\n",
      "id :  tensor([1., 2.])\n"
     ]
    },
    {
     "name": "stderr",
     "output_type": "stream",
     "text": [
      "0: 256x416 2 persons, 20.4ms\n",
      "Speed: 0.6ms preprocess, 20.4ms inference, 0.3ms postprocess per image at shape (1, 3, 256, 416)\n",
      "\n",
      "0: 256x416 2 persons, 19.7ms\n",
      "Speed: 0.6ms preprocess, 19.7ms inference, 0.3ms postprocess per image at shape (1, 3, 256, 416)\n",
      "\n",
      "0: 256x416 (no detections), 20.0ms\n",
      "Speed: 0.9ms preprocess, 20.0ms inference, 0.1ms postprocess per image at shape (1, 3, 256, 416)\n",
      "\n",
      "0: 256x416 2 persons, 19.3ms\n",
      "Speed: 0.6ms preprocess, 19.3ms inference, 0.3ms postprocess per image at shape (1, 3, 256, 416)\n",
      "\n"
     ]
    },
    {
     "name": "stdout",
     "output_type": "stream",
     "text": [
      "id :  tensor([1., 2.])\n",
      "id :  tensor([1., 2.])\n",
      "id :  None\n",
      "flag2\n",
      "id :  tensor([1., 2.])\n"
     ]
    },
    {
     "name": "stderr",
     "output_type": "stream",
     "text": [
      "0: 256x416 2 persons, 19.9ms\n",
      "Speed: 0.6ms preprocess, 19.9ms inference, 0.3ms postprocess per image at shape (1, 3, 256, 416)\n",
      "\n",
      "0: 256x416 2 persons, 20.0ms\n",
      "Speed: 0.6ms preprocess, 20.0ms inference, 0.3ms postprocess per image at shape (1, 3, 256, 416)\n",
      "\n",
      "0: 256x416 2 persons, 19.3ms\n",
      "Speed: 0.6ms preprocess, 19.3ms inference, 0.3ms postprocess per image at shape (1, 3, 256, 416)\n",
      "\n",
      "0: 256x416 2 persons, 19.6ms\n",
      "Speed: 0.6ms preprocess, 19.6ms inference, 0.3ms postprocess per image at shape (1, 3, 256, 416)\n",
      "\n"
     ]
    },
    {
     "name": "stdout",
     "output_type": "stream",
     "text": [
      "id :  tensor([1., 2.])\n",
      "id :  tensor([1., 2.])\n",
      "id :  tensor([1., 2.])\n",
      "id :  tensor([1., 2.])\n"
     ]
    },
    {
     "name": "stderr",
     "output_type": "stream",
     "text": [
      "0: 256x416 2 persons, 19.9ms\n",
      "Speed: 0.6ms preprocess, 19.9ms inference, 0.3ms postprocess per image at shape (1, 3, 256, 416)\n",
      "\n",
      "0: 256x416 2 persons, 19.8ms\n",
      "Speed: 0.6ms preprocess, 19.8ms inference, 0.3ms postprocess per image at shape (1, 3, 256, 416)\n",
      "\n",
      "0: 256x416 2 persons, 19.1ms\n",
      "Speed: 0.6ms preprocess, 19.1ms inference, 0.3ms postprocess per image at shape (1, 3, 256, 416)\n",
      "\n",
      "0: 256x416 1 person, 19.4ms\n",
      "Speed: 0.6ms preprocess, 19.4ms inference, 0.3ms postprocess per image at shape (1, 3, 256, 416)\n",
      "\n"
     ]
    },
    {
     "name": "stdout",
     "output_type": "stream",
     "text": [
      "id :  tensor([1., 2.])\n",
      "id :  tensor([1., 2.])\n",
      "id :  tensor([1., 2.])\n",
      "id :  tensor([1.])\n"
     ]
    },
    {
     "name": "stderr",
     "output_type": "stream",
     "text": [
      "0: 256x416 1 person, 20.7ms\n",
      "Speed: 0.6ms preprocess, 20.7ms inference, 0.3ms postprocess per image at shape (1, 3, 256, 416)\n",
      "\n",
      "0: 256x416 1 person, 18.9ms\n",
      "Speed: 0.7ms preprocess, 18.9ms inference, 0.3ms postprocess per image at shape (1, 3, 256, 416)\n",
      "\n",
      "0: 256x416 1 person, 20.3ms\n",
      "Speed: 0.6ms preprocess, 20.3ms inference, 0.3ms postprocess per image at shape (1, 3, 256, 416)\n",
      "\n",
      "0: 256x416 1 person, 19.4ms\n",
      "Speed: 0.6ms preprocess, 19.4ms inference, 0.3ms postprocess per image at shape (1, 3, 256, 416)\n",
      "\n"
     ]
    },
    {
     "name": "stdout",
     "output_type": "stream",
     "text": [
      "id :  tensor([1.])\n",
      "id :  tensor([1.])\n",
      "id :  tensor([1.])\n",
      "id :  tensor([1.])\n"
     ]
    },
    {
     "name": "stderr",
     "output_type": "stream",
     "text": [
      "0: 256x416 1 person, 19.3ms\n",
      "Speed: 0.7ms preprocess, 19.3ms inference, 0.3ms postprocess per image at shape (1, 3, 256, 416)\n",
      "\n",
      "0: 256x416 2 persons, 19.3ms\n",
      "Speed: 0.5ms preprocess, 19.3ms inference, 0.3ms postprocess per image at shape (1, 3, 256, 416)\n",
      "\n",
      "0: 256x416 3 persons, 19.6ms\n",
      "Speed: 0.5ms preprocess, 19.6ms inference, 0.3ms postprocess per image at shape (1, 3, 256, 416)\n",
      "\n",
      "0: 256x416 3 persons, 20.2ms\n",
      "Speed: 0.6ms preprocess, 20.2ms inference, 0.3ms postprocess per image at shape (1, 3, 256, 416)\n",
      "\n"
     ]
    },
    {
     "name": "stdout",
     "output_type": "stream",
     "text": [
      "id :  tensor([1.])\n",
      "id :  tensor([1., 2.])\n",
      "id :  tensor([1., 3., 2.])\n",
      "id :  tensor([1., 3., 2.])\n"
     ]
    },
    {
     "name": "stderr",
     "output_type": "stream",
     "text": [
      "0: 256x416 3 persons, 19.2ms\n",
      "Speed: 0.6ms preprocess, 19.2ms inference, 0.3ms postprocess per image at shape (1, 3, 256, 416)\n",
      "\n",
      "0: 256x416 3 persons, 37.6ms\n",
      "Speed: 1.8ms preprocess, 37.6ms inference, 0.4ms postprocess per image at shape (1, 3, 256, 416)\n",
      "\n",
      "0: 256x416 3 persons, 19.0ms\n",
      "Speed: 0.8ms preprocess, 19.0ms inference, 0.3ms postprocess per image at shape (1, 3, 256, 416)\n",
      "\n",
      "0: 256x416 3 persons, 18.9ms\n",
      "Speed: 0.5ms preprocess, 18.9ms inference, 0.3ms postprocess per image at shape (1, 3, 256, 416)\n"
     ]
    },
    {
     "name": "stdout",
     "output_type": "stream",
     "text": [
      "id :  tensor([1., 3., 2.])\n",
      "id :  tensor([1., 3., 2.])\n",
      "id :  tensor([1., 3., 2.])\n",
      "id :  tensor([1., 3., 2.])\n"
     ]
    },
    {
     "name": "stderr",
     "output_type": "stream",
     "text": [
      "\n",
      "0: 256x416 3 persons, 20.0ms\n",
      "Speed: 0.7ms preprocess, 20.0ms inference, 0.3ms postprocess per image at shape (1, 3, 256, 416)\n",
      "\n",
      "0: 256x416 3 persons, 19.1ms\n",
      "Speed: 0.6ms preprocess, 19.1ms inference, 0.3ms postprocess per image at shape (1, 3, 256, 416)\n",
      "\n",
      "0: 256x416 2 persons, 19.1ms\n",
      "Speed: 0.6ms preprocess, 19.1ms inference, 0.3ms postprocess per image at shape (1, 3, 256, 416)\n",
      "\n",
      "0: 256x416 2 persons, 19.3ms\n",
      "Speed: 0.6ms preprocess, 19.3ms inference, 0.3ms postprocess per image at shape (1, 3, 256, 416)\n",
      "\n"
     ]
    },
    {
     "name": "stdout",
     "output_type": "stream",
     "text": [
      "id :  tensor([1., 3., 2.])\n",
      "id :  tensor([1., 3., 2.])\n",
      "id :  tensor([1., 2.])\n",
      "id :  tensor([1., 2.])\n"
     ]
    },
    {
     "name": "stderr",
     "output_type": "stream",
     "text": [
      "0: 256x416 3 persons, 19.2ms\n",
      "Speed: 0.7ms preprocess, 19.2ms inference, 0.4ms postprocess per image at shape (1, 3, 256, 416)\n",
      "\n",
      "0: 256x416 3 persons, 19.2ms\n",
      "Speed: 0.7ms preprocess, 19.2ms inference, 0.3ms postprocess per image at shape (1, 3, 256, 416)\n",
      "\n",
      "0: 256x416 3 persons, 19.1ms\n",
      "Speed: 0.5ms preprocess, 19.1ms inference, 0.3ms postprocess per image at shape (1, 3, 256, 416)\n",
      "\n",
      "0: 256x416 3 persons, 19.8ms\n",
      "Speed: 0.6ms preprocess, 19.8ms inference, 0.3ms postprocess per image at shape (1, 3, 256, 416)\n",
      "\n"
     ]
    },
    {
     "name": "stdout",
     "output_type": "stream",
     "text": [
      "id :  tensor([1., 2., 3.])\n",
      "id :  tensor([1., 2., 3.])\n",
      "id :  tensor([1., 2., 3.])\n",
      "id :  tensor([1., 2., 3.])\n"
     ]
    },
    {
     "name": "stderr",
     "output_type": "stream",
     "text": [
      "0: 256x416 3 persons, 19.7ms\n",
      "Speed: 0.6ms preprocess, 19.7ms inference, 0.3ms postprocess per image at shape (1, 3, 256, 416)\n",
      "\n",
      "0: 256x416 3 persons, 19.4ms\n",
      "Speed: 0.6ms preprocess, 19.4ms inference, 0.3ms postprocess per image at shape (1, 3, 256, 416)\n",
      "\n",
      "0: 256x416 3 persons, 19.4ms\n",
      "Speed: 0.7ms preprocess, 19.4ms inference, 0.3ms postprocess per image at shape (1, 3, 256, 416)\n",
      "\n",
      "0: 256x416 3 persons, 19.1ms\n",
      "Speed: 0.6ms preprocess, 19.1ms inference, 0.3ms postprocess per image at shape (1, 3, 256, 416)\n",
      "\n"
     ]
    },
    {
     "name": "stdout",
     "output_type": "stream",
     "text": [
      "id :  tensor([1., 2., 3.])\n",
      "id :  tensor([1., 2., 3.])\n",
      "id :  tensor([1., 2., 3.])\n",
      "id :  tensor([1., 2., 3.])\n"
     ]
    },
    {
     "name": "stderr",
     "output_type": "stream",
     "text": [
      "0: 256x416 3 persons, 19.0ms\n",
      "Speed: 0.7ms preprocess, 19.0ms inference, 0.3ms postprocess per image at shape (1, 3, 256, 416)\n",
      "\n",
      "0: 256x416 3 persons, 19.4ms\n",
      "Speed: 0.6ms preprocess, 19.4ms inference, 0.3ms postprocess per image at shape (1, 3, 256, 416)\n",
      "\n",
      "0: 256x416 3 persons, 19.2ms\n",
      "Speed: 0.6ms preprocess, 19.2ms inference, 0.3ms postprocess per image at shape (1, 3, 256, 416)\n",
      "\n",
      "0: 256x416 3 persons, 19.0ms\n",
      "Speed: 0.6ms preprocess, 19.0ms inference, 0.3ms postprocess per image at shape (1, 3, 256, 416)\n",
      "\n"
     ]
    },
    {
     "name": "stdout",
     "output_type": "stream",
     "text": [
      "id :  tensor([1., 2., 3.])\n",
      "id :  tensor([1., 2., 3.])\n",
      "id :  tensor([1., 2., 3.])\n",
      "id :  tensor([1., 2., 3.])\n"
     ]
    },
    {
     "name": "stderr",
     "output_type": "stream",
     "text": [
      "0: 256x416 3 persons, 19.8ms\n",
      "Speed: 0.6ms preprocess, 19.8ms inference, 0.3ms postprocess per image at shape (1, 3, 256, 416)\n",
      "\n",
      "0: 256x416 2 persons, 19.7ms\n",
      "Speed: 0.6ms preprocess, 19.7ms inference, 0.3ms postprocess per image at shape (1, 3, 256, 416)\n",
      "\n",
      "0: 256x416 2 persons, 19.0ms\n",
      "Speed: 0.6ms preprocess, 19.0ms inference, 0.3ms postprocess per image at shape (1, 3, 256, 416)\n",
      "\n",
      "0: 256x416 2 persons, 18.9ms\n",
      "Speed: 0.7ms preprocess, 18.9ms inference, 0.3ms postprocess per image at shape (1, 3, 256, 416)\n",
      "\n"
     ]
    },
    {
     "name": "stdout",
     "output_type": "stream",
     "text": [
      "id :  tensor([1., 2., 3.])\n",
      "id :  tensor([1., 2.])\n",
      "id :  tensor([1., 2.])\n",
      "id :  tensor([1., 2.])\n"
     ]
    },
    {
     "name": "stderr",
     "output_type": "stream",
     "text": [
      "0: 256x416 2 persons, 20.4ms\n",
      "Speed: 0.6ms preprocess, 20.4ms inference, 0.3ms postprocess per image at shape (1, 3, 256, 416)\n",
      "\n",
      "0: 256x416 2 persons, 19.5ms\n",
      "Speed: 0.6ms preprocess, 19.5ms inference, 0.3ms postprocess per image at shape (1, 3, 256, 416)\n",
      "\n",
      "0: 256x416 2 persons, 19.4ms\n",
      "Speed: 0.6ms preprocess, 19.4ms inference, 0.3ms postprocess per image at shape (1, 3, 256, 416)\n",
      "\n",
      "0: 256x416 2 persons, 18.6ms\n",
      "Speed: 0.6ms preprocess, 18.6ms inference, 0.3ms postprocess per image at shape (1, 3, 256, 416)\n",
      "\n"
     ]
    },
    {
     "name": "stdout",
     "output_type": "stream",
     "text": [
      "id :  tensor([1., 2.])\n",
      "id :  tensor([1., 2.])\n",
      "id :  tensor([1., 2.])\n",
      "id :  tensor([1., 2.])\n"
     ]
    },
    {
     "name": "stderr",
     "output_type": "stream",
     "text": [
      "0: 256x416 3 persons, 19.5ms\n",
      "Speed: 0.6ms preprocess, 19.5ms inference, 0.3ms postprocess per image at shape (1, 3, 256, 416)\n",
      "\n",
      "0: 256x416 3 persons, 19.8ms\n",
      "Speed: 0.7ms preprocess, 19.8ms inference, 0.3ms postprocess per image at shape (1, 3, 256, 416)\n",
      "\n",
      "0: 256x416 3 persons, 19.3ms\n",
      "Speed: 0.7ms preprocess, 19.3ms inference, 0.3ms postprocess per image at shape (1, 3, 256, 416)\n",
      "\n",
      "0: 256x416 2 persons, 19.8ms\n",
      "Speed: 0.7ms preprocess, 19.8ms inference, 0.3ms postprocess per image at shape (1, 3, 256, 416)\n",
      "\n"
     ]
    },
    {
     "name": "stdout",
     "output_type": "stream",
     "text": [
      "id :  tensor([1., 2., 3.])\n",
      "id :  tensor([1., 2., 3.])\n",
      "id :  tensor([1., 2., 3.])\n",
      "id :  tensor([1., 2.])\n"
     ]
    },
    {
     "name": "stderr",
     "output_type": "stream",
     "text": [
      "0: 256x416 2 persons, 19.3ms\n",
      "Speed: 0.6ms preprocess, 19.3ms inference, 0.3ms postprocess per image at shape (1, 3, 256, 416)\n",
      "\n",
      "0: 256x416 2 persons, 20.0ms\n",
      "Speed: 0.6ms preprocess, 20.0ms inference, 0.3ms postprocess per image at shape (1, 3, 256, 416)\n",
      "\n",
      "0: 256x416 2 persons, 19.7ms\n",
      "Speed: 0.6ms preprocess, 19.7ms inference, 0.3ms postprocess per image at shape (1, 3, 256, 416)\n",
      "\n",
      "0: 256x416 2 persons, 19.2ms\n",
      "Speed: 0.7ms preprocess, 19.2ms inference, 0.3ms postprocess per image at shape (1, 3, 256, 416)\n",
      "\n"
     ]
    },
    {
     "name": "stdout",
     "output_type": "stream",
     "text": [
      "id :  tensor([1., 2.])\n",
      "id :  tensor([1., 2.])\n",
      "id :  tensor([1., 2.])\n",
      "id :  tensor([1., 2.])\n"
     ]
    },
    {
     "name": "stderr",
     "output_type": "stream",
     "text": [
      "0: 256x416 2 persons, 19.3ms\n",
      "Speed: 0.6ms preprocess, 19.3ms inference, 0.3ms postprocess per image at shape (1, 3, 256, 416)\n",
      "\n",
      "0: 256x416 2 persons, 19.9ms\n",
      "Speed: 0.6ms preprocess, 19.9ms inference, 0.3ms postprocess per image at shape (1, 3, 256, 416)\n",
      "\n",
      "0: 256x416 2 persons, 19.3ms\n",
      "Speed: 0.7ms preprocess, 19.3ms inference, 0.4ms postprocess per image at shape (1, 3, 256, 416)\n",
      "\n",
      "0: 256x416 2 persons, 19.2ms\n",
      "Speed: 0.6ms preprocess, 19.2ms inference, 0.3ms postprocess per image at shape (1, 3, 256, 416)\n",
      "\n"
     ]
    },
    {
     "name": "stdout",
     "output_type": "stream",
     "text": [
      "id :  tensor([1., 2.])\n",
      "id :  tensor([1., 2.])\n",
      "id :  tensor([1., 2.])\n",
      "id :  tensor([1., 2.])\n"
     ]
    },
    {
     "name": "stderr",
     "output_type": "stream",
     "text": [
      "0: 256x416 2 persons, 19.5ms\n",
      "Speed: 0.6ms preprocess, 19.5ms inference, 0.3ms postprocess per image at shape (1, 3, 256, 416)\n",
      "\n",
      "0: 256x416 2 persons, 20.1ms\n",
      "Speed: 0.6ms preprocess, 20.1ms inference, 0.3ms postprocess per image at shape (1, 3, 256, 416)\n",
      "\n",
      "0: 256x416 2 persons, 19.6ms\n",
      "Speed: 0.6ms preprocess, 19.6ms inference, 0.3ms postprocess per image at shape (1, 3, 256, 416)\n",
      "\n",
      "0: 256x416 2 persons, 19.3ms\n",
      "Speed: 0.8ms preprocess, 19.3ms inference, 0.3ms postprocess per image at shape (1, 3, 256, 416)\n",
      "\n"
     ]
    },
    {
     "name": "stdout",
     "output_type": "stream",
     "text": [
      "id :  tensor([1., 2.])\n",
      "id :  tensor([1., 2.])\n",
      "id :  tensor([1., 2.])\n",
      "id :  tensor([1., 2.])\n"
     ]
    },
    {
     "name": "stderr",
     "output_type": "stream",
     "text": [
      "0: 256x416 2 persons, 19.4ms\n",
      "Speed: 0.7ms preprocess, 19.4ms inference, 0.3ms postprocess per image at shape (1, 3, 256, 416)\n",
      "\n",
      "0: 256x416 2 persons, 18.9ms\n",
      "Speed: 0.6ms preprocess, 18.9ms inference, 0.3ms postprocess per image at shape (1, 3, 256, 416)\n",
      "\n",
      "0: 256x416 2 persons, 19.4ms\n",
      "Speed: 0.6ms preprocess, 19.4ms inference, 0.3ms postprocess per image at shape (1, 3, 256, 416)\n",
      "\n",
      "0: 256x416 2 persons, 19.2ms\n",
      "Speed: 0.6ms preprocess, 19.2ms inference, 0.3ms postprocess per image at shape (1, 3, 256, 416)\n",
      "\n"
     ]
    },
    {
     "name": "stdout",
     "output_type": "stream",
     "text": [
      "id :  tensor([1., 2.])\n",
      "id :  tensor([1., 2.])\n",
      "id :  tensor([1., 2.])\n",
      "id :  tensor([1., 2.])\n"
     ]
    },
    {
     "name": "stderr",
     "output_type": "stream",
     "text": [
      "0: 256x416 2 persons, 19.7ms\n",
      "Speed: 0.6ms preprocess, 19.7ms inference, 0.3ms postprocess per image at shape (1, 3, 256, 416)\n",
      "\n",
      "0: 256x416 2 persons, 19.7ms\n",
      "Speed: 0.6ms preprocess, 19.7ms inference, 0.3ms postprocess per image at shape (1, 3, 256, 416)\n",
      "\n",
      "0: 256x416 2 persons, 36.6ms\n",
      "Speed: 1.2ms preprocess, 36.6ms inference, 0.3ms postprocess per image at shape (1, 3, 256, 416)\n",
      "\n",
      "0: 256x416 2 persons, 19.3ms\n",
      "Speed: 0.6ms preprocess, 19.3ms inference, 0.3ms postprocess per image at shape (1, 3, 256, 416)\n"
     ]
    },
    {
     "name": "stdout",
     "output_type": "stream",
     "text": [
      "id :  tensor([1., 2.])\n",
      "id :  tensor([1., 2.])\n",
      "id :  tensor([1., 2.])\n"
     ]
    },
    {
     "name": "stderr",
     "output_type": "stream",
     "text": [
      "\n",
      "0: 256x416 3 persons, 20.2ms\n",
      "Speed: 0.8ms preprocess, 20.2ms inference, 0.3ms postprocess per image at shape (1, 3, 256, 416)\n",
      "\n",
      "0: 256x416 2 persons, 19.3ms\n",
      "Speed: 0.7ms preprocess, 19.3ms inference, 0.3ms postprocess per image at shape (1, 3, 256, 416)\n",
      "\n",
      "0: 256x416 3 persons, 19.3ms\n",
      "Speed: 0.7ms preprocess, 19.3ms inference, 0.3ms postprocess per image at shape (1, 3, 256, 416)\n",
      "\n"
     ]
    },
    {
     "name": "stdout",
     "output_type": "stream",
     "text": [
      "id :  tensor([1., 2.])\n",
      "id :  tensor([1., 2., 3.])\n",
      "id :  tensor([1., 2.])\n",
      "id :  tensor([1., 2., 3.])\n"
     ]
    },
    {
     "name": "stderr",
     "output_type": "stream",
     "text": [
      "0: 256x416 3 persons, 19.5ms\n",
      "Speed: 0.6ms preprocess, 19.5ms inference, 0.3ms postprocess per image at shape (1, 3, 256, 416)\n",
      "\n",
      "0: 256x416 3 persons, 19.0ms\n",
      "Speed: 0.7ms preprocess, 19.0ms inference, 0.3ms postprocess per image at shape (1, 3, 256, 416)\n",
      "\n",
      "0: 256x416 3 persons, 19.2ms\n",
      "Speed: 0.6ms preprocess, 19.2ms inference, 0.3ms postprocess per image at shape (1, 3, 256, 416)\n",
      "\n",
      "0: 256x416 3 persons, 19.6ms\n",
      "Speed: 0.6ms preprocess, 19.6ms inference, 0.3ms postprocess per image at shape (1, 3, 256, 416)\n",
      "\n"
     ]
    },
    {
     "name": "stdout",
     "output_type": "stream",
     "text": [
      "id :  tensor([1., 2., 3.])\n",
      "id :  tensor([1., 2., 3.])\n",
      "id :  tensor([1., 2., 3.])\n",
      "id :  tensor([1., 2., 3.])\n"
     ]
    },
    {
     "name": "stderr",
     "output_type": "stream",
     "text": [
      "0: 256x416 3 persons, 19.4ms\n",
      "Speed: 0.6ms preprocess, 19.4ms inference, 0.3ms postprocess per image at shape (1, 3, 256, 416)\n",
      "\n",
      "0: 256x416 3 persons, 19.9ms\n",
      "Speed: 0.6ms preprocess, 19.9ms inference, 0.3ms postprocess per image at shape (1, 3, 256, 416)\n",
      "\n",
      "0: 256x416 3 persons, 18.8ms\n",
      "Speed: 0.6ms preprocess, 18.8ms inference, 0.3ms postprocess per image at shape (1, 3, 256, 416)\n",
      "\n",
      "0: 256x416 3 persons, 19.0ms\n",
      "Speed: 0.6ms preprocess, 19.0ms inference, 0.3ms postprocess per image at shape (1, 3, 256, 416)\n",
      "\n"
     ]
    },
    {
     "name": "stdout",
     "output_type": "stream",
     "text": [
      "id :  tensor([1., 2., 3.])\n",
      "id :  tensor([1., 2., 3.])\n",
      "id :  tensor([1., 2., 3.])\n",
      "id :  tensor([1., 2., 3.])\n"
     ]
    },
    {
     "name": "stderr",
     "output_type": "stream",
     "text": [
      "0: 256x416 3 persons, 20.1ms\n",
      "Speed: 0.5ms preprocess, 20.1ms inference, 0.3ms postprocess per image at shape (1, 3, 256, 416)\n",
      "\n",
      "0: 256x416 2 persons, 18.9ms\n",
      "Speed: 0.6ms preprocess, 18.9ms inference, 0.3ms postprocess per image at shape (1, 3, 256, 416)\n",
      "\n",
      "0: 256x416 2 persons, 18.4ms\n",
      "Speed: 0.6ms preprocess, 18.4ms inference, 0.3ms postprocess per image at shape (1, 3, 256, 416)\n",
      "\n",
      "0: 256x416 2 persons, 19.3ms\n",
      "Speed: 0.7ms preprocess, 19.3ms inference, 0.3ms postprocess per image at shape (1, 3, 256, 416)\n",
      "\n"
     ]
    },
    {
     "name": "stdout",
     "output_type": "stream",
     "text": [
      "id :  tensor([1., 2., 3.])\n",
      "id :  tensor([1., 2.])\n",
      "id :  tensor([1., 2.])\n",
      "id :  tensor([1., 2.])\n"
     ]
    },
    {
     "name": "stderr",
     "output_type": "stream",
     "text": [
      "0: 256x416 3 persons, 19.9ms\n",
      "Speed: 0.6ms preprocess, 19.9ms inference, 0.3ms postprocess per image at shape (1, 3, 256, 416)\n",
      "\n",
      "0: 256x416 3 persons, 19.4ms\n",
      "Speed: 0.6ms preprocess, 19.4ms inference, 0.3ms postprocess per image at shape (1, 3, 256, 416)\n",
      "\n",
      "0: 256x416 3 persons, 19.4ms\n",
      "Speed: 0.5ms preprocess, 19.4ms inference, 0.3ms postprocess per image at shape (1, 3, 256, 416)\n",
      "\n",
      "0: 256x416 3 persons, 18.9ms\n",
      "Speed: 0.5ms preprocess, 18.9ms inference, 0.3ms postprocess per image at shape (1, 3, 256, 416)\n",
      "\n"
     ]
    },
    {
     "name": "stdout",
     "output_type": "stream",
     "text": [
      "id :  tensor([1., 2., 3.])\n",
      "id :  tensor([1., 2., 3.])\n",
      "id :  tensor([1., 2., 3.])\n",
      "id :  tensor([1., 2., 3.])\n"
     ]
    },
    {
     "name": "stderr",
     "output_type": "stream",
     "text": [
      "0: 256x416 3 persons, 19.7ms\n",
      "Speed: 0.5ms preprocess, 19.7ms inference, 0.3ms postprocess per image at shape (1, 3, 256, 416)\n",
      "\n",
      "0: 256x416 3 persons, 19.1ms\n",
      "Speed: 0.6ms preprocess, 19.1ms inference, 0.3ms postprocess per image at shape (1, 3, 256, 416)\n",
      "\n",
      "0: 256x416 3 persons, 19.6ms\n",
      "Speed: 0.6ms preprocess, 19.6ms inference, 0.3ms postprocess per image at shape (1, 3, 256, 416)\n",
      "\n",
      "0: 256x416 3 persons, 19.7ms\n",
      "Speed: 0.6ms preprocess, 19.7ms inference, 0.3ms postprocess per image at shape (1, 3, 256, 416)\n",
      "\n"
     ]
    },
    {
     "name": "stdout",
     "output_type": "stream",
     "text": [
      "id :  tensor([1., 2., 3.])\n",
      "id :  tensor([1., 2., 3.])\n",
      "id :  tensor([1., 2., 3.])\n",
      "id :  tensor([1., 2., 3.])\n"
     ]
    },
    {
     "name": "stderr",
     "output_type": "stream",
     "text": [
      "0: 256x416 3 persons, 19.7ms\n",
      "Speed: 0.7ms preprocess, 19.7ms inference, 0.3ms postprocess per image at shape (1, 3, 256, 416)\n",
      "\n",
      "0: 256x416 3 persons, 19.5ms\n",
      "Speed: 0.6ms preprocess, 19.5ms inference, 0.3ms postprocess per image at shape (1, 3, 256, 416)\n",
      "\n",
      "0: 256x416 3 persons, 19.0ms\n",
      "Speed: 0.5ms preprocess, 19.0ms inference, 0.3ms postprocess per image at shape (1, 3, 256, 416)\n",
      "\n",
      "0: 256x416 3 persons, 18.7ms\n",
      "Speed: 0.6ms preprocess, 18.7ms inference, 0.3ms postprocess per image at shape (1, 3, 256, 416)\n",
      "\n"
     ]
    },
    {
     "name": "stdout",
     "output_type": "stream",
     "text": [
      "id :  tensor([1., 2., 3.])\n",
      "id :  tensor([1., 2., 3.])\n",
      "id :  tensor([1., 2., 3.])\n",
      "id :  tensor([1., 2., 3.])\n"
     ]
    },
    {
     "name": "stderr",
     "output_type": "stream",
     "text": [
      "0: 256x416 3 persons, 19.3ms\n",
      "Speed: 0.6ms preprocess, 19.3ms inference, 0.3ms postprocess per image at shape (1, 3, 256, 416)\n",
      "\n",
      "0: 256x416 3 persons, 20.0ms\n",
      "Speed: 0.6ms preprocess, 20.0ms inference, 0.3ms postprocess per image at shape (1, 3, 256, 416)\n",
      "\n",
      "0: 256x416 3 persons, 18.9ms\n",
      "Speed: 0.6ms preprocess, 18.9ms inference, 0.3ms postprocess per image at shape (1, 3, 256, 416)\n",
      "\n",
      "0: 256x416 3 persons, 19.3ms\n",
      "Speed: 0.6ms preprocess, 19.3ms inference, 0.3ms postprocess per image at shape (1, 3, 256, 416)\n",
      "\n"
     ]
    },
    {
     "name": "stdout",
     "output_type": "stream",
     "text": [
      "id :  tensor([1., 2., 3.])\n",
      "id :  tensor([1., 2., 3.])\n",
      "id :  tensor([1., 2., 3.])\n",
      "id :  tensor([1., 2., 3.])\n"
     ]
    },
    {
     "name": "stderr",
     "output_type": "stream",
     "text": [
      "0: 256x416 3 persons, 19.6ms\n",
      "Speed: 0.8ms preprocess, 19.6ms inference, 0.3ms postprocess per image at shape (1, 3, 256, 416)\n",
      "\n",
      "0: 256x416 3 persons, 19.6ms\n",
      "Speed: 0.6ms preprocess, 19.6ms inference, 0.3ms postprocess per image at shape (1, 3, 256, 416)\n",
      "\n",
      "0: 256x416 3 persons, 19.9ms\n",
      "Speed: 0.6ms preprocess, 19.9ms inference, 0.3ms postprocess per image at shape (1, 3, 256, 416)\n",
      "\n",
      "0: 256x416 3 persons, 18.9ms\n",
      "Speed: 0.8ms preprocess, 18.9ms inference, 0.3ms postprocess per image at shape (1, 3, 256, 416)\n",
      "\n"
     ]
    },
    {
     "name": "stdout",
     "output_type": "stream",
     "text": [
      "id :  tensor([1., 2., 3.])\n",
      "id :  tensor([1., 2., 3.])\n",
      "id :  tensor([1., 2., 3.])\n",
      "id :  tensor([1., 2., 3.])\n"
     ]
    },
    {
     "name": "stderr",
     "output_type": "stream",
     "text": [
      "0: 256x416 3 persons, 19.8ms\n",
      "Speed: 0.5ms preprocess, 19.8ms inference, 0.3ms postprocess per image at shape (1, 3, 256, 416)\n",
      "\n",
      "0: 256x416 3 persons, 20.5ms\n",
      "Speed: 0.6ms preprocess, 20.5ms inference, 0.3ms postprocess per image at shape (1, 3, 256, 416)\n",
      "\n",
      "0: 256x416 3 persons, 19.3ms\n",
      "Speed: 0.5ms preprocess, 19.3ms inference, 0.3ms postprocess per image at shape (1, 3, 256, 416)\n",
      "\n",
      "0: 256x416 3 persons, 19.5ms\n",
      "Speed: 0.5ms preprocess, 19.5ms inference, 0.3ms postprocess per image at shape (1, 3, 256, 416)\n",
      "\n"
     ]
    },
    {
     "name": "stdout",
     "output_type": "stream",
     "text": [
      "id :  tensor([1., 2., 3.])\n",
      "id :  tensor([1., 2., 3.])\n",
      "id :  tensor([1., 2., 3.])\n",
      "id :  tensor([1., 2., 3.])\n"
     ]
    },
    {
     "name": "stderr",
     "output_type": "stream",
     "text": [
      "0: 256x416 3 persons, 20.6ms\n",
      "Speed: 0.7ms preprocess, 20.6ms inference, 0.3ms postprocess per image at shape (1, 3, 256, 416)\n",
      "\n",
      "0: 256x416 3 persons, 19.4ms\n",
      "Speed: 0.7ms preprocess, 19.4ms inference, 0.3ms postprocess per image at shape (1, 3, 256, 416)\n",
      "\n",
      "0: 256x416 2 persons, 18.9ms\n",
      "Speed: 0.6ms preprocess, 18.9ms inference, 0.3ms postprocess per image at shape (1, 3, 256, 416)\n",
      "\n",
      "0: 256x416 2 persons, 20.1ms\n",
      "Speed: 0.6ms preprocess, 20.1ms inference, 0.3ms postprocess per image at shape (1, 3, 256, 416)\n",
      "\n"
     ]
    },
    {
     "name": "stdout",
     "output_type": "stream",
     "text": [
      "id :  tensor([1., 2., 3.])\n",
      "id :  tensor([1., 2., 3.])\n",
      "id :  tensor([1., 2.])\n",
      "id :  tensor([1., 2.])\n"
     ]
    },
    {
     "name": "stderr",
     "output_type": "stream",
     "text": [
      "0: 256x416 2 persons, 19.6ms\n",
      "Speed: 0.6ms preprocess, 19.6ms inference, 0.3ms postprocess per image at shape (1, 3, 256, 416)\n",
      "\n",
      "0: 256x416 2 persons, 20.2ms\n",
      "Speed: 0.7ms preprocess, 20.2ms inference, 0.3ms postprocess per image at shape (1, 3, 256, 416)\n",
      "\n",
      "0: 256x416 2 persons, 20.2ms\n",
      "Speed: 0.6ms preprocess, 20.2ms inference, 0.3ms postprocess per image at shape (1, 3, 256, 416)\n",
      "\n",
      "0: 256x416 2 persons, 37.6ms\n",
      "Speed: 2.5ms preprocess, 37.6ms inference, 0.3ms postprocess per image at shape (1, 3, 256, 416)\n"
     ]
    },
    {
     "name": "stdout",
     "output_type": "stream",
     "text": [
      "id :  tensor([1., 2.])\n",
      "id :  tensor([1., 2.])\n",
      "id :  tensor([1., 2.])\n",
      "id :  tensor([1., 2.])\n"
     ]
    },
    {
     "name": "stderr",
     "output_type": "stream",
     "text": [
      "\n",
      "0: 256x416 2 persons, 20.0ms\n",
      "Speed: 0.7ms preprocess, 20.0ms inference, 0.4ms postprocess per image at shape (1, 3, 256, 416)\n",
      "\n",
      "0: 256x416 2 persons, 19.3ms\n",
      "Speed: 0.6ms preprocess, 19.3ms inference, 0.3ms postprocess per image at shape (1, 3, 256, 416)\n",
      "\n",
      "0: 256x416 3 persons, 19.6ms\n",
      "Speed: 0.7ms preprocess, 19.6ms inference, 0.3ms postprocess per image at shape (1, 3, 256, 416)\n",
      "\n",
      "0: 256x416 3 persons, 20.0ms\n",
      "Speed: 0.6ms preprocess, 20.0ms inference, 0.3ms postprocess per image at shape (1, 3, 256, 416)\n",
      "\n"
     ]
    },
    {
     "name": "stdout",
     "output_type": "stream",
     "text": [
      "id :  tensor([1., 2.])\n",
      "id :  tensor([1., 2.])\n",
      "id :  tensor([1., 2., 3.])\n",
      "id :  tensor([1., 2., 3.])\n"
     ]
    },
    {
     "name": "stderr",
     "output_type": "stream",
     "text": [
      "0: 256x416 3 persons, 20.9ms\n",
      "Speed: 0.9ms preprocess, 20.9ms inference, 0.3ms postprocess per image at shape (1, 3, 256, 416)\n",
      "\n",
      "0: 256x416 3 persons, 20.1ms\n",
      "Speed: 0.6ms preprocess, 20.1ms inference, 0.3ms postprocess per image at shape (1, 3, 256, 416)\n",
      "\n",
      "0: 256x416 3 persons, 20.4ms\n",
      "Speed: 0.7ms preprocess, 20.4ms inference, 0.3ms postprocess per image at shape (1, 3, 256, 416)\n",
      "\n",
      "0: 256x416 3 persons, 20.7ms\n",
      "Speed: 0.6ms preprocess, 20.7ms inference, 0.3ms postprocess per image at shape (1, 3, 256, 416)\n"
     ]
    },
    {
     "name": "stdout",
     "output_type": "stream",
     "text": [
      "id :  tensor([1., 2., 3.])\n",
      "id :  tensor([1., 2., 3.])\n",
      "id :  tensor([1., 2., 3.])\n",
      "id :  tensor([1., 2., 3.])\n"
     ]
    },
    {
     "name": "stderr",
     "output_type": "stream",
     "text": [
      "\n",
      "0: 256x416 3 persons, 20.1ms\n",
      "Speed: 0.6ms preprocess, 20.1ms inference, 0.3ms postprocess per image at shape (1, 3, 256, 416)\n",
      "\n",
      "0: 256x416 3 persons, 19.5ms\n",
      "Speed: 0.6ms preprocess, 19.5ms inference, 0.3ms postprocess per image at shape (1, 3, 256, 416)\n",
      "\n",
      "0: 256x416 3 persons, 19.7ms\n",
      "Speed: 0.6ms preprocess, 19.7ms inference, 0.4ms postprocess per image at shape (1, 3, 256, 416)\n",
      "\n",
      "0: 256x416 3 persons, 19.0ms\n",
      "Speed: 0.6ms preprocess, 19.0ms inference, 0.3ms postprocess per image at shape (1, 3, 256, 416)\n"
     ]
    },
    {
     "name": "stdout",
     "output_type": "stream",
     "text": [
      "id :  tensor([1., 2., 3.])\n",
      "id :  tensor([1., 2., 3.])\n",
      "id :  tensor([1., 2., 3.])\n",
      "id :  tensor([1., 2., 3.])\n"
     ]
    },
    {
     "name": "stderr",
     "output_type": "stream",
     "text": [
      "\n",
      "0: 256x416 3 persons, 30.6ms\n",
      "Speed: 1.0ms preprocess, 30.6ms inference, 0.3ms postprocess per image at shape (1, 3, 256, 416)\n",
      "\n",
      "0: 256x416 3 persons, 21.9ms\n",
      "Speed: 0.9ms preprocess, 21.9ms inference, 0.3ms postprocess per image at shape (1, 3, 256, 416)\n",
      "\n",
      "0: 256x416 3 persons, 20.1ms\n",
      "Speed: 0.6ms preprocess, 20.1ms inference, 0.3ms postprocess per image at shape (1, 3, 256, 416)\n",
      "\n",
      "0: 256x416 3 persons, 20.5ms\n",
      "Speed: 0.6ms preprocess, 20.5ms inference, 0.3ms postprocess per image at shape (1, 3, 256, 416)\n"
     ]
    },
    {
     "name": "stdout",
     "output_type": "stream",
     "text": [
      "id :  tensor([1., 2., 3.])\n",
      "id :  tensor([1., 2., 3.])\n",
      "id :  tensor([1., 2., 3.])\n",
      "id :  tensor([1., 2., 3.])\n"
     ]
    },
    {
     "name": "stderr",
     "output_type": "stream",
     "text": [
      "\n",
      "0: 256x416 3 persons, 21.5ms\n",
      "Speed: 0.7ms preprocess, 21.5ms inference, 0.3ms postprocess per image at shape (1, 3, 256, 416)\n",
      "\n",
      "0: 256x416 3 persons, 21.6ms\n",
      "Speed: 0.7ms preprocess, 21.6ms inference, 0.3ms postprocess per image at shape (1, 3, 256, 416)\n",
      "\n",
      "0: 256x416 3 persons, 21.4ms\n",
      "Speed: 0.8ms preprocess, 21.4ms inference, 0.3ms postprocess per image at shape (1, 3, 256, 416)\n",
      "\n",
      "0: 256x416 3 persons, 20.9ms\n",
      "Speed: 0.8ms preprocess, 20.9ms inference, 0.3ms postprocess per image at shape (1, 3, 256, 416)\n"
     ]
    },
    {
     "name": "stdout",
     "output_type": "stream",
     "text": [
      "id :  tensor([1., 2., 3.])\n",
      "id :  tensor([1., 2., 3.])\n",
      "id :  tensor([1., 2., 3.])\n",
      "id :  tensor([1., 2., 3.])\n"
     ]
    },
    {
     "name": "stderr",
     "output_type": "stream",
     "text": [
      "\n",
      "0: 256x416 3 persons, 20.1ms\n",
      "Speed: 0.8ms preprocess, 20.1ms inference, 0.3ms postprocess per image at shape (1, 3, 256, 416)\n",
      "\n",
      "0: 256x416 3 persons, 21.4ms\n",
      "Speed: 0.7ms preprocess, 21.4ms inference, 0.3ms postprocess per image at shape (1, 3, 256, 416)\n",
      "\n",
      "0: 256x416 3 persons, 21.5ms\n",
      "Speed: 0.6ms preprocess, 21.5ms inference, 0.3ms postprocess per image at shape (1, 3, 256, 416)\n",
      "\n",
      "0: 256x416 3 persons, 20.3ms\n",
      "Speed: 0.8ms preprocess, 20.3ms inference, 0.3ms postprocess per image at shape (1, 3, 256, 416)\n"
     ]
    },
    {
     "name": "stdout",
     "output_type": "stream",
     "text": [
      "id :  tensor([1., 2., 3.])\n",
      "id :  tensor([1., 2., 3.])\n",
      "id :  tensor([1., 2., 3.])\n",
      "id :  tensor([1., 2., 3.])\n"
     ]
    },
    {
     "name": "stderr",
     "output_type": "stream",
     "text": [
      "\n",
      "0: 256x416 2 persons, 24.5ms\n",
      "Speed: 1.2ms preprocess, 24.5ms inference, 0.4ms postprocess per image at shape (1, 3, 256, 416)\n",
      "\n",
      "0: 256x416 2 persons, 21.6ms\n",
      "Speed: 0.7ms preprocess, 21.6ms inference, 0.3ms postprocess per image at shape (1, 3, 256, 416)\n",
      "\n",
      "0: 256x416 2 persons, 21.2ms\n",
      "Speed: 0.9ms preprocess, 21.2ms inference, 0.3ms postprocess per image at shape (1, 3, 256, 416)\n",
      "\n",
      "0: 256x416 2 persons, 23.5ms\n",
      "Speed: 0.8ms preprocess, 23.5ms inference, 0.3ms postprocess per image at shape (1, 3, 256, 416)\n"
     ]
    },
    {
     "name": "stdout",
     "output_type": "stream",
     "text": [
      "id :  tensor([1., 2.])\n",
      "id :  tensor([1., 2.])\n",
      "id :  tensor([1., 2.])\n",
      "id :  tensor([1., 2.])\n"
     ]
    },
    {
     "name": "stderr",
     "output_type": "stream",
     "text": [
      "\n",
      "0: 256x416 1 person, 23.0ms\n",
      "Speed: 1.2ms preprocess, 23.0ms inference, 0.3ms postprocess per image at shape (1, 3, 256, 416)\n",
      "\n",
      "0: 256x416 1 person, 22.6ms\n",
      "Speed: 1.0ms preprocess, 22.6ms inference, 0.3ms postprocess per image at shape (1, 3, 256, 416)\n",
      "\n",
      "0: 256x416 1 person, 22.6ms\n",
      "Speed: 1.1ms preprocess, 22.6ms inference, 0.3ms postprocess per image at shape (1, 3, 256, 416)\n",
      "\n",
      "0: 256x416 2 persons, 24.8ms\n",
      "Speed: 1.0ms preprocess, 24.8ms inference, 0.3ms postprocess per image at shape (1, 3, 256, 416)\n"
     ]
    },
    {
     "name": "stdout",
     "output_type": "stream",
     "text": [
      "id :  tensor([1.])\n",
      "id :  tensor([1.])\n",
      "id :  tensor([1.])\n"
     ]
    },
    {
     "name": "stderr",
     "output_type": "stream",
     "text": [
      "\n",
      "0: 256x416 2 persons, 23.4ms\n",
      "Speed: 0.9ms preprocess, 23.4ms inference, 0.3ms postprocess per image at shape (1, 3, 256, 416)\n",
      "\n",
      "0: 256x416 2 persons, 20.6ms\n",
      "Speed: 0.6ms preprocess, 20.6ms inference, 0.3ms postprocess per image at shape (1, 3, 256, 416)\n",
      "\n",
      "0: 256x416 2 persons, 20.2ms\n",
      "Speed: 0.6ms preprocess, 20.2ms inference, 0.3ms postprocess per image at shape (1, 3, 256, 416)\n"
     ]
    },
    {
     "name": "stdout",
     "output_type": "stream",
     "text": [
      "id :  tensor([1., 3.])\n",
      "id :  tensor([1., 3.])\n",
      "id :  tensor([1., 3.])\n",
      "id :  tensor([1., 3.])\n"
     ]
    },
    {
     "name": "stderr",
     "output_type": "stream",
     "text": [
      "\n",
      "0: 256x416 2 persons, 21.1ms\n",
      "Speed: 0.6ms preprocess, 21.1ms inference, 0.3ms postprocess per image at shape (1, 3, 256, 416)\n",
      "\n",
      "0: 256x416 2 persons, 22.9ms\n",
      "Speed: 0.8ms preprocess, 22.9ms inference, 0.3ms postprocess per image at shape (1, 3, 256, 416)\n",
      "\n",
      "0: 256x416 2 persons, 23.4ms\n",
      "Speed: 0.8ms preprocess, 23.4ms inference, 0.3ms postprocess per image at shape (1, 3, 256, 416)\n",
      "\n",
      "0: 256x416 2 persons, 20.5ms\n",
      "Speed: 0.6ms preprocess, 20.5ms inference, 0.3ms postprocess per image at shape (1, 3, 256, 416)\n"
     ]
    },
    {
     "name": "stdout",
     "output_type": "stream",
     "text": [
      "id :  tensor([1., 3.])\n",
      "id :  tensor([1., 3.])\n",
      "id :  tensor([1., 3.])\n",
      "id :  tensor([1., 3.])\n"
     ]
    },
    {
     "name": "stderr",
     "output_type": "stream",
     "text": [
      "\n",
      "0: 256x416 2 persons, 20.3ms\n",
      "Speed: 0.8ms preprocess, 20.3ms inference, 0.3ms postprocess per image at shape (1, 3, 256, 416)\n",
      "\n",
      "0: 256x416 2 persons, 19.6ms\n",
      "Speed: 0.6ms preprocess, 19.6ms inference, 0.3ms postprocess per image at shape (1, 3, 256, 416)\n",
      "\n",
      "0: 256x416 2 persons, 38.8ms\n",
      "Speed: 1.2ms preprocess, 38.8ms inference, 0.3ms postprocess per image at shape (1, 3, 256, 416)\n",
      "\n"
     ]
    },
    {
     "name": "stdout",
     "output_type": "stream",
     "text": [
      "id :  tensor([1., 3.])\n",
      "id :  tensor([1., 3.])\n",
      "id :  tensor([1., 3.])\n"
     ]
    },
    {
     "name": "stderr",
     "output_type": "stream",
     "text": [
      "0: 256x416 2 persons, 22.6ms\n",
      "Speed: 0.8ms preprocess, 22.6ms inference, 0.3ms postprocess per image at shape (1, 3, 256, 416)\n",
      "\n",
      "0: 256x416 2 persons, 22.7ms\n",
      "Speed: 1.0ms preprocess, 22.7ms inference, 0.3ms postprocess per image at shape (1, 3, 256, 416)\n",
      "\n",
      "0: 256x416 2 persons, 23.4ms\n",
      "Speed: 1.0ms preprocess, 23.4ms inference, 0.3ms postprocess per image at shape (1, 3, 256, 416)\n",
      "\n",
      "0: 256x416 2 persons, 22.2ms\n",
      "Speed: 0.8ms preprocess, 22.2ms inference, 0.4ms postprocess per image at shape (1, 3, 256, 416)\n"
     ]
    },
    {
     "name": "stdout",
     "output_type": "stream",
     "text": [
      "id :  tensor([1., 3.])\n",
      "id :  tensor([1., 3.])\n",
      "id :  tensor([1., 3.])\n",
      "id :  tensor([1., 3.])\n"
     ]
    },
    {
     "name": "stderr",
     "output_type": "stream",
     "text": [
      "\n",
      "0: 256x416 2 persons, 21.6ms\n",
      "Speed: 0.9ms preprocess, 21.6ms inference, 0.3ms postprocess per image at shape (1, 3, 256, 416)\n",
      "\n",
      "0: 256x416 2 persons, 19.0ms\n",
      "Speed: 0.6ms preprocess, 19.0ms inference, 0.3ms postprocess per image at shape (1, 3, 256, 416)\n",
      "\n",
      "0: 256x416 2 persons, 19.5ms\n",
      "Speed: 0.8ms preprocess, 19.5ms inference, 0.3ms postprocess per image at shape (1, 3, 256, 416)\n",
      "\n",
      "0: 256x416 2 persons, 20.0ms\n",
      "Speed: 0.6ms preprocess, 20.0ms inference, 0.3ms postprocess per image at shape (1, 3, 256, 416)\n",
      "\n"
     ]
    },
    {
     "name": "stdout",
     "output_type": "stream",
     "text": [
      "id :  tensor([1., 3.])\n",
      "id :  tensor([1., 3.])\n",
      "id :  tensor([1., 3.])\n",
      "id :  tensor([1., 3.])\n"
     ]
    },
    {
     "name": "stderr",
     "output_type": "stream",
     "text": [
      "0: 256x416 2 persons, 19.5ms\n",
      "Speed: 0.5ms preprocess, 19.5ms inference, 0.3ms postprocess per image at shape (1, 3, 256, 416)\n",
      "\n",
      "0: 256x416 2 persons, 20.5ms\n",
      "Speed: 0.6ms preprocess, 20.5ms inference, 0.3ms postprocess per image at shape (1, 3, 256, 416)\n",
      "\n",
      "0: 256x416 2 persons, 19.7ms\n",
      "Speed: 0.5ms preprocess, 19.7ms inference, 0.3ms postprocess per image at shape (1, 3, 256, 416)\n",
      "\n",
      "0: 256x416 2 persons, 20.0ms\n",
      "Speed: 0.6ms preprocess, 20.0ms inference, 0.3ms postprocess per image at shape (1, 3, 256, 416)\n",
      "\n"
     ]
    },
    {
     "name": "stdout",
     "output_type": "stream",
     "text": [
      "id :  tensor([1., 3.])\n",
      "id :  tensor([1., 3.])\n",
      "id :  tensor([1., 3.])\n",
      "id :  tensor([1., 3.])\n"
     ]
    },
    {
     "name": "stderr",
     "output_type": "stream",
     "text": [
      "0: 256x416 2 persons, 19.1ms\n",
      "Speed: 0.7ms preprocess, 19.1ms inference, 0.3ms postprocess per image at shape (1, 3, 256, 416)\n",
      "\n",
      "0: 256x416 2 persons, 19.6ms\n",
      "Speed: 0.6ms preprocess, 19.6ms inference, 0.3ms postprocess per image at shape (1, 3, 256, 416)\n",
      "\n",
      "0: 256x416 2 persons, 20.2ms\n",
      "Speed: 0.7ms preprocess, 20.2ms inference, 0.3ms postprocess per image at shape (1, 3, 256, 416)\n",
      "\n",
      "0: 256x416 2 persons, 19.4ms\n",
      "Speed: 0.6ms preprocess, 19.4ms inference, 0.3ms postprocess per image at shape (1, 3, 256, 416)\n",
      "\n"
     ]
    },
    {
     "name": "stdout",
     "output_type": "stream",
     "text": [
      "id :  tensor([1., 3.])\n",
      "id :  tensor([1., 3.])\n",
      "id :  tensor([1., 3.])\n",
      "id :  tensor([1., 3.])\n"
     ]
    },
    {
     "name": "stderr",
     "output_type": "stream",
     "text": [
      "0: 256x416 2 persons, 20.1ms\n",
      "Speed: 0.6ms preprocess, 20.1ms inference, 0.3ms postprocess per image at shape (1, 3, 256, 416)\n",
      "\n",
      "0: 256x416 2 persons, 21.0ms\n",
      "Speed: 0.7ms preprocess, 21.0ms inference, 0.3ms postprocess per image at shape (1, 3, 256, 416)\n",
      "\n",
      "0: 256x416 2 persons, 19.6ms\n",
      "Speed: 0.6ms preprocess, 19.6ms inference, 0.3ms postprocess per image at shape (1, 3, 256, 416)\n",
      "\n",
      "0: 256x416 2 persons, 19.7ms\n",
      "Speed: 0.7ms preprocess, 19.7ms inference, 0.3ms postprocess per image at shape (1, 3, 256, 416)\n",
      "\n"
     ]
    },
    {
     "name": "stdout",
     "output_type": "stream",
     "text": [
      "id :  tensor([1., 3.])\n",
      "id :  tensor([1., 3.])\n",
      "id :  tensor([1., 3.])\n",
      "id :  tensor([1., 3.])\n"
     ]
    },
    {
     "name": "stderr",
     "output_type": "stream",
     "text": [
      "0: 256x416 2 persons, 20.2ms\n",
      "Speed: 0.6ms preprocess, 20.2ms inference, 0.3ms postprocess per image at shape (1, 3, 256, 416)\n",
      "\n",
      "0: 256x416 2 persons, 20.2ms\n",
      "Speed: 0.6ms preprocess, 20.2ms inference, 0.3ms postprocess per image at shape (1, 3, 256, 416)\n",
      "\n",
      "0: 256x416 2 persons, 20.5ms\n",
      "Speed: 0.6ms preprocess, 20.5ms inference, 0.3ms postprocess per image at shape (1, 3, 256, 416)\n",
      "\n",
      "0: 256x416 2 persons, 20.0ms\n",
      "Speed: 0.6ms preprocess, 20.0ms inference, 0.3ms postprocess per image at shape (1, 3, 256, 416)\n",
      "\n"
     ]
    },
    {
     "name": "stdout",
     "output_type": "stream",
     "text": [
      "id :  tensor([1., 3.])\n",
      "id :  tensor([1., 3.])\n",
      "id :  tensor([1., 3.])\n",
      "id :  tensor([1., 3.])\n"
     ]
    },
    {
     "name": "stderr",
     "output_type": "stream",
     "text": [
      "0: 256x416 2 persons, 20.3ms\n",
      "Speed: 0.6ms preprocess, 20.3ms inference, 0.3ms postprocess per image at shape (1, 3, 256, 416)\n",
      "\n",
      "0: 256x416 2 persons, 20.4ms\n",
      "Speed: 0.6ms preprocess, 20.4ms inference, 0.3ms postprocess per image at shape (1, 3, 256, 416)\n",
      "\n",
      "0: 256x416 2 persons, 20.0ms\n",
      "Speed: 0.6ms preprocess, 20.0ms inference, 0.3ms postprocess per image at shape (1, 3, 256, 416)\n",
      "\n",
      "0: 256x416 2 persons, 21.7ms\n",
      "Speed: 0.8ms preprocess, 21.7ms inference, 0.3ms postprocess per image at shape (1, 3, 256, 416)\n"
     ]
    },
    {
     "name": "stdout",
     "output_type": "stream",
     "text": [
      "id :  tensor([1., 3.])\n",
      "id :  tensor([1., 3.])\n",
      "id :  tensor([1., 3.])\n",
      "id :  tensor([1., 3.])\n"
     ]
    },
    {
     "name": "stderr",
     "output_type": "stream",
     "text": [
      "\n",
      "0: 256x416 2 persons, 22.5ms\n",
      "Speed: 0.7ms preprocess, 22.5ms inference, 0.4ms postprocess per image at shape (1, 3, 256, 416)\n",
      "\n",
      "0: 256x416 2 persons, 24.1ms\n",
      "Speed: 0.7ms preprocess, 24.1ms inference, 0.3ms postprocess per image at shape (1, 3, 256, 416)\n",
      "\n",
      "0: 256x416 2 persons, 20.6ms\n",
      "Speed: 0.7ms preprocess, 20.6ms inference, 0.3ms postprocess per image at shape (1, 3, 256, 416)\n",
      "\n",
      "0: 256x416 2 persons, 20.4ms\n",
      "Speed: 0.8ms preprocess, 20.4ms inference, 0.3ms postprocess per image at shape (1, 3, 256, 416)\n"
     ]
    },
    {
     "name": "stdout",
     "output_type": "stream",
     "text": [
      "id :  tensor([1., 3.])\n",
      "id :  tensor([1., 3.])\n",
      "id :  tensor([1., 3.])\n",
      "id :  tensor([1., 3.])\n"
     ]
    },
    {
     "name": "stderr",
     "output_type": "stream",
     "text": [
      "\n",
      "0: 256x416 2 persons, 21.2ms\n",
      "Speed: 0.6ms preprocess, 21.2ms inference, 0.3ms postprocess per image at shape (1, 3, 256, 416)\n",
      "\n",
      "0: 256x416 1 person, 20.2ms\n",
      "Speed: 0.7ms preprocess, 20.2ms inference, 0.3ms postprocess per image at shape (1, 3, 256, 416)\n",
      "\n",
      "0: 256x416 1 person, 20.5ms\n",
      "Speed: 0.7ms preprocess, 20.5ms inference, 0.3ms postprocess per image at shape (1, 3, 256, 416)\n",
      "\n",
      "0: 256x416 2 persons, 19.9ms\n",
      "Speed: 0.6ms preprocess, 19.9ms inference, 0.3ms postprocess per image at shape (1, 3, 256, 416)\n",
      "\n"
     ]
    },
    {
     "name": "stdout",
     "output_type": "stream",
     "text": [
      "id :  tensor([1., 3.])\n",
      "id :  tensor([1.])\n",
      "id :  tensor([1.])\n",
      "id :  tensor([1., 3.])\n"
     ]
    },
    {
     "name": "stderr",
     "output_type": "stream",
     "text": [
      "0: 256x416 2 persons, 19.5ms\n",
      "Speed: 0.6ms preprocess, 19.5ms inference, 0.3ms postprocess per image at shape (1, 3, 256, 416)\n",
      "\n",
      "0: 256x416 2 persons, 21.1ms\n",
      "Speed: 0.6ms preprocess, 21.1ms inference, 0.3ms postprocess per image at shape (1, 3, 256, 416)\n",
      "\n",
      "0: 256x416 1 person, 20.5ms\n",
      "Speed: 0.6ms preprocess, 20.5ms inference, 0.3ms postprocess per image at shape (1, 3, 256, 416)\n",
      "\n",
      "0: 256x416 1 person, 21.6ms\n",
      "Speed: 0.6ms preprocess, 21.6ms inference, 0.3ms postprocess per image at shape (1, 3, 256, 416)\n",
      "\n"
     ]
    },
    {
     "name": "stdout",
     "output_type": "stream",
     "text": [
      "id :  tensor([1., 3.])\n",
      "id :  tensor([1., 3.])\n",
      "id :  tensor([1.])\n",
      "id :  tensor([1.])\n"
     ]
    },
    {
     "name": "stderr",
     "output_type": "stream",
     "text": [
      "0: 256x416 1 person, 28.5ms\n",
      "Speed: 0.6ms preprocess, 28.5ms inference, 0.4ms postprocess per image at shape (1, 3, 256, 416)\n",
      "\n",
      "0: 256x416 1 person, 21.4ms\n",
      "Speed: 0.7ms preprocess, 21.4ms inference, 0.3ms postprocess per image at shape (1, 3, 256, 416)\n",
      "\n",
      "0: 256x416 1 person, 22.4ms\n",
      "Speed: 1.0ms preprocess, 22.4ms inference, 0.3ms postprocess per image at shape (1, 3, 256, 416)\n",
      "\n",
      "0: 256x416 1 person, 21.9ms\n",
      "Speed: 0.9ms preprocess, 21.9ms inference, 0.3ms postprocess per image at shape (1, 3, 256, 416)\n"
     ]
    },
    {
     "name": "stdout",
     "output_type": "stream",
     "text": [
      "id :  tensor([1.])\n",
      "id :  tensor([1.])\n",
      "id :  tensor([1.])\n",
      "id :  tensor([1.])\n"
     ]
    },
    {
     "name": "stderr",
     "output_type": "stream",
     "text": [
      "\n",
      "0: 256x416 1 person, 23.7ms\n",
      "Speed: 0.7ms preprocess, 23.7ms inference, 0.3ms postprocess per image at shape (1, 3, 256, 416)\n",
      "\n",
      "0: 256x416 1 person, 19.8ms\n",
      "Speed: 0.9ms preprocess, 19.8ms inference, 0.3ms postprocess per image at shape (1, 3, 256, 416)\n",
      "\n",
      "0: 256x416 1 person, 19.4ms\n",
      "Speed: 0.6ms preprocess, 19.4ms inference, 0.3ms postprocess per image at shape (1, 3, 256, 416)\n",
      "\n",
      "0: 256x416 1 person, 19.9ms\n",
      "Speed: 0.6ms preprocess, 19.9ms inference, 0.3ms postprocess per image at shape (1, 3, 256, 416)\n",
      "\n"
     ]
    },
    {
     "name": "stdout",
     "output_type": "stream",
     "text": [
      "id :  tensor([1.])\n",
      "id :  tensor([1.])\n",
      "id :  tensor([1.])\n",
      "id :  tensor([1.])\n"
     ]
    },
    {
     "name": "stderr",
     "output_type": "stream",
     "text": [
      "0: 256x416 1 person, 21.1ms\n",
      "Speed: 0.6ms preprocess, 21.1ms inference, 0.3ms postprocess per image at shape (1, 3, 256, 416)\n",
      "\n",
      "0: 256x416 2 persons, 20.9ms\n",
      "Speed: 0.7ms preprocess, 20.9ms inference, 0.3ms postprocess per image at shape (1, 3, 256, 416)\n",
      "\n",
      "0: 256x416 2 persons, 23.2ms\n",
      "Speed: 0.9ms preprocess, 23.2ms inference, 0.4ms postprocess per image at shape (1, 3, 256, 416)\n",
      "\n",
      "0: 256x416 2 persons, 24.8ms\n",
      "Speed: 0.8ms preprocess, 24.8ms inference, 0.3ms postprocess per image at shape (1, 3, 256, 416)\n"
     ]
    },
    {
     "name": "stdout",
     "output_type": "stream",
     "text": [
      "id :  tensor([1.])\n",
      "id :  tensor([1., 4.])\n",
      "id :  tensor([1., 4.])\n",
      "id :  tensor([1., 4.])\n"
     ]
    },
    {
     "name": "stderr",
     "output_type": "stream",
     "text": [
      "\n",
      "0: 256x416 2 persons, 22.2ms\n",
      "Speed: 0.7ms preprocess, 22.2ms inference, 0.3ms postprocess per image at shape (1, 3, 256, 416)\n",
      "\n",
      "0: 256x416 2 persons, 20.0ms\n",
      "Speed: 0.7ms preprocess, 20.0ms inference, 0.3ms postprocess per image at shape (1, 3, 256, 416)\n",
      "\n",
      "0: 256x416 2 persons, 20.0ms\n",
      "Speed: 0.7ms preprocess, 20.0ms inference, 0.3ms postprocess per image at shape (1, 3, 256, 416)\n",
      "\n",
      "0: 256x416 2 persons, 19.4ms\n",
      "Speed: 0.9ms preprocess, 19.4ms inference, 0.3ms postprocess per image at shape (1, 3, 256, 416)\n",
      "\n"
     ]
    },
    {
     "name": "stdout",
     "output_type": "stream",
     "text": [
      "id :  tensor([1., 4.])\n",
      "id :  tensor([1., 4.])\n",
      "id :  tensor([1., 4.])\n",
      "id :  tensor([1., 4.])\n"
     ]
    },
    {
     "name": "stderr",
     "output_type": "stream",
     "text": [
      "0: 256x416 2 persons, 20.0ms\n",
      "Speed: 0.6ms preprocess, 20.0ms inference, 0.4ms postprocess per image at shape (1, 3, 256, 416)\n",
      "\n",
      "0: 256x416 2 persons, 20.8ms\n",
      "Speed: 0.7ms preprocess, 20.8ms inference, 0.3ms postprocess per image at shape (1, 3, 256, 416)\n",
      "\n",
      "0: 256x416 2 persons, 22.9ms\n",
      "Speed: 0.8ms preprocess, 22.9ms inference, 0.3ms postprocess per image at shape (1, 3, 256, 416)\n",
      "\n",
      "0: 256x416 2 persons, 23.0ms\n",
      "Speed: 0.9ms preprocess, 23.0ms inference, 0.3ms postprocess per image at shape (1, 3, 256, 416)\n"
     ]
    },
    {
     "name": "stdout",
     "output_type": "stream",
     "text": [
      "id :  tensor([1., 4.])\n",
      "id :  tensor([1., 4.])\n",
      "id :  tensor([1., 4.])\n",
      "id :  tensor([1., 4.])\n"
     ]
    },
    {
     "name": "stderr",
     "output_type": "stream",
     "text": [
      "\n",
      "0: 256x416 2 persons, 24.2ms\n",
      "Speed: 0.8ms preprocess, 24.2ms inference, 0.5ms postprocess per image at shape (1, 3, 256, 416)\n",
      "\n",
      "0: 256x416 2 persons, 21.3ms\n",
      "Speed: 0.8ms preprocess, 21.3ms inference, 0.3ms postprocess per image at shape (1, 3, 256, 416)\n",
      "\n",
      "0: 256x416 2 persons, 20.1ms\n",
      "Speed: 0.6ms preprocess, 20.1ms inference, 0.3ms postprocess per image at shape (1, 3, 256, 416)\n",
      "\n",
      "0: 256x416 2 persons, 20.6ms\n",
      "Speed: 0.7ms preprocess, 20.6ms inference, 0.3ms postprocess per image at shape (1, 3, 256, 416)\n",
      "\n"
     ]
    },
    {
     "name": "stdout",
     "output_type": "stream",
     "text": [
      "id :  tensor([1., 4.])\n",
      "id :  tensor([1., 4.])\n",
      "id :  tensor([1., 4.])\n",
      "id :  tensor([1., 4.])\n"
     ]
    },
    {
     "name": "stderr",
     "output_type": "stream",
     "text": [
      "0: 256x416 2 persons, 20.5ms\n",
      "Speed: 0.6ms preprocess, 20.5ms inference, 0.3ms postprocess per image at shape (1, 3, 256, 416)\n",
      "\n",
      "0: 256x416 2 persons, 21.7ms\n",
      "Speed: 0.8ms preprocess, 21.7ms inference, 0.3ms postprocess per image at shape (1, 3, 256, 416)\n",
      "\n",
      "0: 256x416 3 persons, 22.7ms\n",
      "Speed: 1.5ms preprocess, 22.7ms inference, 0.3ms postprocess per image at shape (1, 3, 256, 416)\n",
      "\n",
      "0: 256x416 3 persons, 22.8ms\n",
      "Speed: 0.7ms preprocess, 22.8ms inference, 0.3ms postprocess per image at shape (1, 3, 256, 416)\n"
     ]
    },
    {
     "name": "stdout",
     "output_type": "stream",
     "text": [
      "id :  tensor([1., 4.])\n",
      "id :  tensor([1., 4.])\n",
      "id :  tensor([1., 4., 5.])\n",
      "id :  tensor([1., 4., 5.])\n"
     ]
    },
    {
     "name": "stderr",
     "output_type": "stream",
     "text": [
      "\n",
      "0: 256x416 3 persons, 22.0ms\n",
      "Speed: 0.6ms preprocess, 22.0ms inference, 0.3ms postprocess per image at shape (1, 3, 256, 416)\n",
      "\n",
      "0: 256x416 3 persons, 21.9ms\n",
      "Speed: 0.9ms preprocess, 21.9ms inference, 0.3ms postprocess per image at shape (1, 3, 256, 416)\n",
      "\n",
      "0: 256x416 3 persons, 23.1ms\n",
      "Speed: 1.0ms preprocess, 23.1ms inference, 0.3ms postprocess per image at shape (1, 3, 256, 416)\n",
      "\n",
      "0: 256x416 3 persons, 21.0ms\n",
      "Speed: 1.1ms preprocess, 21.0ms inference, 0.3ms postprocess per image at shape (1, 3, 256, 416)\n"
     ]
    },
    {
     "name": "stdout",
     "output_type": "stream",
     "text": [
      "id :  tensor([1., 4., 5.])\n",
      "id :  tensor([1., 4., 5.])\n",
      "id :  tensor([1., 4., 5.])\n",
      "id :  tensor([1., 4., 5.])\n"
     ]
    },
    {
     "name": "stderr",
     "output_type": "stream",
     "text": [
      "\n",
      "0: 256x416 3 persons, 19.6ms\n",
      "Speed: 0.6ms preprocess, 19.6ms inference, 0.3ms postprocess per image at shape (1, 3, 256, 416)\n",
      "\n",
      "0: 256x416 3 persons, 20.8ms\n",
      "Speed: 1.5ms preprocess, 20.8ms inference, 0.3ms postprocess per image at shape (1, 3, 256, 416)\n",
      "\n",
      "0: 256x416 3 persons, 20.8ms\n",
      "Speed: 0.6ms preprocess, 20.8ms inference, 0.3ms postprocess per image at shape (1, 3, 256, 416)\n",
      "\n",
      "0: 256x416 3 persons, 23.3ms\n",
      "Speed: 0.9ms preprocess, 23.3ms inference, 0.4ms postprocess per image at shape (1, 3, 256, 416)\n"
     ]
    },
    {
     "name": "stdout",
     "output_type": "stream",
     "text": [
      "id :  tensor([1., 4., 5.])\n",
      "id :  tensor([1., 4., 5.])\n",
      "id :  tensor([1., 4., 5.])\n",
      "id :  tensor([1., 4., 5.])\n"
     ]
    },
    {
     "name": "stderr",
     "output_type": "stream",
     "text": [
      "\n",
      "0: 256x416 3 persons, 20.7ms\n",
      "Speed: 0.7ms preprocess, 20.7ms inference, 0.3ms postprocess per image at shape (1, 3, 256, 416)\n",
      "\n",
      "0: 256x416 3 persons, 19.9ms\n",
      "Speed: 0.6ms preprocess, 19.9ms inference, 0.9ms postprocess per image at shape (1, 3, 256, 416)\n",
      "\n",
      "0: 256x416 3 persons, 22.0ms\n",
      "Speed: 0.8ms preprocess, 22.0ms inference, 0.3ms postprocess per image at shape (1, 3, 256, 416)\n",
      "\n",
      "0: 256x416 3 persons, 20.9ms\n",
      "Speed: 1.0ms preprocess, 20.9ms inference, 0.3ms postprocess per image at shape (1, 3, 256, 416)\n"
     ]
    },
    {
     "name": "stdout",
     "output_type": "stream",
     "text": [
      "id :  tensor([1., 4., 5.])\n",
      "id :  tensor([1., 4., 5.])\n",
      "id :  tensor([1., 4., 5.])\n",
      "id :  tensor([1., 4., 5.])\n"
     ]
    },
    {
     "name": "stderr",
     "output_type": "stream",
     "text": [
      "\n",
      "0: 256x416 3 persons, 22.4ms\n",
      "Speed: 0.6ms preprocess, 22.4ms inference, 0.3ms postprocess per image at shape (1, 3, 256, 416)\n",
      "\n",
      "0: 256x416 3 persons, 21.4ms\n",
      "Speed: 0.7ms preprocess, 21.4ms inference, 0.3ms postprocess per image at shape (1, 3, 256, 416)\n",
      "\n",
      "0: 256x416 3 persons, 20.1ms\n",
      "Speed: 1.0ms preprocess, 20.1ms inference, 0.3ms postprocess per image at shape (1, 3, 256, 416)\n",
      "\n",
      "0: 256x416 3 persons, 19.5ms\n",
      "Speed: 0.7ms preprocess, 19.5ms inference, 0.3ms postprocess per image at shape (1, 3, 256, 416)\n"
     ]
    },
    {
     "name": "stdout",
     "output_type": "stream",
     "text": [
      "id :  tensor([1., 4., 5.])\n",
      "id :  tensor([1., 4., 5.])\n",
      "id :  tensor([1., 4., 5.])\n",
      "id :  tensor([1., 4., 5.])\n"
     ]
    },
    {
     "name": "stderr",
     "output_type": "stream",
     "text": [
      "\n",
      "0: 256x416 3 persons, 21.1ms\n",
      "Speed: 0.7ms preprocess, 21.1ms inference, 0.3ms postprocess per image at shape (1, 3, 256, 416)\n",
      "\n",
      "0: 256x416 3 persons, 20.2ms\n",
      "Speed: 0.6ms preprocess, 20.2ms inference, 0.5ms postprocess per image at shape (1, 3, 256, 416)\n",
      "\n",
      "0: 256x416 3 persons, 21.8ms\n",
      "Speed: 0.9ms preprocess, 21.8ms inference, 0.3ms postprocess per image at shape (1, 3, 256, 416)\n",
      "\n",
      "0: 256x416 3 persons, 22.6ms\n",
      "Speed: 0.8ms preprocess, 22.6ms inference, 0.3ms postprocess per image at shape (1, 3, 256, 416)\n"
     ]
    },
    {
     "name": "stdout",
     "output_type": "stream",
     "text": [
      "id :  tensor([1., 4., 5.])\n",
      "id :  tensor([1., 4., 5.])\n",
      "id :  tensor([1., 4., 5.])\n",
      "id :  tensor([1., 4., 5.])\n"
     ]
    },
    {
     "name": "stderr",
     "output_type": "stream",
     "text": [
      "\n",
      "0: 256x416 3 persons, 22.6ms\n",
      "Speed: 0.7ms preprocess, 22.6ms inference, 0.3ms postprocess per image at shape (1, 3, 256, 416)\n",
      "\n",
      "0: 256x416 3 persons, 21.3ms\n",
      "Speed: 1.0ms preprocess, 21.3ms inference, 0.3ms postprocess per image at shape (1, 3, 256, 416)\n",
      "\n",
      "0: 256x416 3 persons, 21.7ms\n",
      "Speed: 0.6ms preprocess, 21.7ms inference, 0.3ms postprocess per image at shape (1, 3, 256, 416)\n",
      "\n",
      "0: 256x416 3 persons, 21.1ms\n",
      "Speed: 0.7ms preprocess, 21.1ms inference, 0.3ms postprocess per image at shape (1, 3, 256, 416)\n"
     ]
    },
    {
     "name": "stdout",
     "output_type": "stream",
     "text": [
      "id :  tensor([1., 4., 5.])\n",
      "id :  tensor([1., 4., 5.])\n",
      "id :  tensor([1., 4., 5.])\n",
      "id :  tensor([1., 4., 5.])\n"
     ]
    },
    {
     "name": "stderr",
     "output_type": "stream",
     "text": [
      "\n",
      "0: 256x416 3 persons, 20.3ms\n",
      "Speed: 0.6ms preprocess, 20.3ms inference, 0.3ms postprocess per image at shape (1, 3, 256, 416)\n",
      "\n",
      "0: 256x416 3 persons, 20.1ms\n",
      "Speed: 0.8ms preprocess, 20.1ms inference, 0.3ms postprocess per image at shape (1, 3, 256, 416)\n",
      "\n",
      "0: 256x416 3 persons, 19.7ms\n",
      "Speed: 0.9ms preprocess, 19.7ms inference, 0.3ms postprocess per image at shape (1, 3, 256, 416)\n",
      "\n"
     ]
    },
    {
     "name": "stdout",
     "output_type": "stream",
     "text": [
      "id :  tensor([1., 4., 5.])\n",
      "id :  tensor([1., 4., 5.])\n",
      "id :  tensor([1., 4., 5.])\n"
     ]
    },
    {
     "ename": "KeyboardInterrupt",
     "evalue": "",
     "output_type": "error",
     "traceback": [
      "\u001b[0;31m---------------------------------------------------------------------------\u001b[0m",
      "\u001b[0;31mKeyboardInterrupt\u001b[0m                         Traceback (most recent call last)",
      "Cell \u001b[0;32mIn[13], line 17\u001b[0m\n\u001b[1;32m     15\u001b[0m \u001b[39mif\u001b[39;00m \u001b[39mnot\u001b[39;00m ret:\n\u001b[1;32m     16\u001b[0m     \u001b[39mbreak\u001b[39;00m\n\u001b[0;32m---> 17\u001b[0m results \u001b[39m=\u001b[39m model\u001b[39m.\u001b[39;49mtrack(img,  conf\u001b[39m=\u001b[39;49m\u001b[39m0.3\u001b[39;49m, iou\u001b[39m=\u001b[39;49m\u001b[39m0.5\u001b[39;49m, show\u001b[39m=\u001b[39;49m\u001b[39mTrue\u001b[39;49;00m, persist\u001b[39m=\u001b[39;49m\u001b[39mTrue\u001b[39;49;00m)[\u001b[39m0\u001b[39m]\n\u001b[1;32m     19\u001b[0m \u001b[39mtry\u001b[39;00m:\n\u001b[1;32m     20\u001b[0m     \u001b[39m#results = model.track(source=\"https://youtu.be/Zgi9g1ksQHc\", conf=0.3, iou=0.5, show=True)\u001b[39;00m\n\u001b[1;32m     21\u001b[0m     boxes \u001b[39m=\u001b[39m results\u001b[39m.\u001b[39mboxes\n",
      "File \u001b[0;32m/opt/homebrew/lib/python3.11/site-packages/ultralytics/engine/model.py:277\u001b[0m, in \u001b[0;36mYOLO.track\u001b[0;34m(self, source, stream, persist, **kwargs)\u001b[0m\n\u001b[1;32m    275\u001b[0m kwargs[\u001b[39m'\u001b[39m\u001b[39mconf\u001b[39m\u001b[39m'\u001b[39m] \u001b[39m=\u001b[39m conf\n\u001b[1;32m    276\u001b[0m kwargs[\u001b[39m'\u001b[39m\u001b[39mmode\u001b[39m\u001b[39m'\u001b[39m] \u001b[39m=\u001b[39m \u001b[39m'\u001b[39m\u001b[39mtrack\u001b[39m\u001b[39m'\u001b[39m\n\u001b[0;32m--> 277\u001b[0m \u001b[39mreturn\u001b[39;00m \u001b[39mself\u001b[39;49m\u001b[39m.\u001b[39;49mpredict(source\u001b[39m=\u001b[39;49msource, stream\u001b[39m=\u001b[39;49mstream, \u001b[39m*\u001b[39;49m\u001b[39m*\u001b[39;49mkwargs)\n",
      "File \u001b[0;32m/opt/homebrew/lib/python3.11/site-packages/torch/utils/_contextlib.py:115\u001b[0m, in \u001b[0;36mcontext_decorator.<locals>.decorate_context\u001b[0;34m(*args, **kwargs)\u001b[0m\n\u001b[1;32m    112\u001b[0m \u001b[39m@functools\u001b[39m\u001b[39m.\u001b[39mwraps(func)\n\u001b[1;32m    113\u001b[0m \u001b[39mdef\u001b[39;00m \u001b[39mdecorate_context\u001b[39m(\u001b[39m*\u001b[39margs, \u001b[39m*\u001b[39m\u001b[39m*\u001b[39mkwargs):\n\u001b[1;32m    114\u001b[0m     \u001b[39mwith\u001b[39;00m ctx_factory():\n\u001b[0;32m--> 115\u001b[0m         \u001b[39mreturn\u001b[39;00m func(\u001b[39m*\u001b[39;49margs, \u001b[39m*\u001b[39;49m\u001b[39m*\u001b[39;49mkwargs)\n",
      "File \u001b[0;32m/opt/homebrew/lib/python3.11/site-packages/ultralytics/engine/model.py:254\u001b[0m, in \u001b[0;36mYOLO.predict\u001b[0;34m(self, source, stream, **kwargs)\u001b[0m\n\u001b[1;32m    252\u001b[0m     \u001b[39mif\u001b[39;00m \u001b[39m'\u001b[39m\u001b[39mproject\u001b[39m\u001b[39m'\u001b[39m \u001b[39min\u001b[39;00m overrides \u001b[39mor\u001b[39;00m \u001b[39m'\u001b[39m\u001b[39mname\u001b[39m\u001b[39m'\u001b[39m \u001b[39min\u001b[39;00m overrides:\n\u001b[1;32m    253\u001b[0m         \u001b[39mself\u001b[39m\u001b[39m.\u001b[39mpredictor\u001b[39m.\u001b[39msave_dir \u001b[39m=\u001b[39m \u001b[39mself\u001b[39m\u001b[39m.\u001b[39mpredictor\u001b[39m.\u001b[39mget_save_dir()\n\u001b[0;32m--> 254\u001b[0m \u001b[39mreturn\u001b[39;00m \u001b[39mself\u001b[39m\u001b[39m.\u001b[39mpredictor\u001b[39m.\u001b[39mpredict_cli(source\u001b[39m=\u001b[39msource) \u001b[39mif\u001b[39;00m is_cli \u001b[39melse\u001b[39;00m \u001b[39mself\u001b[39;49m\u001b[39m.\u001b[39;49mpredictor(source\u001b[39m=\u001b[39;49msource, stream\u001b[39m=\u001b[39;49mstream)\n",
      "File \u001b[0;32m/opt/homebrew/lib/python3.11/site-packages/ultralytics/engine/predictor.py:195\u001b[0m, in \u001b[0;36mBasePredictor.__call__\u001b[0;34m(self, source, model, stream, *args, **kwargs)\u001b[0m\n\u001b[1;32m    193\u001b[0m     \u001b[39mreturn\u001b[39;00m \u001b[39mself\u001b[39m\u001b[39m.\u001b[39mstream_inference(source, model, \u001b[39m*\u001b[39margs, \u001b[39m*\u001b[39m\u001b[39m*\u001b[39mkwargs)\n\u001b[1;32m    194\u001b[0m \u001b[39melse\u001b[39;00m:\n\u001b[0;32m--> 195\u001b[0m     \u001b[39mreturn\u001b[39;00m \u001b[39mlist\u001b[39m(\u001b[39mself\u001b[39m\u001b[39m.\u001b[39mstream_inference(source, model, \u001b[39m*\u001b[39margs, \u001b[39m*\u001b[39m\u001b[39m*\u001b[39mkwargs))\n",
      "File \u001b[0;32m/opt/homebrew/lib/python3.11/site-packages/torch/utils/_contextlib.py:35\u001b[0m, in \u001b[0;36m_wrap_generator.<locals>.generator_context\u001b[0;34m(*args, **kwargs)\u001b[0m\n\u001b[1;32m     32\u001b[0m \u001b[39mtry\u001b[39;00m:\n\u001b[1;32m     33\u001b[0m     \u001b[39m# Issuing `None` to a generator fires it up\u001b[39;00m\n\u001b[1;32m     34\u001b[0m     \u001b[39mwith\u001b[39;00m ctx_factory():\n\u001b[0;32m---> 35\u001b[0m         response \u001b[39m=\u001b[39m gen\u001b[39m.\u001b[39msend(\u001b[39mNone\u001b[39;00m)\n\u001b[1;32m     37\u001b[0m     \u001b[39mwhile\u001b[39;00m \u001b[39mTrue\u001b[39;00m:\n\u001b[1;32m     38\u001b[0m         \u001b[39mtry\u001b[39;00m:\n\u001b[1;32m     39\u001b[0m             \u001b[39m# Forward the response to our caller and get its next request\u001b[39;00m\n",
      "File \u001b[0;32m/opt/homebrew/lib/python3.11/site-packages/ultralytics/engine/predictor.py:251\u001b[0m, in \u001b[0;36mBasePredictor.stream_inference\u001b[0;34m(self, source, model, *args, **kwargs)\u001b[0m\n\u001b[1;32m    249\u001b[0m \u001b[39m# Inference\u001b[39;00m\n\u001b[1;32m    250\u001b[0m \u001b[39mwith\u001b[39;00m profilers[\u001b[39m1\u001b[39m]:\n\u001b[0;32m--> 251\u001b[0m     preds \u001b[39m=\u001b[39m \u001b[39mself\u001b[39;49m\u001b[39m.\u001b[39;49minference(im, \u001b[39m*\u001b[39;49margs, \u001b[39m*\u001b[39;49m\u001b[39m*\u001b[39;49mkwargs)\n\u001b[1;32m    253\u001b[0m \u001b[39m# Postprocess\u001b[39;00m\n\u001b[1;32m    254\u001b[0m \u001b[39mwith\u001b[39;00m profilers[\u001b[39m2\u001b[39m]:\n",
      "File \u001b[0;32m/opt/homebrew/lib/python3.11/site-packages/ultralytics/engine/predictor.py:137\u001b[0m, in \u001b[0;36mBasePredictor.inference\u001b[0;34m(self, im, *args, **kwargs)\u001b[0m\n\u001b[1;32m    134\u001b[0m \u001b[39mdef\u001b[39;00m \u001b[39minference\u001b[39m(\u001b[39mself\u001b[39m, im, \u001b[39m*\u001b[39margs, \u001b[39m*\u001b[39m\u001b[39m*\u001b[39mkwargs):\n\u001b[1;32m    135\u001b[0m     visualize \u001b[39m=\u001b[39m increment_path(\u001b[39mself\u001b[39m\u001b[39m.\u001b[39msave_dir \u001b[39m/\u001b[39m Path(\u001b[39mself\u001b[39m\u001b[39m.\u001b[39mbatch[\u001b[39m0\u001b[39m][\u001b[39m0\u001b[39m])\u001b[39m.\u001b[39mstem,\n\u001b[1;32m    136\u001b[0m                                mkdir\u001b[39m=\u001b[39m\u001b[39mTrue\u001b[39;00m) \u001b[39mif\u001b[39;00m \u001b[39mself\u001b[39m\u001b[39m.\u001b[39margs\u001b[39m.\u001b[39mvisualize \u001b[39mand\u001b[39;00m (\u001b[39mnot\u001b[39;00m \u001b[39mself\u001b[39m\u001b[39m.\u001b[39msource_type\u001b[39m.\u001b[39mtensor) \u001b[39melse\u001b[39;00m \u001b[39mFalse\u001b[39;00m\n\u001b[0;32m--> 137\u001b[0m     \u001b[39mreturn\u001b[39;00m \u001b[39mself\u001b[39;49m\u001b[39m.\u001b[39;49mmodel(im, augment\u001b[39m=\u001b[39;49m\u001b[39mself\u001b[39;49m\u001b[39m.\u001b[39;49margs\u001b[39m.\u001b[39;49maugment, visualize\u001b[39m=\u001b[39;49mvisualize)\n",
      "File \u001b[0;32m/opt/homebrew/lib/python3.11/site-packages/torch/nn/modules/module.py:1501\u001b[0m, in \u001b[0;36mModule._call_impl\u001b[0;34m(self, *args, **kwargs)\u001b[0m\n\u001b[1;32m   1496\u001b[0m \u001b[39m# If we don't have any hooks, we want to skip the rest of the logic in\u001b[39;00m\n\u001b[1;32m   1497\u001b[0m \u001b[39m# this function, and just call forward.\u001b[39;00m\n\u001b[1;32m   1498\u001b[0m \u001b[39mif\u001b[39;00m \u001b[39mnot\u001b[39;00m (\u001b[39mself\u001b[39m\u001b[39m.\u001b[39m_backward_hooks \u001b[39mor\u001b[39;00m \u001b[39mself\u001b[39m\u001b[39m.\u001b[39m_backward_pre_hooks \u001b[39mor\u001b[39;00m \u001b[39mself\u001b[39m\u001b[39m.\u001b[39m_forward_hooks \u001b[39mor\u001b[39;00m \u001b[39mself\u001b[39m\u001b[39m.\u001b[39m_forward_pre_hooks\n\u001b[1;32m   1499\u001b[0m         \u001b[39mor\u001b[39;00m _global_backward_pre_hooks \u001b[39mor\u001b[39;00m _global_backward_hooks\n\u001b[1;32m   1500\u001b[0m         \u001b[39mor\u001b[39;00m _global_forward_hooks \u001b[39mor\u001b[39;00m _global_forward_pre_hooks):\n\u001b[0;32m-> 1501\u001b[0m     \u001b[39mreturn\u001b[39;00m forward_call(\u001b[39m*\u001b[39;49margs, \u001b[39m*\u001b[39;49m\u001b[39m*\u001b[39;49mkwargs)\n\u001b[1;32m   1502\u001b[0m \u001b[39m# Do not call functions when jit is used\u001b[39;00m\n\u001b[1;32m   1503\u001b[0m full_backward_hooks, non_full_backward_hooks \u001b[39m=\u001b[39m [], []\n",
      "File \u001b[0;32m/opt/homebrew/lib/python3.11/site-packages/ultralytics/nn/autobackend.py:336\u001b[0m, in \u001b[0;36mAutoBackend.forward\u001b[0;34m(self, im, augment, visualize)\u001b[0m\n\u001b[1;32m    333\u001b[0m     im \u001b[39m=\u001b[39m im\u001b[39m.\u001b[39mpermute(\u001b[39m0\u001b[39m, \u001b[39m2\u001b[39m, \u001b[39m3\u001b[39m, \u001b[39m1\u001b[39m)  \u001b[39m# torch BCHW to numpy BHWC shape(1,320,192,3)\u001b[39;00m\n\u001b[1;32m    335\u001b[0m \u001b[39mif\u001b[39;00m \u001b[39mself\u001b[39m\u001b[39m.\u001b[39mpt \u001b[39mor\u001b[39;00m \u001b[39mself\u001b[39m\u001b[39m.\u001b[39mnn_module:  \u001b[39m# PyTorch\u001b[39;00m\n\u001b[0;32m--> 336\u001b[0m     y \u001b[39m=\u001b[39m \u001b[39mself\u001b[39m\u001b[39m.\u001b[39mmodel(im, augment\u001b[39m=\u001b[39maugment, visualize\u001b[39m=\u001b[39mvisualize) \u001b[39mif\u001b[39;00m augment \u001b[39mor\u001b[39;00m visualize \u001b[39melse\u001b[39;00m \u001b[39mself\u001b[39;49m\u001b[39m.\u001b[39;49mmodel(im)\n\u001b[1;32m    337\u001b[0m \u001b[39melif\u001b[39;00m \u001b[39mself\u001b[39m\u001b[39m.\u001b[39mjit:  \u001b[39m# TorchScript\u001b[39;00m\n\u001b[1;32m    338\u001b[0m     y \u001b[39m=\u001b[39m \u001b[39mself\u001b[39m\u001b[39m.\u001b[39mmodel(im)\n",
      "File \u001b[0;32m/opt/homebrew/lib/python3.11/site-packages/torch/nn/modules/module.py:1501\u001b[0m, in \u001b[0;36mModule._call_impl\u001b[0;34m(self, *args, **kwargs)\u001b[0m\n\u001b[1;32m   1496\u001b[0m \u001b[39m# If we don't have any hooks, we want to skip the rest of the logic in\u001b[39;00m\n\u001b[1;32m   1497\u001b[0m \u001b[39m# this function, and just call forward.\u001b[39;00m\n\u001b[1;32m   1498\u001b[0m \u001b[39mif\u001b[39;00m \u001b[39mnot\u001b[39;00m (\u001b[39mself\u001b[39m\u001b[39m.\u001b[39m_backward_hooks \u001b[39mor\u001b[39;00m \u001b[39mself\u001b[39m\u001b[39m.\u001b[39m_backward_pre_hooks \u001b[39mor\u001b[39;00m \u001b[39mself\u001b[39m\u001b[39m.\u001b[39m_forward_hooks \u001b[39mor\u001b[39;00m \u001b[39mself\u001b[39m\u001b[39m.\u001b[39m_forward_pre_hooks\n\u001b[1;32m   1499\u001b[0m         \u001b[39mor\u001b[39;00m _global_backward_pre_hooks \u001b[39mor\u001b[39;00m _global_backward_hooks\n\u001b[1;32m   1500\u001b[0m         \u001b[39mor\u001b[39;00m _global_forward_hooks \u001b[39mor\u001b[39;00m _global_forward_pre_hooks):\n\u001b[0;32m-> 1501\u001b[0m     \u001b[39mreturn\u001b[39;00m forward_call(\u001b[39m*\u001b[39;49margs, \u001b[39m*\u001b[39;49m\u001b[39m*\u001b[39;49mkwargs)\n\u001b[1;32m   1502\u001b[0m \u001b[39m# Do not call functions when jit is used\u001b[39;00m\n\u001b[1;32m   1503\u001b[0m full_backward_hooks, non_full_backward_hooks \u001b[39m=\u001b[39m [], []\n",
      "File \u001b[0;32m/opt/homebrew/lib/python3.11/site-packages/ultralytics/nn/tasks.py:45\u001b[0m, in \u001b[0;36mBaseModel.forward\u001b[0;34m(self, x, *args, **kwargs)\u001b[0m\n\u001b[1;32m     43\u001b[0m \u001b[39mif\u001b[39;00m \u001b[39misinstance\u001b[39m(x, \u001b[39mdict\u001b[39m):  \u001b[39m# for cases of training and validating while training.\u001b[39;00m\n\u001b[1;32m     44\u001b[0m     \u001b[39mreturn\u001b[39;00m \u001b[39mself\u001b[39m\u001b[39m.\u001b[39mloss(x, \u001b[39m*\u001b[39margs, \u001b[39m*\u001b[39m\u001b[39m*\u001b[39mkwargs)\n\u001b[0;32m---> 45\u001b[0m \u001b[39mreturn\u001b[39;00m \u001b[39mself\u001b[39;49m\u001b[39m.\u001b[39;49mpredict(x, \u001b[39m*\u001b[39;49margs, \u001b[39m*\u001b[39;49m\u001b[39m*\u001b[39;49mkwargs)\n",
      "File \u001b[0;32m/opt/homebrew/lib/python3.11/site-packages/ultralytics/nn/tasks.py:62\u001b[0m, in \u001b[0;36mBaseModel.predict\u001b[0;34m(self, x, profile, visualize, augment)\u001b[0m\n\u001b[1;32m     60\u001b[0m \u001b[39mif\u001b[39;00m augment:\n\u001b[1;32m     61\u001b[0m     \u001b[39mreturn\u001b[39;00m \u001b[39mself\u001b[39m\u001b[39m.\u001b[39m_predict_augment(x)\n\u001b[0;32m---> 62\u001b[0m \u001b[39mreturn\u001b[39;00m \u001b[39mself\u001b[39;49m\u001b[39m.\u001b[39;49m_predict_once(x, profile, visualize)\n",
      "File \u001b[0;32m/opt/homebrew/lib/python3.11/site-packages/ultralytics/nn/tasks.py:82\u001b[0m, in \u001b[0;36mBaseModel._predict_once\u001b[0;34m(self, x, profile, visualize)\u001b[0m\n\u001b[1;32m     80\u001b[0m \u001b[39mif\u001b[39;00m profile:\n\u001b[1;32m     81\u001b[0m     \u001b[39mself\u001b[39m\u001b[39m.\u001b[39m_profile_one_layer(m, x, dt)\n\u001b[0;32m---> 82\u001b[0m x \u001b[39m=\u001b[39m m(x)  \u001b[39m# run\u001b[39;00m\n\u001b[1;32m     83\u001b[0m y\u001b[39m.\u001b[39mappend(x \u001b[39mif\u001b[39;00m m\u001b[39m.\u001b[39mi \u001b[39min\u001b[39;00m \u001b[39mself\u001b[39m\u001b[39m.\u001b[39msave \u001b[39melse\u001b[39;00m \u001b[39mNone\u001b[39;00m)  \u001b[39m# save output\u001b[39;00m\n\u001b[1;32m     84\u001b[0m \u001b[39mif\u001b[39;00m visualize:\n",
      "File \u001b[0;32m/opt/homebrew/lib/python3.11/site-packages/torch/nn/modules/module.py:1501\u001b[0m, in \u001b[0;36mModule._call_impl\u001b[0;34m(self, *args, **kwargs)\u001b[0m\n\u001b[1;32m   1496\u001b[0m \u001b[39m# If we don't have any hooks, we want to skip the rest of the logic in\u001b[39;00m\n\u001b[1;32m   1497\u001b[0m \u001b[39m# this function, and just call forward.\u001b[39;00m\n\u001b[1;32m   1498\u001b[0m \u001b[39mif\u001b[39;00m \u001b[39mnot\u001b[39;00m (\u001b[39mself\u001b[39m\u001b[39m.\u001b[39m_backward_hooks \u001b[39mor\u001b[39;00m \u001b[39mself\u001b[39m\u001b[39m.\u001b[39m_backward_pre_hooks \u001b[39mor\u001b[39;00m \u001b[39mself\u001b[39m\u001b[39m.\u001b[39m_forward_hooks \u001b[39mor\u001b[39;00m \u001b[39mself\u001b[39m\u001b[39m.\u001b[39m_forward_pre_hooks\n\u001b[1;32m   1499\u001b[0m         \u001b[39mor\u001b[39;00m _global_backward_pre_hooks \u001b[39mor\u001b[39;00m _global_backward_hooks\n\u001b[1;32m   1500\u001b[0m         \u001b[39mor\u001b[39;00m _global_forward_hooks \u001b[39mor\u001b[39;00m _global_forward_pre_hooks):\n\u001b[0;32m-> 1501\u001b[0m     \u001b[39mreturn\u001b[39;00m forward_call(\u001b[39m*\u001b[39;49margs, \u001b[39m*\u001b[39;49m\u001b[39m*\u001b[39;49mkwargs)\n\u001b[1;32m   1502\u001b[0m \u001b[39m# Do not call functions when jit is used\u001b[39;00m\n\u001b[1;32m   1503\u001b[0m full_backward_hooks, non_full_backward_hooks \u001b[39m=\u001b[39m [], []\n",
      "File \u001b[0;32m/opt/homebrew/lib/python3.11/site-packages/ultralytics/nn/modules/block.py:181\u001b[0m, in \u001b[0;36mC2f.forward\u001b[0;34m(self, x)\u001b[0m\n\u001b[1;32m    179\u001b[0m \u001b[39m\u001b[39m\u001b[39m\"\"\"Forward pass through C2f layer.\"\"\"\u001b[39;00m\n\u001b[1;32m    180\u001b[0m y \u001b[39m=\u001b[39m \u001b[39mlist\u001b[39m(\u001b[39mself\u001b[39m\u001b[39m.\u001b[39mcv1(x)\u001b[39m.\u001b[39mchunk(\u001b[39m2\u001b[39m, \u001b[39m1\u001b[39m))\n\u001b[0;32m--> 181\u001b[0m y\u001b[39m.\u001b[39mextend(m(y[\u001b[39m-\u001b[39m\u001b[39m1\u001b[39m]) \u001b[39mfor\u001b[39;00m m \u001b[39min\u001b[39;00m \u001b[39mself\u001b[39m\u001b[39m.\u001b[39mm)\n\u001b[1;32m    182\u001b[0m \u001b[39mreturn\u001b[39;00m \u001b[39mself\u001b[39m\u001b[39m.\u001b[39mcv2(torch\u001b[39m.\u001b[39mcat(y, \u001b[39m1\u001b[39m))\n",
      "File \u001b[0;32m/opt/homebrew/lib/python3.11/site-packages/ultralytics/nn/modules/block.py:181\u001b[0m, in \u001b[0;36m<genexpr>\u001b[0;34m(.0)\u001b[0m\n\u001b[1;32m    179\u001b[0m \u001b[39m\u001b[39m\u001b[39m\"\"\"Forward pass through C2f layer.\"\"\"\u001b[39;00m\n\u001b[1;32m    180\u001b[0m y \u001b[39m=\u001b[39m \u001b[39mlist\u001b[39m(\u001b[39mself\u001b[39m\u001b[39m.\u001b[39mcv1(x)\u001b[39m.\u001b[39mchunk(\u001b[39m2\u001b[39m, \u001b[39m1\u001b[39m))\n\u001b[0;32m--> 181\u001b[0m y\u001b[39m.\u001b[39mextend(m(y[\u001b[39m-\u001b[39;49m\u001b[39m1\u001b[39;49m]) \u001b[39mfor\u001b[39;00m m \u001b[39min\u001b[39;00m \u001b[39mself\u001b[39m\u001b[39m.\u001b[39mm)\n\u001b[1;32m    182\u001b[0m \u001b[39mreturn\u001b[39;00m \u001b[39mself\u001b[39m\u001b[39m.\u001b[39mcv2(torch\u001b[39m.\u001b[39mcat(y, \u001b[39m1\u001b[39m))\n",
      "File \u001b[0;32m/opt/homebrew/lib/python3.11/site-packages/torch/nn/modules/module.py:1501\u001b[0m, in \u001b[0;36mModule._call_impl\u001b[0;34m(self, *args, **kwargs)\u001b[0m\n\u001b[1;32m   1496\u001b[0m \u001b[39m# If we don't have any hooks, we want to skip the rest of the logic in\u001b[39;00m\n\u001b[1;32m   1497\u001b[0m \u001b[39m# this function, and just call forward.\u001b[39;00m\n\u001b[1;32m   1498\u001b[0m \u001b[39mif\u001b[39;00m \u001b[39mnot\u001b[39;00m (\u001b[39mself\u001b[39m\u001b[39m.\u001b[39m_backward_hooks \u001b[39mor\u001b[39;00m \u001b[39mself\u001b[39m\u001b[39m.\u001b[39m_backward_pre_hooks \u001b[39mor\u001b[39;00m \u001b[39mself\u001b[39m\u001b[39m.\u001b[39m_forward_hooks \u001b[39mor\u001b[39;00m \u001b[39mself\u001b[39m\u001b[39m.\u001b[39m_forward_pre_hooks\n\u001b[1;32m   1499\u001b[0m         \u001b[39mor\u001b[39;00m _global_backward_pre_hooks \u001b[39mor\u001b[39;00m _global_backward_hooks\n\u001b[1;32m   1500\u001b[0m         \u001b[39mor\u001b[39;00m _global_forward_hooks \u001b[39mor\u001b[39;00m _global_forward_pre_hooks):\n\u001b[0;32m-> 1501\u001b[0m     \u001b[39mreturn\u001b[39;00m forward_call(\u001b[39m*\u001b[39;49margs, \u001b[39m*\u001b[39;49m\u001b[39m*\u001b[39;49mkwargs)\n\u001b[1;32m   1502\u001b[0m \u001b[39m# Do not call functions when jit is used\u001b[39;00m\n\u001b[1;32m   1503\u001b[0m full_backward_hooks, non_full_backward_hooks \u001b[39m=\u001b[39m [], []\n",
      "File \u001b[0;32m/opt/homebrew/lib/python3.11/site-packages/ultralytics/nn/modules/block.py:283\u001b[0m, in \u001b[0;36mBottleneck.forward\u001b[0;34m(self, x)\u001b[0m\n\u001b[1;32m    281\u001b[0m \u001b[39mdef\u001b[39;00m \u001b[39mforward\u001b[39m(\u001b[39mself\u001b[39m, x):\n\u001b[1;32m    282\u001b[0m \u001b[39m    \u001b[39m\u001b[39m\"\"\"'forward()' applies the YOLOv5 FPN to input data.\"\"\"\u001b[39;00m\n\u001b[0;32m--> 283\u001b[0m     \u001b[39mreturn\u001b[39;00m x \u001b[39m+\u001b[39m \u001b[39mself\u001b[39m\u001b[39m.\u001b[39mcv2(\u001b[39mself\u001b[39;49m\u001b[39m.\u001b[39;49mcv1(x)) \u001b[39mif\u001b[39;00m \u001b[39mself\u001b[39m\u001b[39m.\u001b[39madd \u001b[39melse\u001b[39;00m \u001b[39mself\u001b[39m\u001b[39m.\u001b[39mcv2(\u001b[39mself\u001b[39m\u001b[39m.\u001b[39mcv1(x))\n",
      "File \u001b[0;32m/opt/homebrew/lib/python3.11/site-packages/torch/nn/modules/module.py:1501\u001b[0m, in \u001b[0;36mModule._call_impl\u001b[0;34m(self, *args, **kwargs)\u001b[0m\n\u001b[1;32m   1496\u001b[0m \u001b[39m# If we don't have any hooks, we want to skip the rest of the logic in\u001b[39;00m\n\u001b[1;32m   1497\u001b[0m \u001b[39m# this function, and just call forward.\u001b[39;00m\n\u001b[1;32m   1498\u001b[0m \u001b[39mif\u001b[39;00m \u001b[39mnot\u001b[39;00m (\u001b[39mself\u001b[39m\u001b[39m.\u001b[39m_backward_hooks \u001b[39mor\u001b[39;00m \u001b[39mself\u001b[39m\u001b[39m.\u001b[39m_backward_pre_hooks \u001b[39mor\u001b[39;00m \u001b[39mself\u001b[39m\u001b[39m.\u001b[39m_forward_hooks \u001b[39mor\u001b[39;00m \u001b[39mself\u001b[39m\u001b[39m.\u001b[39m_forward_pre_hooks\n\u001b[1;32m   1499\u001b[0m         \u001b[39mor\u001b[39;00m _global_backward_pre_hooks \u001b[39mor\u001b[39;00m _global_backward_hooks\n\u001b[1;32m   1500\u001b[0m         \u001b[39mor\u001b[39;00m _global_forward_hooks \u001b[39mor\u001b[39;00m _global_forward_pre_hooks):\n\u001b[0;32m-> 1501\u001b[0m     \u001b[39mreturn\u001b[39;00m forward_call(\u001b[39m*\u001b[39;49margs, \u001b[39m*\u001b[39;49m\u001b[39m*\u001b[39;49mkwargs)\n\u001b[1;32m   1502\u001b[0m \u001b[39m# Do not call functions when jit is used\u001b[39;00m\n\u001b[1;32m   1503\u001b[0m full_backward_hooks, non_full_backward_hooks \u001b[39m=\u001b[39m [], []\n",
      "File \u001b[0;32m/opt/homebrew/lib/python3.11/site-packages/ultralytics/nn/modules/conv.py:42\u001b[0m, in \u001b[0;36mConv.forward_fuse\u001b[0;34m(self, x)\u001b[0m\n\u001b[1;32m     40\u001b[0m \u001b[39mdef\u001b[39;00m \u001b[39mforward_fuse\u001b[39m(\u001b[39mself\u001b[39m, x):\n\u001b[1;32m     41\u001b[0m \u001b[39m    \u001b[39m\u001b[39m\"\"\"Perform transposed convolution of 2D data.\"\"\"\u001b[39;00m\n\u001b[0;32m---> 42\u001b[0m     \u001b[39mreturn\u001b[39;00m \u001b[39mself\u001b[39m\u001b[39m.\u001b[39mact(\u001b[39mself\u001b[39;49m\u001b[39m.\u001b[39;49mconv(x))\n",
      "File \u001b[0;32m/opt/homebrew/lib/python3.11/site-packages/torch/nn/modules/module.py:1501\u001b[0m, in \u001b[0;36mModule._call_impl\u001b[0;34m(self, *args, **kwargs)\u001b[0m\n\u001b[1;32m   1496\u001b[0m \u001b[39m# If we don't have any hooks, we want to skip the rest of the logic in\u001b[39;00m\n\u001b[1;32m   1497\u001b[0m \u001b[39m# this function, and just call forward.\u001b[39;00m\n\u001b[1;32m   1498\u001b[0m \u001b[39mif\u001b[39;00m \u001b[39mnot\u001b[39;00m (\u001b[39mself\u001b[39m\u001b[39m.\u001b[39m_backward_hooks \u001b[39mor\u001b[39;00m \u001b[39mself\u001b[39m\u001b[39m.\u001b[39m_backward_pre_hooks \u001b[39mor\u001b[39;00m \u001b[39mself\u001b[39m\u001b[39m.\u001b[39m_forward_hooks \u001b[39mor\u001b[39;00m \u001b[39mself\u001b[39m\u001b[39m.\u001b[39m_forward_pre_hooks\n\u001b[1;32m   1499\u001b[0m         \u001b[39mor\u001b[39;00m _global_backward_pre_hooks \u001b[39mor\u001b[39;00m _global_backward_hooks\n\u001b[1;32m   1500\u001b[0m         \u001b[39mor\u001b[39;00m _global_forward_hooks \u001b[39mor\u001b[39;00m _global_forward_pre_hooks):\n\u001b[0;32m-> 1501\u001b[0m     \u001b[39mreturn\u001b[39;00m forward_call(\u001b[39m*\u001b[39;49margs, \u001b[39m*\u001b[39;49m\u001b[39m*\u001b[39;49mkwargs)\n\u001b[1;32m   1502\u001b[0m \u001b[39m# Do not call functions when jit is used\u001b[39;00m\n\u001b[1;32m   1503\u001b[0m full_backward_hooks, non_full_backward_hooks \u001b[39m=\u001b[39m [], []\n",
      "File \u001b[0;32m/opt/homebrew/lib/python3.11/site-packages/torch/nn/modules/conv.py:463\u001b[0m, in \u001b[0;36mConv2d.forward\u001b[0;34m(self, input)\u001b[0m\n\u001b[1;32m    462\u001b[0m \u001b[39mdef\u001b[39;00m \u001b[39mforward\u001b[39m(\u001b[39mself\u001b[39m, \u001b[39minput\u001b[39m: Tensor) \u001b[39m-\u001b[39m\u001b[39m>\u001b[39m Tensor:\n\u001b[0;32m--> 463\u001b[0m     \u001b[39mreturn\u001b[39;00m \u001b[39mself\u001b[39;49m\u001b[39m.\u001b[39;49m_conv_forward(\u001b[39minput\u001b[39;49m, \u001b[39mself\u001b[39;49m\u001b[39m.\u001b[39;49mweight, \u001b[39mself\u001b[39;49m\u001b[39m.\u001b[39;49mbias)\n",
      "File \u001b[0;32m/opt/homebrew/lib/python3.11/site-packages/torch/nn/modules/conv.py:459\u001b[0m, in \u001b[0;36mConv2d._conv_forward\u001b[0;34m(self, input, weight, bias)\u001b[0m\n\u001b[1;32m    455\u001b[0m \u001b[39mif\u001b[39;00m \u001b[39mself\u001b[39m\u001b[39m.\u001b[39mpadding_mode \u001b[39m!=\u001b[39m \u001b[39m'\u001b[39m\u001b[39mzeros\u001b[39m\u001b[39m'\u001b[39m:\n\u001b[1;32m    456\u001b[0m     \u001b[39mreturn\u001b[39;00m F\u001b[39m.\u001b[39mconv2d(F\u001b[39m.\u001b[39mpad(\u001b[39minput\u001b[39m, \u001b[39mself\u001b[39m\u001b[39m.\u001b[39m_reversed_padding_repeated_twice, mode\u001b[39m=\u001b[39m\u001b[39mself\u001b[39m\u001b[39m.\u001b[39mpadding_mode),\n\u001b[1;32m    457\u001b[0m                     weight, bias, \u001b[39mself\u001b[39m\u001b[39m.\u001b[39mstride,\n\u001b[1;32m    458\u001b[0m                     _pair(\u001b[39m0\u001b[39m), \u001b[39mself\u001b[39m\u001b[39m.\u001b[39mdilation, \u001b[39mself\u001b[39m\u001b[39m.\u001b[39mgroups)\n\u001b[0;32m--> 459\u001b[0m \u001b[39mreturn\u001b[39;00m F\u001b[39m.\u001b[39;49mconv2d(\u001b[39minput\u001b[39;49m, weight, bias, \u001b[39mself\u001b[39;49m\u001b[39m.\u001b[39;49mstride,\n\u001b[1;32m    460\u001b[0m                 \u001b[39mself\u001b[39;49m\u001b[39m.\u001b[39;49mpadding, \u001b[39mself\u001b[39;49m\u001b[39m.\u001b[39;49mdilation, \u001b[39mself\u001b[39;49m\u001b[39m.\u001b[39;49mgroups)\n",
      "\u001b[0;31mKeyboardInterrupt\u001b[0m: "
     ]
    }
   ],
   "source": [
    "myColors = [[51, 153, 255],[255,0,0],[0,255,0],[0,0,255]]\n",
    "myPoints = []\n",
    "model = YOLO(\"/Users/gimgeon-yu/Desktop/openCV/724.pt\")\n",
    "\n",
    "cap = cv2.VideoCapture(\"/Users/gimgeon-yu/Desktop/openCV/friend_group_1.mp4\") #이 부분은 각자 수정하세요.\n",
    "#cap = cv2.VideoCapture(1)\n",
    "box_annotator = sv.BoxAnnotator(\n",
    "    thickness=2,\n",
    "    text_thickness=2,\n",
    "    text_scale=1\n",
    ")\n",
    "\n",
    "while cap.isOpened():\n",
    "    ret, img = cap.read()\n",
    "    if not ret:\n",
    "        break\n",
    "    results = model.track(img,  conf=0.3, iou=0.5, show=True, persist=True)[0]\n",
    "    \n",
    "    try:\n",
    "        #results = model.track(source=\"https://youtu.be/Zgi9g1ksQHc\", conf=0.3, iou=0.5, show=True)\n",
    "        boxes = results.boxes\n",
    "        \n",
    "        points = paintPoints(img, boxes, myColors)\n",
    "        for point in points:\n",
    "            myPoints.append(point)\n",
    "        drawOnCanvas(img, myPoints,myColors)\n",
    "            \n",
    "\n",
    "    except:\n",
    "        print(\"flag2\")\n",
    "        pass\n",
    "\n",
    "    \n",
    "\n",
    "    detections = sv.Detections.from_yolov8(results)\n",
    "    img = box_annotator.annotate(scene=img, detections=detections)\n",
    "    cv2.imshow(\"YoLO Test\",img)\n",
    "\n",
    "    \n",
    "\n",
    "    if cv2.waitKey(10)&0xFF ==ord(\"q\"):\n",
    "        break\n",
    "\n",
    "cap.release()\n",
    "cv2.destroyAllWindows()\n",
    "\n"
   ]
  },
  {
   "cell_type": "code",
   "execution_count": 5,
   "metadata": {},
   "outputs": [
    {
     "name": "stdout",
     "output_type": "stream",
     "text": [
      "tensor([[7.1686e+02, 7.4117e+01, 1.3858e+03, 1.0773e+03, 4.9656e-01, 0.0000e+00]])\n"
     ]
    }
   ],
   "source": [
    "print(data) #2차원 텐서구나.  #[x1, y1, x2, y2]"
   ]
  },
  {
   "cell_type": "code",
   "execution_count": 8,
   "metadata": {},
   "outputs": [
    {
     "name": "stdout",
     "output_type": "stream",
     "text": [
      "tensor([7.1686e+02, 7.4117e+01, 1.3858e+03, 1.0773e+03, 4.9656e-01, 0.0000e+00])\n"
     ]
    }
   ],
   "source": [
    "print(data[0]) #좌상, 우하"
   ]
  },
  {
   "cell_type": "code",
   "execution_count": 9,
   "metadata": {},
   "outputs": [
    {
     "name": "stdout",
     "output_type": "stream",
     "text": [
      "tensor(790.9783)\n"
     ]
    }
   ],
   "source": [
    "def findColor(img, Colors, count):\n",
    "    newPoints = []\n",
    "        if x != 0 and y != 0:\n",
    "            newPoints.append([x, y])\n",
    "        count += 1\n",
    "        # cv2.imshow(str(color[0]),mask)\n",
    "    return newPoints"
   ]
  },
  {
   "cell_type": "code",
   "execution_count": null,
   "metadata": {},
   "outputs": [],
   "source": [
    "import cv2\n",
    "import numpy as np\n",
    "\n",
    "\n",
    "myColorValues = [51, 153, 255]\n",
    "\n",
    "myPoints = []  ## [x , y , colorId ]\n",
    "\n",
    "#newPoints에 뭘 넣는 작업//계속 x,y에 넣으면 될듯.\n",
    "\n",
    "\n",
    "def drawOnCanvas(myPoints, myColorValues):\n",
    "    \n",
    "\n",
    "\n",
    "while True:\n",
    "    success, img = cap.read()\n",
    "    imgResult = img.copy()\n",
    "    newPoints = findColor(img, myColors, myColorValues)\n",
    "    if len(newPoints) != 0:\n",
    "        for newP in newPoints:\n",
    "            myPoints.append(newP) #새로운 리스트에 담기.\n",
    "    if len(myPoints) != 0: #그 새로운 리스트에 나온걸로 사용\n",
    "        drawOnCanvas(myPoints, myColorValues)\n",
    "\n",
    "    cv2.imshow(\"Result\", imgResult)\n",
    "    if cv2.waitKey(1) & 0xFF == ord('q'):\n",
    "        break\n"
   ]
  }
 ],
 "metadata": {
  "kernelspec": {
   "display_name": "Python 3",
   "language": "python",
   "name": "python3"
  },
  "language_info": {
   "codemirror_mode": {
    "name": "ipython",
    "version": 3
   },
   "file_extension": ".py",
   "mimetype": "text/x-python",
   "name": "python",
   "nbconvert_exporter": "python",
   "pygments_lexer": "ipython3",
   "version": "3.11.4"
  },
  "orig_nbformat": 4
 },
 "nbformat": 4,
 "nbformat_minor": 2
}

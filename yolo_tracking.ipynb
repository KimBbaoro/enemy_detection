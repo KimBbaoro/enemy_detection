{
 "cells": [
  {
   "cell_type": "code",
   "execution_count": 37,
   "metadata": {},
   "outputs": [],
   "source": [
    "import datetime\n",
    "from ultralytics import YOLO\n",
    "import cv2\n",
    "from deep_sort_realtime.deepsort_tracker import DeepSort"
   ]
  },
  {
   "cell_type": "code",
   "execution_count": 38,
   "metadata": {},
   "outputs": [],
   "source": [
    "CONFIDENCE_THESHOLD = 0.5\n",
    "GREEN = (0,255,0)\n",
    "WHITE = (255,255,255)\n",
    "\n"
   ]
  },
  {
   "cell_type": "code",
   "execution_count": 39,
   "metadata": {},
   "outputs": [
    {
     "name": "stderr",
     "output_type": "stream",
     "text": [
      "\n",
      "0: 256x416 (no detections), 34.1ms\n",
      "Speed: 3.8ms preprocess, 34.1ms inference, 0.4ms postprocess per image at shape (1, 3, 256, 416)\n",
      "\n",
      "0: 256x416 (no detections), 28.1ms\n",
      "Speed: 0.7ms preprocess, 28.1ms inference, 0.2ms postprocess per image at shape (1, 3, 256, 416)\n",
      "\n",
      "0: 256x416 (no detections), 21.2ms\n",
      "Speed: 0.8ms preprocess, 21.2ms inference, 0.2ms postprocess per image at shape (1, 3, 256, 416)\n",
      "\n",
      "0: 256x416 1 person, 23.8ms\n",
      "Speed: 0.7ms preprocess, 23.8ms inference, 0.5ms postprocess per image at shape (1, 3, 256, 416)\n",
      "\n",
      "0: 256x416 1 person, 21.4ms\n",
      "Speed: 0.7ms preprocess, 21.4ms inference, 0.3ms postprocess per image at shape (1, 3, 256, 416)\n"
     ]
    },
    {
     "name": "stdout",
     "output_type": "stream",
     "text": [
      "TIme to process 1 frame : 260 milliseconds\n",
      "TIme to process 1 frame : 32 milliseconds\n",
      "TIme to process 1 frame : 25 milliseconds\n",
      "TIme to process 1 frame : 29 milliseconds\n"
     ]
    },
    {
     "name": "stderr",
     "output_type": "stream",
     "text": [
      "\n",
      "0: 256x416 1 person, 24.6ms\n",
      "Speed: 0.7ms preprocess, 24.6ms inference, 0.3ms postprocess per image at shape (1, 3, 256, 416)\n",
      "\n",
      "0: 256x416 1 person, 24.9ms\n",
      "Speed: 1.0ms preprocess, 24.9ms inference, 0.3ms postprocess per image at shape (1, 3, 256, 416)\n",
      "\n",
      "0: 256x416 1 person, 22.3ms\n",
      "Speed: 0.9ms preprocess, 22.3ms inference, 0.3ms postprocess per image at shape (1, 3, 256, 416)\n"
     ]
    },
    {
     "name": "stdout",
     "output_type": "stream",
     "text": [
      "TIme to process 1 frame : 169 milliseconds\n",
      "TIme to process 1 frame : 29 milliseconds\n",
      "TIme to process 1 frame : 30 milliseconds\n"
     ]
    },
    {
     "name": "stderr",
     "output_type": "stream",
     "text": [
      "\n",
      "0: 256x416 1 person, 22.2ms\n",
      "Speed: 0.7ms preprocess, 22.2ms inference, 0.3ms postprocess per image at shape (1, 3, 256, 416)\n",
      "\n",
      "0: 256x416 1 person, 22.5ms\n",
      "Speed: 0.6ms preprocess, 22.5ms inference, 0.3ms postprocess per image at shape (1, 3, 256, 416)\n",
      "\n",
      "0: 256x416 1 person, 24.8ms\n",
      "Speed: 0.6ms preprocess, 24.8ms inference, 0.3ms postprocess per image at shape (1, 3, 256, 416)\n",
      "\n",
      "0: 256x416 1 person, 24.7ms\n",
      "Speed: 1.0ms preprocess, 24.7ms inference, 0.3ms postprocess per image at shape (1, 3, 256, 416)\n",
      "\n"
     ]
    },
    {
     "name": "stdout",
     "output_type": "stream",
     "text": [
      "TIme to process 1 frame : 163 milliseconds\n",
      "TIme to process 1 frame : 26 milliseconds\n",
      "TIme to process 1 frame : 26 milliseconds\n",
      "TIme to process 1 frame : 30 milliseconds\n",
      "TIme to process 1 frame : 29 milliseconds\n"
     ]
    },
    {
     "name": "stderr",
     "output_type": "stream",
     "text": [
      "0: 256x416 1 person, 22.1ms\n",
      "Speed: 0.8ms preprocess, 22.1ms inference, 0.3ms postprocess per image at shape (1, 3, 256, 416)\n",
      "\n",
      "0: 256x416 1 person, 26.2ms\n",
      "Speed: 0.7ms preprocess, 26.2ms inference, 0.3ms postprocess per image at shape (1, 3, 256, 416)\n",
      "\n",
      "0: 256x416 1 person, 22.3ms\n",
      "Speed: 0.8ms preprocess, 22.3ms inference, 0.3ms postprocess per image at shape (1, 3, 256, 416)\n",
      "\n",
      "0: 256x416 1 person, 28.0ms\n",
      "Speed: 0.7ms preprocess, 28.0ms inference, 0.3ms postprocess per image at shape (1, 3, 256, 416)\n",
      "\n",
      "0: 256x416 1 person, 25.2ms\n",
      "Speed: 0.8ms preprocess, 25.2ms inference, 0.4ms postprocess per image at shape (1, 3, 256, 416)\n",
      "\n"
     ]
    },
    {
     "name": "stdout",
     "output_type": "stream",
     "text": [
      "TIme to process 1 frame : 25 milliseconds\n",
      "TIme to process 1 frame : 30 milliseconds\n",
      "TIme to process 1 frame : 26 milliseconds\n",
      "TIme to process 1 frame : 32 milliseconds\n",
      "TIme to process 1 frame : 29 milliseconds\n"
     ]
    },
    {
     "name": "stderr",
     "output_type": "stream",
     "text": [
      "0: 256x416 (no detections), 23.0ms\n",
      "Speed: 0.7ms preprocess, 23.0ms inference, 0.2ms postprocess per image at shape (1, 3, 256, 416)\n",
      "\n",
      "0: 256x416 (no detections), 23.1ms\n",
      "Speed: 0.7ms preprocess, 23.1ms inference, 0.2ms postprocess per image at shape (1, 3, 256, 416)\n",
      "\n",
      "0: 256x416 1 person, 23.5ms\n",
      "Speed: 0.6ms preprocess, 23.5ms inference, 0.3ms postprocess per image at shape (1, 3, 256, 416)\n",
      "\n",
      "0: 256x416 1 person, 21.4ms\n",
      "Speed: 0.6ms preprocess, 21.4ms inference, 0.3ms postprocess per image at shape (1, 3, 256, 416)\n"
     ]
    },
    {
     "name": "stdout",
     "output_type": "stream",
     "text": [
      "TIme to process 1 frame : 26 milliseconds\n",
      "TIme to process 1 frame : 26 milliseconds\n",
      "TIme to process 1 frame : 27 milliseconds\n"
     ]
    },
    {
     "name": "stderr",
     "output_type": "stream",
     "text": [
      "\n",
      "0: 256x416 1 person, 22.3ms\n",
      "Speed: 0.6ms preprocess, 22.3ms inference, 0.3ms postprocess per image at shape (1, 3, 256, 416)\n"
     ]
    },
    {
     "name": "stdout",
     "output_type": "stream",
     "text": [
      "TIme to process 1 frame : 161 milliseconds\n",
      "TIme to process 1 frame : 176 milliseconds\n"
     ]
    },
    {
     "name": "stderr",
     "output_type": "stream",
     "text": [
      "\n",
      "0: 256x416 1 person, 21.3ms\n",
      "Speed: 0.7ms preprocess, 21.3ms inference, 0.3ms postprocess per image at shape (1, 3, 256, 416)\n",
      "\n",
      "0: 256x416 2 persons, 21.5ms\n",
      "Speed: 0.6ms preprocess, 21.5ms inference, 0.4ms postprocess per image at shape (1, 3, 256, 416)\n",
      "\n"
     ]
    },
    {
     "name": "stdout",
     "output_type": "stream",
     "text": [
      "TIme to process 1 frame : 173 milliseconds\n",
      "TIme to process 1 frame : 165 milliseconds\n"
     ]
    },
    {
     "name": "stderr",
     "output_type": "stream",
     "text": [
      "0: 256x416 2 persons, 21.7ms\n",
      "Speed: 0.6ms preprocess, 21.7ms inference, 0.3ms postprocess per image at shape (1, 3, 256, 416)\n",
      "\n",
      "0: 256x416 2 persons, 22.2ms\n",
      "Speed: 0.6ms preprocess, 22.2ms inference, 0.3ms postprocess per image at shape (1, 3, 256, 416)\n",
      "\n"
     ]
    },
    {
     "name": "stdout",
     "output_type": "stream",
     "text": [
      "TIme to process 1 frame : 161 milliseconds\n",
      "TIme to process 1 frame : 161 milliseconds\n"
     ]
    },
    {
     "name": "stderr",
     "output_type": "stream",
     "text": [
      "0: 256x416 2 persons, 21.5ms\n",
      "Speed: 0.7ms preprocess, 21.5ms inference, 0.3ms postprocess per image at shape (1, 3, 256, 416)\n",
      "\n",
      "0: 256x416 2 persons, 46.1ms\n",
      "Speed: 1.0ms preprocess, 46.1ms inference, 0.3ms postprocess per image at shape (1, 3, 256, 416)\n"
     ]
    },
    {
     "name": "stdout",
     "output_type": "stream",
     "text": [
      "TIme to process 1 frame : 195 milliseconds\n"
     ]
    },
    {
     "name": "stderr",
     "output_type": "stream",
     "text": [
      "\n",
      "0: 256x416 2 persons, 25.1ms\n",
      "Speed: 0.8ms preprocess, 25.1ms inference, 0.3ms postprocess per image at shape (1, 3, 256, 416)\n"
     ]
    },
    {
     "name": "stdout",
     "output_type": "stream",
     "text": [
      "TIme to process 1 frame : 316 milliseconds\n",
      "TIme to process 1 frame : 185 milliseconds\n"
     ]
    },
    {
     "name": "stderr",
     "output_type": "stream",
     "text": [
      "\n",
      "0: 256x416 2 persons, 26.5ms\n",
      "Speed: 0.9ms preprocess, 26.5ms inference, 0.4ms postprocess per image at shape (1, 3, 256, 416)\n",
      "\n",
      "0: 256x416 2 persons, 20.2ms\n",
      "Speed: 0.7ms preprocess, 20.2ms inference, 0.3ms postprocess per image at shape (1, 3, 256, 416)\n",
      "\n"
     ]
    },
    {
     "name": "stdout",
     "output_type": "stream",
     "text": [
      "TIme to process 1 frame : 31 milliseconds\n",
      "TIme to process 1 frame : 161 milliseconds\n"
     ]
    },
    {
     "name": "stderr",
     "output_type": "stream",
     "text": [
      "0: 256x416 2 persons, 21.3ms\n",
      "Speed: 0.6ms preprocess, 21.3ms inference, 0.3ms postprocess per image at shape (1, 3, 256, 416)\n",
      "\n",
      "0: 256x416 2 persons, 21.9ms\n",
      "Speed: 0.6ms preprocess, 21.9ms inference, 0.3ms postprocess per image at shape (1, 3, 256, 416)\n"
     ]
    },
    {
     "name": "stdout",
     "output_type": "stream",
     "text": [
      "TIme to process 1 frame : 162 milliseconds\n",
      "TIme to process 1 frame : 187 milliseconds\n"
     ]
    },
    {
     "name": "stderr",
     "output_type": "stream",
     "text": [
      "\n",
      "0: 256x416 2 persons, 26.9ms\n",
      "Speed: 0.9ms preprocess, 26.9ms inference, 0.3ms postprocess per image at shape (1, 3, 256, 416)\n",
      "\n",
      "0: 256x416 2 persons, 24.3ms\n",
      "Speed: 0.9ms preprocess, 24.3ms inference, 0.3ms postprocess per image at shape (1, 3, 256, 416)\n"
     ]
    },
    {
     "name": "stdout",
     "output_type": "stream",
     "text": [
      "TIme to process 1 frame : 199 milliseconds\n"
     ]
    },
    {
     "name": "stderr",
     "output_type": "stream",
     "text": [
      "\n",
      "0: 256x416 2 persons, 25.0ms\n",
      "Speed: 1.1ms preprocess, 25.0ms inference, 0.3ms postprocess per image at shape (1, 3, 256, 416)\n"
     ]
    },
    {
     "name": "stdout",
     "output_type": "stream",
     "text": [
      "TIme to process 1 frame : 263 milliseconds\n"
     ]
    },
    {
     "name": "stderr",
     "output_type": "stream",
     "text": [
      "\n",
      "0: 256x416 3 persons, 26.4ms\n",
      "Speed: 1.2ms preprocess, 26.4ms inference, 0.3ms postprocess per image at shape (1, 3, 256, 416)\n"
     ]
    },
    {
     "name": "stdout",
     "output_type": "stream",
     "text": [
      "TIme to process 1 frame : 205 milliseconds\n"
     ]
    },
    {
     "name": "stderr",
     "output_type": "stream",
     "text": [
      "\n",
      "0: 256x416 2 persons, 25.0ms\n",
      "Speed: 1.1ms preprocess, 25.0ms inference, 0.3ms postprocess per image at shape (1, 3, 256, 416)\n"
     ]
    },
    {
     "name": "stdout",
     "output_type": "stream",
     "text": [
      "TIme to process 1 frame : 200 milliseconds\n"
     ]
    },
    {
     "name": "stderr",
     "output_type": "stream",
     "text": [
      "\n",
      "0: 256x416 2 persons, 23.8ms\n",
      "Speed: 1.2ms preprocess, 23.8ms inference, 0.4ms postprocess per image at shape (1, 3, 256, 416)\n"
     ]
    },
    {
     "name": "stdout",
     "output_type": "stream",
     "text": [
      "TIme to process 1 frame : 224 milliseconds\n"
     ]
    },
    {
     "name": "stderr",
     "output_type": "stream",
     "text": [
      "\n",
      "0: 256x416 2 persons, 26.8ms\n",
      "Speed: 1.2ms preprocess, 26.8ms inference, 0.3ms postprocess per image at shape (1, 3, 256, 416)\n"
     ]
    },
    {
     "name": "stdout",
     "output_type": "stream",
     "text": [
      "TIme to process 1 frame : 196 milliseconds\n",
      "TIme to process 1 frame : 173 milliseconds\n"
     ]
    },
    {
     "name": "stderr",
     "output_type": "stream",
     "text": [
      "\n",
      "0: 256x416 2 persons, 25.7ms\n",
      "Speed: 1.0ms preprocess, 25.7ms inference, 0.3ms postprocess per image at shape (1, 3, 256, 416)\n",
      "\n",
      "0: 256x416 1 person, 21.0ms\n",
      "Speed: 0.7ms preprocess, 21.0ms inference, 0.3ms postprocess per image at shape (1, 3, 256, 416)\n",
      "\n"
     ]
    },
    {
     "name": "stdout",
     "output_type": "stream",
     "text": [
      "TIme to process 1 frame : 168 milliseconds\n",
      "TIme to process 1 frame : 164 milliseconds\n"
     ]
    },
    {
     "name": "stderr",
     "output_type": "stream",
     "text": [
      "0: 256x416 1 person, 26.9ms\n",
      "Speed: 0.9ms preprocess, 26.9ms inference, 0.3ms postprocess per image at shape (1, 3, 256, 416)\n",
      "\n",
      "0: 256x416 2 persons, 24.2ms\n",
      "Speed: 0.8ms preprocess, 24.2ms inference, 0.4ms postprocess per image at shape (1, 3, 256, 416)\n",
      "\n"
     ]
    },
    {
     "name": "stdout",
     "output_type": "stream",
     "text": [
      "TIme to process 1 frame : 183 milliseconds\n",
      "TIme to process 1 frame : 164 milliseconds\n"
     ]
    },
    {
     "name": "stderr",
     "output_type": "stream",
     "text": [
      "0: 256x416 2 persons, 40.0ms\n",
      "Speed: 0.9ms preprocess, 40.0ms inference, 0.4ms postprocess per image at shape (1, 3, 256, 416)\n",
      "\n",
      "0: 256x416 2 persons, 24.6ms\n",
      "Speed: 0.8ms preprocess, 24.6ms inference, 0.3ms postprocess per image at shape (1, 3, 256, 416)\n"
     ]
    },
    {
     "name": "stdout",
     "output_type": "stream",
     "text": [
      "TIme to process 1 frame : 245 milliseconds\n"
     ]
    },
    {
     "name": "stderr",
     "output_type": "stream",
     "text": [
      "\n",
      "0: 256x416 3 persons, 25.3ms\n",
      "Speed: 0.7ms preprocess, 25.3ms inference, 0.3ms postprocess per image at shape (1, 3, 256, 416)\n"
     ]
    },
    {
     "name": "stdout",
     "output_type": "stream",
     "text": [
      "TIme to process 1 frame : 195 milliseconds\n"
     ]
    },
    {
     "name": "stderr",
     "output_type": "stream",
     "text": [
      "\n",
      "0: 256x416 2 persons, 25.1ms\n",
      "Speed: 1.1ms preprocess, 25.1ms inference, 0.3ms postprocess per image at shape (1, 3, 256, 416)\n"
     ]
    },
    {
     "name": "stdout",
     "output_type": "stream",
     "text": [
      "TIme to process 1 frame : 194 milliseconds\n"
     ]
    },
    {
     "name": "stderr",
     "output_type": "stream",
     "text": [
      "\n",
      "0: 256x416 2 persons, 24.7ms\n",
      "Speed: 1.0ms preprocess, 24.7ms inference, 0.3ms postprocess per image at shape (1, 3, 256, 416)\n"
     ]
    },
    {
     "name": "stdout",
     "output_type": "stream",
     "text": [
      "TIme to process 1 frame : 195 milliseconds\n",
      "TIme to process 1 frame : 173 milliseconds\n"
     ]
    },
    {
     "name": "stderr",
     "output_type": "stream",
     "text": [
      "\n",
      "0: 256x416 2 persons, 24.4ms\n",
      "Speed: 0.8ms preprocess, 24.4ms inference, 0.3ms postprocess per image at shape (1, 3, 256, 416)\n",
      "\n",
      "0: 256x416 3 persons, 24.8ms\n",
      "Speed: 0.9ms preprocess, 24.8ms inference, 0.3ms postprocess per image at shape (1, 3, 256, 416)\n",
      "\n"
     ]
    },
    {
     "name": "stdout",
     "output_type": "stream",
     "text": [
      "TIme to process 1 frame : 220 milliseconds\n",
      "TIme to process 1 frame : 162 milliseconds\n"
     ]
    },
    {
     "name": "stderr",
     "output_type": "stream",
     "text": [
      "0: 256x416 2 persons, 25.8ms\n",
      "Speed: 0.8ms preprocess, 25.8ms inference, 0.3ms postprocess per image at shape (1, 3, 256, 416)\n",
      "\n",
      "0: 256x416 3 persons, 20.5ms\n",
      "Speed: 0.6ms preprocess, 20.5ms inference, 0.3ms postprocess per image at shape (1, 3, 256, 416)\n"
     ]
    },
    {
     "name": "stdout",
     "output_type": "stream",
     "text": [
      "TIme to process 1 frame : 168 milliseconds\n"
     ]
    },
    {
     "name": "stderr",
     "output_type": "stream",
     "text": [
      "\n",
      "0: 256x416 3 persons, 26.8ms\n",
      "Speed: 0.8ms preprocess, 26.8ms inference, 0.3ms postprocess per image at shape (1, 3, 256, 416)\n",
      "\n",
      "0: 256x416 3 persons, 24.2ms\n",
      "Speed: 0.7ms preprocess, 24.2ms inference, 0.3ms postprocess per image at shape (1, 3, 256, 416)\n",
      "\n"
     ]
    },
    {
     "name": "stdout",
     "output_type": "stream",
     "text": [
      "TIme to process 1 frame : 189 milliseconds\n",
      "TIme to process 1 frame : 31 milliseconds\n",
      "TIme to process 1 frame : 29 milliseconds\n"
     ]
    },
    {
     "name": "stderr",
     "output_type": "stream",
     "text": [
      "0: 256x416 2 persons, 116.3ms\n",
      "Speed: 1.0ms preprocess, 116.3ms inference, 0.7ms postprocess per image at shape (1, 3, 256, 416)\n",
      "\n",
      "0: 256x416 3 persons, 21.9ms\n",
      "Speed: 0.7ms preprocess, 21.9ms inference, 0.4ms postprocess per image at shape (1, 3, 256, 416)\n"
     ]
    },
    {
     "name": "stdout",
     "output_type": "stream",
     "text": [
      "TIme to process 1 frame : 273 milliseconds\n"
     ]
    },
    {
     "name": "stderr",
     "output_type": "stream",
     "text": [
      "\n",
      "0: 256x416 3 persons, 23.5ms\n",
      "Speed: 0.8ms preprocess, 23.5ms inference, 0.4ms postprocess per image at shape (1, 3, 256, 416)\n",
      "\n"
     ]
    },
    {
     "name": "stdout",
     "output_type": "stream",
     "text": [
      "TIme to process 1 frame : 199 milliseconds\n",
      "TIme to process 1 frame : 170 milliseconds\n"
     ]
    },
    {
     "name": "stderr",
     "output_type": "stream",
     "text": [
      "0: 256x416 3 persons, 21.3ms\n",
      "Speed: 0.8ms preprocess, 21.3ms inference, 0.3ms postprocess per image at shape (1, 3, 256, 416)\n",
      "\n",
      "0: 256x416 3 persons, 41.8ms\n",
      "Speed: 1.2ms preprocess, 41.8ms inference, 0.8ms postprocess per image at shape (1, 3, 256, 416)\n"
     ]
    },
    {
     "name": "stdout",
     "output_type": "stream",
     "text": [
      "TIme to process 1 frame : 265 milliseconds\n"
     ]
    },
    {
     "name": "stderr",
     "output_type": "stream",
     "text": [
      "\n",
      "0: 256x416 3 persons, 25.9ms\n",
      "Speed: 1.3ms preprocess, 25.9ms inference, 0.3ms postprocess per image at shape (1, 3, 256, 416)\n"
     ]
    },
    {
     "name": "stdout",
     "output_type": "stream",
     "text": [
      "TIme to process 1 frame : 262 milliseconds\n"
     ]
    },
    {
     "name": "stderr",
     "output_type": "stream",
     "text": [
      "\n",
      "0: 256x416 3 persons, 27.7ms\n",
      "Speed: 0.8ms preprocess, 27.7ms inference, 0.4ms postprocess per image at shape (1, 3, 256, 416)\n"
     ]
    },
    {
     "name": "stdout",
     "output_type": "stream",
     "text": [
      "TIme to process 1 frame : 203 milliseconds\n",
      "TIme to process 1 frame : 185 milliseconds\n"
     ]
    },
    {
     "name": "stderr",
     "output_type": "stream",
     "text": [
      "\n",
      "0: 256x416 3 persons, 26.8ms\n",
      "Speed: 0.9ms preprocess, 26.8ms inference, 0.6ms postprocess per image at shape (1, 3, 256, 416)\n",
      "\n",
      "0: 256x416 3 persons, 24.4ms\n",
      "Speed: 0.7ms preprocess, 24.4ms inference, 0.3ms postprocess per image at shape (1, 3, 256, 416)\n"
     ]
    },
    {
     "name": "stdout",
     "output_type": "stream",
     "text": [
      "TIme to process 1 frame : 250 milliseconds\n"
     ]
    },
    {
     "name": "stderr",
     "output_type": "stream",
     "text": [
      "\n",
      "0: 256x416 3 persons, 25.0ms\n",
      "Speed: 0.8ms preprocess, 25.0ms inference, 0.3ms postprocess per image at shape (1, 3, 256, 416)\n"
     ]
    },
    {
     "name": "stdout",
     "output_type": "stream",
     "text": [
      "TIme to process 1 frame : 193 milliseconds\n",
      "TIme to process 1 frame : 179 milliseconds\n"
     ]
    },
    {
     "name": "stderr",
     "output_type": "stream",
     "text": [
      "\n",
      "0: 256x416 3 persons, 26.6ms\n",
      "Speed: 0.7ms preprocess, 26.6ms inference, 0.3ms postprocess per image at shape (1, 3, 256, 416)\n",
      "\n",
      "0: 256x416 3 persons, 22.0ms\n",
      "Speed: 0.9ms preprocess, 22.0ms inference, 0.3ms postprocess per image at shape (1, 3, 256, 416)\n"
     ]
    },
    {
     "name": "stdout",
     "output_type": "stream",
     "text": [
      "TIme to process 1 frame : 195 milliseconds\n",
      "TIme to process 1 frame : 179 milliseconds\n"
     ]
    },
    {
     "name": "stderr",
     "output_type": "stream",
     "text": [
      "\n",
      "0: 256x416 4 persons, 24.2ms\n",
      "Speed: 1.0ms preprocess, 24.2ms inference, 0.3ms postprocess per image at shape (1, 3, 256, 416)\n",
      "\n",
      "0: 256x416 4 persons, 20.0ms\n",
      "Speed: 0.6ms preprocess, 20.0ms inference, 0.3ms postprocess per image at shape (1, 3, 256, 416)\n",
      "\n"
     ]
    },
    {
     "name": "stdout",
     "output_type": "stream",
     "text": [
      "TIme to process 1 frame : 164 milliseconds\n",
      "TIme to process 1 frame : 159 milliseconds\n"
     ]
    },
    {
     "name": "stderr",
     "output_type": "stream",
     "text": [
      "0: 256x416 3 persons, 23.2ms\n",
      "Speed: 0.7ms preprocess, 23.2ms inference, 0.3ms postprocess per image at shape (1, 3, 256, 416)\n",
      "\n",
      "0: 256x416 3 persons, 27.7ms\n",
      "Speed: 1.3ms preprocess, 27.7ms inference, 0.3ms postprocess per image at shape (1, 3, 256, 416)\n"
     ]
    },
    {
     "name": "stdout",
     "output_type": "stream",
     "text": [
      "TIme to process 1 frame : 254 milliseconds\n"
     ]
    },
    {
     "name": "stderr",
     "output_type": "stream",
     "text": [
      "\n",
      "0: 256x416 3 persons, 26.2ms\n",
      "Speed: 1.0ms preprocess, 26.2ms inference, 0.3ms postprocess per image at shape (1, 3, 256, 416)\n"
     ]
    },
    {
     "name": "stdout",
     "output_type": "stream",
     "text": [
      "TIme to process 1 frame : 252 milliseconds\n"
     ]
    },
    {
     "name": "stderr",
     "output_type": "stream",
     "text": [
      "\n",
      "0: 256x416 3 persons, 28.0ms\n",
      "Speed: 0.9ms preprocess, 28.0ms inference, 0.3ms postprocess per image at shape (1, 3, 256, 416)\n"
     ]
    },
    {
     "name": "stdout",
     "output_type": "stream",
     "text": [
      "TIme to process 1 frame : 200 milliseconds\n"
     ]
    },
    {
     "name": "stderr",
     "output_type": "stream",
     "text": [
      "\n",
      "0: 256x416 3 persons, 27.7ms\n",
      "Speed: 0.7ms preprocess, 27.7ms inference, 0.7ms postprocess per image at shape (1, 3, 256, 416)\n"
     ]
    },
    {
     "name": "stdout",
     "output_type": "stream",
     "text": [
      "TIme to process 1 frame : 198 milliseconds\n"
     ]
    },
    {
     "name": "stderr",
     "output_type": "stream",
     "text": [
      "\n",
      "0: 256x416 3 persons, 25.9ms\n",
      "Speed: 0.8ms preprocess, 25.9ms inference, 0.3ms postprocess per image at shape (1, 3, 256, 416)\n"
     ]
    },
    {
     "name": "stdout",
     "output_type": "stream",
     "text": [
      "TIme to process 1 frame : 220 milliseconds\n",
      "TIme to process 1 frame : 176 milliseconds\n"
     ]
    },
    {
     "name": "stderr",
     "output_type": "stream",
     "text": [
      "\n",
      "0: 256x416 3 persons, 25.5ms\n",
      "Speed: 0.8ms preprocess, 25.5ms inference, 0.3ms postprocess per image at shape (1, 3, 256, 416)\n",
      "\n",
      "0: 256x416 3 persons, 24.6ms\n",
      "Speed: 0.8ms preprocess, 24.6ms inference, 0.3ms postprocess per image at shape (1, 3, 256, 416)\n"
     ]
    },
    {
     "name": "stdout",
     "output_type": "stream",
     "text": [
      "TIme to process 1 frame : 195 milliseconds\n"
     ]
    },
    {
     "name": "stderr",
     "output_type": "stream",
     "text": [
      "\n",
      "0: 256x416 3 persons, 25.1ms\n",
      "Speed: 0.8ms preprocess, 25.1ms inference, 0.3ms postprocess per image at shape (1, 3, 256, 416)\n"
     ]
    },
    {
     "name": "stdout",
     "output_type": "stream",
     "text": [
      "TIme to process 1 frame : 193 milliseconds\n"
     ]
    },
    {
     "name": "stderr",
     "output_type": "stream",
     "text": [
      "\n",
      "0: 256x416 2 persons, 26.5ms\n",
      "Speed: 1.2ms preprocess, 26.5ms inference, 0.3ms postprocess per image at shape (1, 3, 256, 416)\n"
     ]
    },
    {
     "name": "stdout",
     "output_type": "stream",
     "text": [
      "TIme to process 1 frame : 212 milliseconds\n",
      "TIme to process 1 frame : 180 milliseconds\n"
     ]
    },
    {
     "name": "stderr",
     "output_type": "stream",
     "text": [
      "\n",
      "0: 256x416 3 persons, 24.3ms\n",
      "Speed: 0.6ms preprocess, 24.3ms inference, 0.3ms postprocess per image at shape (1, 3, 256, 416)\n",
      "\n",
      "0: 256x416 3 persons, 21.7ms\n",
      "Speed: 0.6ms preprocess, 21.7ms inference, 0.3ms postprocess per image at shape (1, 3, 256, 416)\n"
     ]
    },
    {
     "name": "stdout",
     "output_type": "stream",
     "text": [
      "TIme to process 1 frame : 167 milliseconds\n",
      "TIme to process 1 frame : 185 milliseconds\n"
     ]
    },
    {
     "name": "stderr",
     "output_type": "stream",
     "text": [
      "\n",
      "0: 256x416 3 persons, 25.0ms\n",
      "Speed: 0.7ms preprocess, 25.0ms inference, 0.3ms postprocess per image at shape (1, 3, 256, 416)\n",
      "\n",
      "0: 256x416 3 persons, 23.4ms\n",
      "Speed: 1.1ms preprocess, 23.4ms inference, 0.3ms postprocess per image at shape (1, 3, 256, 416)\n"
     ]
    },
    {
     "name": "stdout",
     "output_type": "stream",
     "text": [
      "TIme to process 1 frame : 178 milliseconds\n"
     ]
    },
    {
     "name": "stderr",
     "output_type": "stream",
     "text": [
      "\n",
      "0: 256x416 3 persons, 27.6ms\n",
      "Speed: 0.9ms preprocess, 27.6ms inference, 0.3ms postprocess per image at shape (1, 3, 256, 416)\n"
     ]
    },
    {
     "name": "stdout",
     "output_type": "stream",
     "text": [
      "TIme to process 1 frame : 257 milliseconds\n"
     ]
    },
    {
     "name": "stderr",
     "output_type": "stream",
     "text": [
      "\n",
      "0: 256x416 3 persons, 28.9ms\n",
      "Speed: 1.2ms preprocess, 28.9ms inference, 0.3ms postprocess per image at shape (1, 3, 256, 416)\n"
     ]
    },
    {
     "name": "stdout",
     "output_type": "stream",
     "text": [
      "TIme to process 1 frame : 251 milliseconds\n"
     ]
    },
    {
     "name": "stderr",
     "output_type": "stream",
     "text": [
      "\n",
      "0: 256x416 3 persons, 27.8ms\n",
      "Speed: 1.0ms preprocess, 27.8ms inference, 0.3ms postprocess per image at shape (1, 3, 256, 416)\n"
     ]
    },
    {
     "name": "stdout",
     "output_type": "stream",
     "text": [
      "TIme to process 1 frame : 263 milliseconds\n"
     ]
    },
    {
     "name": "stderr",
     "output_type": "stream",
     "text": [
      "\n",
      "0: 256x416 6 persons, 55.5ms\n",
      "Speed: 1.3ms preprocess, 55.5ms inference, 1.1ms postprocess per image at shape (1, 3, 256, 416)\n"
     ]
    },
    {
     "name": "stdout",
     "output_type": "stream",
     "text": [
      "TIme to process 1 frame : 315 milliseconds\n"
     ]
    },
    {
     "name": "stderr",
     "output_type": "stream",
     "text": [
      "\n",
      "0: 256x416 4 persons, 29.3ms\n",
      "Speed: 1.2ms preprocess, 29.3ms inference, 0.3ms postprocess per image at shape (1, 3, 256, 416)\n"
     ]
    },
    {
     "name": "stdout",
     "output_type": "stream",
     "text": [
      "TIme to process 1 frame : 311 milliseconds\n"
     ]
    },
    {
     "name": "stderr",
     "output_type": "stream",
     "text": [
      "\n",
      "0: 256x416 3 persons, 29.1ms\n",
      "Speed: 0.9ms preprocess, 29.1ms inference, 0.3ms postprocess per image at shape (1, 3, 256, 416)\n"
     ]
    },
    {
     "name": "stdout",
     "output_type": "stream",
     "text": [
      "TIme to process 1 frame : 216 milliseconds\n"
     ]
    },
    {
     "name": "stderr",
     "output_type": "stream",
     "text": [
      "\n",
      "0: 256x416 3 persons, 31.6ms\n",
      "Speed: 1.1ms preprocess, 31.6ms inference, 0.5ms postprocess per image at shape (1, 3, 256, 416)\n"
     ]
    },
    {
     "name": "stdout",
     "output_type": "stream",
     "text": [
      "TIme to process 1 frame : 263 milliseconds\n"
     ]
    },
    {
     "name": "stderr",
     "output_type": "stream",
     "text": [
      "\n",
      "0: 256x416 3 persons, 26.2ms\n",
      "Speed: 1.2ms preprocess, 26.2ms inference, 0.3ms postprocess per image at shape (1, 3, 256, 416)\n"
     ]
    },
    {
     "name": "stdout",
     "output_type": "stream",
     "text": [
      "TIme to process 1 frame : 229 milliseconds\n"
     ]
    },
    {
     "name": "stderr",
     "output_type": "stream",
     "text": [
      "\n",
      "0: 256x416 3 persons, 28.3ms\n",
      "Speed: 1.0ms preprocess, 28.3ms inference, 0.3ms postprocess per image at shape (1, 3, 256, 416)\n"
     ]
    },
    {
     "name": "stdout",
     "output_type": "stream",
     "text": [
      "TIme to process 1 frame : 211 milliseconds\n"
     ]
    },
    {
     "name": "stderr",
     "output_type": "stream",
     "text": [
      "\n",
      "0: 256x416 3 persons, 25.3ms\n",
      "Speed: 0.9ms preprocess, 25.3ms inference, 0.4ms postprocess per image at shape (1, 3, 256, 416)\n"
     ]
    },
    {
     "name": "stdout",
     "output_type": "stream",
     "text": [
      "TIme to process 1 frame : 199 milliseconds\n"
     ]
    },
    {
     "name": "stderr",
     "output_type": "stream",
     "text": [
      "\n",
      "0: 256x416 4 persons, 25.8ms\n",
      "Speed: 0.9ms preprocess, 25.8ms inference, 0.4ms postprocess per image at shape (1, 3, 256, 416)\n"
     ]
    },
    {
     "name": "stdout",
     "output_type": "stream",
     "text": [
      "TIme to process 1 frame : 196 milliseconds\n",
      "TIme to process 1 frame : 171 milliseconds\n"
     ]
    },
    {
     "name": "stderr",
     "output_type": "stream",
     "text": [
      "\n",
      "0: 256x416 3 persons, 23.6ms\n",
      "Speed: 0.8ms preprocess, 23.6ms inference, 0.3ms postprocess per image at shape (1, 3, 256, 416)\n",
      "\n",
      "0: 256x416 3 persons, 22.3ms\n",
      "Speed: 0.7ms preprocess, 22.3ms inference, 0.3ms postprocess per image at shape (1, 3, 256, 416)\n"
     ]
    },
    {
     "name": "stdout",
     "output_type": "stream",
     "text": [
      "TIme to process 1 frame : 168 milliseconds\n"
     ]
    },
    {
     "name": "stderr",
     "output_type": "stream",
     "text": [
      "\n",
      "0: 256x416 3 persons, 45.2ms\n",
      "Speed: 2.2ms preprocess, 45.2ms inference, 0.3ms postprocess per image at shape (1, 3, 256, 416)\n"
     ]
    },
    {
     "name": "stdout",
     "output_type": "stream",
     "text": [
      "TIme to process 1 frame : 190 milliseconds\n"
     ]
    },
    {
     "name": "stderr",
     "output_type": "stream",
     "text": [
      "\n",
      "0: 256x416 2 persons, 26.7ms\n",
      "Speed: 0.9ms preprocess, 26.7ms inference, 0.3ms postprocess per image at shape (1, 3, 256, 416)\n"
     ]
    },
    {
     "name": "stdout",
     "output_type": "stream",
     "text": [
      "TIme to process 1 frame : 224 milliseconds\n"
     ]
    },
    {
     "name": "stderr",
     "output_type": "stream",
     "text": [
      "\n",
      "0: 256x416 2 persons, 27.6ms\n",
      "Speed: 0.8ms preprocess, 27.6ms inference, 0.3ms postprocess per image at shape (1, 3, 256, 416)\n"
     ]
    },
    {
     "name": "stdout",
     "output_type": "stream",
     "text": [
      "TIme to process 1 frame : 200 milliseconds\n"
     ]
    },
    {
     "name": "stderr",
     "output_type": "stream",
     "text": [
      "\n",
      "0: 256x416 2 persons, 24.8ms\n",
      "Speed: 1.3ms preprocess, 24.8ms inference, 0.3ms postprocess per image at shape (1, 3, 256, 416)\n"
     ]
    },
    {
     "name": "stdout",
     "output_type": "stream",
     "text": [
      "TIme to process 1 frame : 197 milliseconds\n"
     ]
    },
    {
     "name": "stderr",
     "output_type": "stream",
     "text": [
      "\n",
      "0: 256x416 3 persons, 26.5ms\n",
      "Speed: 0.8ms preprocess, 26.5ms inference, 0.3ms postprocess per image at shape (1, 3, 256, 416)\n"
     ]
    },
    {
     "name": "stdout",
     "output_type": "stream",
     "text": [
      "TIme to process 1 frame : 196 milliseconds\n"
     ]
    },
    {
     "name": "stderr",
     "output_type": "stream",
     "text": [
      "\n",
      "0: 256x416 3 persons, 26.8ms\n",
      "Speed: 1.2ms preprocess, 26.8ms inference, 0.3ms postprocess per image at shape (1, 3, 256, 416)\n"
     ]
    },
    {
     "name": "stdout",
     "output_type": "stream",
     "text": [
      "TIme to process 1 frame : 269 milliseconds\n"
     ]
    },
    {
     "name": "stderr",
     "output_type": "stream",
     "text": [
      "\n",
      "0: 256x416 3 persons, 26.5ms\n",
      "Speed: 0.9ms preprocess, 26.5ms inference, 0.3ms postprocess per image at shape (1, 3, 256, 416)\n"
     ]
    },
    {
     "name": "stdout",
     "output_type": "stream",
     "text": [
      "TIme to process 1 frame : 252 milliseconds\n",
      "TIme to process 1 frame : 162 milliseconds\n"
     ]
    },
    {
     "name": "stderr",
     "output_type": "stream",
     "text": [
      "\n",
      "0: 256x416 3 persons, 26.1ms\n",
      "Speed: 1.4ms preprocess, 26.1ms inference, 0.3ms postprocess per image at shape (1, 3, 256, 416)\n",
      "\n",
      "0: 256x416 2 persons, 24.5ms\n",
      "Speed: 0.8ms preprocess, 24.5ms inference, 0.3ms postprocess per image at shape (1, 3, 256, 416)\n"
     ]
    },
    {
     "name": "stdout",
     "output_type": "stream",
     "text": [
      "TIme to process 1 frame : 198 milliseconds\n",
      "TIme to process 1 frame : 171 milliseconds\n"
     ]
    },
    {
     "name": "stderr",
     "output_type": "stream",
     "text": [
      "\n",
      "0: 256x416 2 persons, 23.7ms\n",
      "Speed: 0.8ms preprocess, 23.7ms inference, 0.3ms postprocess per image at shape (1, 3, 256, 416)\n",
      "\n",
      "0: 256x416 5 persons, 23.9ms\n",
      "Speed: 0.7ms preprocess, 23.9ms inference, 0.3ms postprocess per image at shape (1, 3, 256, 416)\n"
     ]
    },
    {
     "name": "stdout",
     "output_type": "stream",
     "text": [
      "TIme to process 1 frame : 192 milliseconds\n"
     ]
    },
    {
     "name": "stderr",
     "output_type": "stream",
     "text": [
      "\n",
      "0: 256x416 2 persons, 32.0ms\n",
      "Speed: 2.8ms preprocess, 32.0ms inference, 0.3ms postprocess per image at shape (1, 3, 256, 416)\n"
     ]
    },
    {
     "name": "stdout",
     "output_type": "stream",
     "text": [
      "TIme to process 1 frame : 203 milliseconds\n"
     ]
    },
    {
     "name": "stderr",
     "output_type": "stream",
     "text": [
      "\n",
      "0: 256x416 3 persons, 25.8ms\n",
      "Speed: 0.8ms preprocess, 25.8ms inference, 0.4ms postprocess per image at shape (1, 3, 256, 416)\n"
     ]
    },
    {
     "name": "stdout",
     "output_type": "stream",
     "text": [
      "TIme to process 1 frame : 191 milliseconds\n"
     ]
    },
    {
     "name": "stderr",
     "output_type": "stream",
     "text": [
      "\n",
      "0: 256x416 2 persons, 29.3ms\n",
      "Speed: 1.5ms preprocess, 29.3ms inference, 0.4ms postprocess per image at shape (1, 3, 256, 416)\n"
     ]
    },
    {
     "name": "stdout",
     "output_type": "stream",
     "text": [
      "TIme to process 1 frame : 189 milliseconds\n"
     ]
    },
    {
     "name": "stderr",
     "output_type": "stream",
     "text": [
      "\n",
      "0: 256x416 2 persons, 32.2ms\n",
      "Speed: 1.3ms preprocess, 32.2ms inference, 0.4ms postprocess per image at shape (1, 3, 256, 416)\n"
     ]
    },
    {
     "name": "stdout",
     "output_type": "stream",
     "text": [
      "TIme to process 1 frame : 210 milliseconds\n"
     ]
    },
    {
     "name": "stderr",
     "output_type": "stream",
     "text": [
      "\n",
      "0: 256x416 2 persons, 24.0ms\n",
      "Speed: 1.0ms preprocess, 24.0ms inference, 0.3ms postprocess per image at shape (1, 3, 256, 416)\n"
     ]
    },
    {
     "name": "stdout",
     "output_type": "stream",
     "text": [
      "TIme to process 1 frame : 213 milliseconds\n",
      "TIme to process 1 frame : 180 milliseconds\n"
     ]
    },
    {
     "name": "stderr",
     "output_type": "stream",
     "text": [
      "\n",
      "0: 256x416 4 persons, 25.7ms\n",
      "Speed: 0.9ms preprocess, 25.7ms inference, 0.3ms postprocess per image at shape (1, 3, 256, 416)\n",
      "\n",
      "0: 256x416 3 persons, 23.2ms\n",
      "Speed: 0.7ms preprocess, 23.2ms inference, 0.3ms postprocess per image at shape (1, 3, 256, 416)\n"
     ]
    },
    {
     "name": "stdout",
     "output_type": "stream",
     "text": [
      "TIme to process 1 frame : 170 milliseconds\n"
     ]
    },
    {
     "name": "stderr",
     "output_type": "stream",
     "text": [
      "\n",
      "0: 256x416 3 persons, 32.9ms\n",
      "Speed: 1.1ms preprocess, 32.9ms inference, 0.3ms postprocess per image at shape (1, 3, 256, 416)\n"
     ]
    },
    {
     "name": "stdout",
     "output_type": "stream",
     "text": [
      "TIme to process 1 frame : 189 milliseconds\n"
     ]
    },
    {
     "name": "stderr",
     "output_type": "stream",
     "text": [
      "\n",
      "0: 256x416 4 persons, 26.1ms\n",
      "Speed: 1.3ms preprocess, 26.1ms inference, 0.3ms postprocess per image at shape (1, 3, 256, 416)\n"
     ]
    },
    {
     "name": "stdout",
     "output_type": "stream",
     "text": [
      "TIme to process 1 frame : 204 milliseconds\n"
     ]
    },
    {
     "name": "stderr",
     "output_type": "stream",
     "text": [
      "\n",
      "0: 256x416 8 persons, 27.1ms\n",
      "Speed: 1.1ms preprocess, 27.1ms inference, 0.3ms postprocess per image at shape (1, 3, 256, 416)\n"
     ]
    },
    {
     "name": "stdout",
     "output_type": "stream",
     "text": [
      "TIme to process 1 frame : 196 milliseconds\n"
     ]
    },
    {
     "name": "stderr",
     "output_type": "stream",
     "text": [
      "\n",
      "0: 256x416 7 persons, 31.3ms\n",
      "Speed: 2.2ms preprocess, 31.3ms inference, 0.3ms postprocess per image at shape (1, 3, 256, 416)\n"
     ]
    },
    {
     "name": "stdout",
     "output_type": "stream",
     "text": [
      "TIme to process 1 frame : 197 milliseconds\n"
     ]
    },
    {
     "name": "stderr",
     "output_type": "stream",
     "text": [
      "\n",
      "0: 256x416 4 persons, 24.5ms\n",
      "Speed: 0.8ms preprocess, 24.5ms inference, 0.4ms postprocess per image at shape (1, 3, 256, 416)\n"
     ]
    },
    {
     "name": "stdout",
     "output_type": "stream",
     "text": [
      "TIme to process 1 frame : 202 milliseconds\n"
     ]
    },
    {
     "name": "stderr",
     "output_type": "stream",
     "text": [
      "\n",
      "0: 256x416 7 persons, 24.0ms\n",
      "Speed: 1.2ms preprocess, 24.0ms inference, 0.3ms postprocess per image at shape (1, 3, 256, 416)\n"
     ]
    },
    {
     "name": "stdout",
     "output_type": "stream",
     "text": [
      "TIme to process 1 frame : 200 milliseconds\n"
     ]
    },
    {
     "name": "stderr",
     "output_type": "stream",
     "text": [
      "\n",
      "0: 256x416 5 persons, 24.5ms\n",
      "Speed: 1.3ms preprocess, 24.5ms inference, 0.3ms postprocess per image at shape (1, 3, 256, 416)\n"
     ]
    },
    {
     "name": "stdout",
     "output_type": "stream",
     "text": [
      "TIme to process 1 frame : 197 milliseconds\n"
     ]
    },
    {
     "name": "stderr",
     "output_type": "stream",
     "text": [
      "\n",
      "0: 256x416 4 persons, 25.5ms\n",
      "Speed: 0.8ms preprocess, 25.5ms inference, 0.3ms postprocess per image at shape (1, 3, 256, 416)\n"
     ]
    },
    {
     "name": "stdout",
     "output_type": "stream",
     "text": [
      "TIme to process 1 frame : 196 milliseconds\n"
     ]
    },
    {
     "name": "stderr",
     "output_type": "stream",
     "text": [
      "\n",
      "0: 256x416 6 persons, 25.6ms\n",
      "Speed: 0.8ms preprocess, 25.6ms inference, 0.3ms postprocess per image at shape (1, 3, 256, 416)\n"
     ]
    },
    {
     "name": "stdout",
     "output_type": "stream",
     "text": [
      "TIme to process 1 frame : 194 milliseconds\n",
      "TIme to process 1 frame : 183 milliseconds\n"
     ]
    },
    {
     "name": "stderr",
     "output_type": "stream",
     "text": [
      "\n",
      "0: 256x416 4 persons, 25.6ms\n",
      "Speed: 0.9ms preprocess, 25.6ms inference, 0.3ms postprocess per image at shape (1, 3, 256, 416)\n",
      "\n",
      "0: 256x416 3 persons, 23.2ms\n",
      "Speed: 0.8ms preprocess, 23.2ms inference, 0.3ms postprocess per image at shape (1, 3, 256, 416)\n"
     ]
    },
    {
     "name": "stdout",
     "output_type": "stream",
     "text": [
      "TIme to process 1 frame : 194 milliseconds\n"
     ]
    },
    {
     "name": "stderr",
     "output_type": "stream",
     "text": [
      "\n",
      "0: 256x416 2 persons, 27.4ms\n",
      "Speed: 1.3ms preprocess, 27.4ms inference, 0.3ms postprocess per image at shape (1, 3, 256, 416)\n"
     ]
    },
    {
     "name": "stdout",
     "output_type": "stream",
     "text": [
      "TIme to process 1 frame : 262 milliseconds\n"
     ]
    },
    {
     "name": "stderr",
     "output_type": "stream",
     "text": [
      "\n",
      "0: 256x416 3 persons, 28.8ms\n",
      "Speed: 1.5ms preprocess, 28.8ms inference, 0.3ms postprocess per image at shape (1, 3, 256, 416)\n"
     ]
    },
    {
     "name": "stdout",
     "output_type": "stream",
     "text": [
      "TIme to process 1 frame : 201 milliseconds\n"
     ]
    },
    {
     "name": "stderr",
     "output_type": "stream",
     "text": [
      "\n",
      "0: 256x416 3 persons, 73.1ms\n",
      "Speed: 1.3ms preprocess, 73.1ms inference, 0.4ms postprocess per image at shape (1, 3, 256, 416)\n"
     ]
    },
    {
     "name": "stdout",
     "output_type": "stream",
     "text": [
      "TIme to process 1 frame : 301 milliseconds\n"
     ]
    },
    {
     "name": "stderr",
     "output_type": "stream",
     "text": [
      "\n",
      "0: 256x416 3 persons, 29.6ms\n",
      "Speed: 1.1ms preprocess, 29.6ms inference, 0.4ms postprocess per image at shape (1, 3, 256, 416)\n"
     ]
    },
    {
     "name": "stdout",
     "output_type": "stream",
     "text": [
      "TIme to process 1 frame : 365 milliseconds\n"
     ]
    },
    {
     "name": "stderr",
     "output_type": "stream",
     "text": [
      "\n",
      "0: 256x416 3 persons, 30.8ms\n",
      "Speed: 1.5ms preprocess, 30.8ms inference, 0.3ms postprocess per image at shape (1, 3, 256, 416)\n"
     ]
    },
    {
     "name": "stdout",
     "output_type": "stream",
     "text": [
      "TIme to process 1 frame : 265 milliseconds\n"
     ]
    },
    {
     "name": "stderr",
     "output_type": "stream",
     "text": [
      "\n",
      "0: 256x416 4 persons, 27.7ms\n",
      "Speed: 1.4ms preprocess, 27.7ms inference, 0.4ms postprocess per image at shape (1, 3, 256, 416)\n"
     ]
    },
    {
     "name": "stdout",
     "output_type": "stream",
     "text": [
      "TIme to process 1 frame : 279 milliseconds\n"
     ]
    },
    {
     "name": "stderr",
     "output_type": "stream",
     "text": [
      "\n",
      "0: 256x416 3 persons, 27.6ms\n",
      "Speed: 1.4ms preprocess, 27.6ms inference, 0.3ms postprocess per image at shape (1, 3, 256, 416)\n"
     ]
    },
    {
     "name": "stdout",
     "output_type": "stream",
     "text": [
      "TIme to process 1 frame : 271 milliseconds\n"
     ]
    },
    {
     "name": "stderr",
     "output_type": "stream",
     "text": [
      "\n",
      "0: 256x416 4 persons, 33.2ms\n",
      "Speed: 0.7ms preprocess, 33.2ms inference, 0.4ms postprocess per image at shape (1, 3, 256, 416)\n"
     ]
    },
    {
     "name": "stdout",
     "output_type": "stream",
     "text": [
      "TIme to process 1 frame : 279 milliseconds\n"
     ]
    },
    {
     "name": "stderr",
     "output_type": "stream",
     "text": [
      "\n",
      "0: 256x416 3 persons, 32.2ms\n",
      "Speed: 1.1ms preprocess, 32.2ms inference, 0.4ms postprocess per image at shape (1, 3, 256, 416)\n"
     ]
    },
    {
     "name": "stdout",
     "output_type": "stream",
     "text": [
      "TIme to process 1 frame : 367 milliseconds\n"
     ]
    },
    {
     "name": "stderr",
     "output_type": "stream",
     "text": [
      "\n",
      "0: 256x416 3 persons, 27.9ms\n",
      "Speed: 0.9ms preprocess, 27.9ms inference, 0.6ms postprocess per image at shape (1, 3, 256, 416)\n"
     ]
    },
    {
     "name": "stdout",
     "output_type": "stream",
     "text": [
      "TIme to process 1 frame : 299 milliseconds\n"
     ]
    },
    {
     "name": "stderr",
     "output_type": "stream",
     "text": [
      "\n",
      "0: 256x416 3 persons, 45.5ms\n",
      "Speed: 1.1ms preprocess, 45.5ms inference, 0.3ms postprocess per image at shape (1, 3, 256, 416)\n"
     ]
    },
    {
     "name": "stdout",
     "output_type": "stream",
     "text": [
      "TIme to process 1 frame : 207 milliseconds\n"
     ]
    },
    {
     "name": "stderr",
     "output_type": "stream",
     "text": [
      "\n",
      "0: 256x416 2 persons, 26.2ms\n",
      "Speed: 0.7ms preprocess, 26.2ms inference, 0.3ms postprocess per image at shape (1, 3, 256, 416)\n"
     ]
    },
    {
     "name": "stdout",
     "output_type": "stream",
     "text": [
      "TIme to process 1 frame : 247 milliseconds\n"
     ]
    },
    {
     "name": "stderr",
     "output_type": "stream",
     "text": [
      "\n",
      "0: 256x416 3 persons, 25.1ms\n",
      "Speed: 1.3ms preprocess, 25.1ms inference, 0.3ms postprocess per image at shape (1, 3, 256, 416)\n"
     ]
    },
    {
     "name": "stdout",
     "output_type": "stream",
     "text": [
      "TIme to process 1 frame : 194 milliseconds\n"
     ]
    },
    {
     "name": "stderr",
     "output_type": "stream",
     "text": [
      "\n",
      "0: 256x416 4 persons, 25.9ms\n",
      "Speed: 1.0ms preprocess, 25.9ms inference, 0.3ms postprocess per image at shape (1, 3, 256, 416)\n"
     ]
    },
    {
     "name": "stdout",
     "output_type": "stream",
     "text": [
      "TIme to process 1 frame : 189 milliseconds\n"
     ]
    },
    {
     "name": "stderr",
     "output_type": "stream",
     "text": [
      "\n",
      "0: 256x416 3 persons, 25.0ms\n",
      "Speed: 1.0ms preprocess, 25.0ms inference, 0.3ms postprocess per image at shape (1, 3, 256, 416)\n"
     ]
    },
    {
     "name": "stdout",
     "output_type": "stream",
     "text": [
      "TIme to process 1 frame : 197 milliseconds\n"
     ]
    },
    {
     "name": "stderr",
     "output_type": "stream",
     "text": [
      "\n",
      "0: 256x416 3 persons, 26.7ms\n",
      "Speed: 1.1ms preprocess, 26.7ms inference, 0.3ms postprocess per image at shape (1, 3, 256, 416)\n"
     ]
    },
    {
     "name": "stdout",
     "output_type": "stream",
     "text": [
      "TIme to process 1 frame : 271 milliseconds\n"
     ]
    },
    {
     "name": "stderr",
     "output_type": "stream",
     "text": [
      "\n",
      "0: 256x416 3 persons, 30.1ms\n",
      "Speed: 1.5ms preprocess, 30.1ms inference, 0.4ms postprocess per image at shape (1, 3, 256, 416)\n"
     ]
    },
    {
     "name": "stdout",
     "output_type": "stream",
     "text": [
      "TIme to process 1 frame : 258 milliseconds\n"
     ]
    },
    {
     "name": "stderr",
     "output_type": "stream",
     "text": [
      "\n",
      "0: 256x416 4 persons, 27.6ms\n",
      "Speed: 0.9ms preprocess, 27.6ms inference, 0.4ms postprocess per image at shape (1, 3, 256, 416)\n"
     ]
    },
    {
     "name": "stdout",
     "output_type": "stream",
     "text": [
      "TIme to process 1 frame : 284 milliseconds\n"
     ]
    },
    {
     "name": "stderr",
     "output_type": "stream",
     "text": [
      "\n",
      "0: 256x416 4 persons, 30.7ms\n",
      "Speed: 0.9ms preprocess, 30.7ms inference, 0.3ms postprocess per image at shape (1, 3, 256, 416)\n"
     ]
    },
    {
     "name": "stdout",
     "output_type": "stream",
     "text": [
      "TIme to process 1 frame : 258 milliseconds\n"
     ]
    },
    {
     "name": "stderr",
     "output_type": "stream",
     "text": [
      "\n",
      "0: 256x416 5 persons, 28.1ms\n",
      "Speed: 1.3ms preprocess, 28.1ms inference, 0.4ms postprocess per image at shape (1, 3, 256, 416)\n"
     ]
    },
    {
     "name": "stdout",
     "output_type": "stream",
     "text": [
      "TIme to process 1 frame : 301 milliseconds\n"
     ]
    },
    {
     "name": "stderr",
     "output_type": "stream",
     "text": [
      "\n",
      "0: 256x416 3 persons, 30.0ms\n",
      "Speed: 0.8ms preprocess, 30.0ms inference, 0.4ms postprocess per image at shape (1, 3, 256, 416)\n"
     ]
    },
    {
     "name": "stdout",
     "output_type": "stream",
     "text": [
      "TIme to process 1 frame : 269 milliseconds\n"
     ]
    },
    {
     "name": "stderr",
     "output_type": "stream",
     "text": [
      "\n",
      "0: 256x416 3 persons, 28.0ms\n",
      "Speed: 1.0ms preprocess, 28.0ms inference, 0.3ms postprocess per image at shape (1, 3, 256, 416)\n"
     ]
    },
    {
     "name": "stdout",
     "output_type": "stream",
     "text": [
      "TIme to process 1 frame : 262 milliseconds\n"
     ]
    },
    {
     "name": "stderr",
     "output_type": "stream",
     "text": [
      "\n",
      "0: 256x416 3 persons, 25.9ms\n",
      "Speed: 1.3ms preprocess, 25.9ms inference, 0.3ms postprocess per image at shape (1, 3, 256, 416)\n"
     ]
    },
    {
     "name": "stdout",
     "output_type": "stream",
     "text": [
      "TIme to process 1 frame : 251 milliseconds\n"
     ]
    },
    {
     "name": "stderr",
     "output_type": "stream",
     "text": [
      "\n",
      "0: 256x416 3 persons, 26.0ms\n",
      "Speed: 1.2ms preprocess, 26.0ms inference, 0.3ms postprocess per image at shape (1, 3, 256, 416)\n"
     ]
    },
    {
     "name": "stdout",
     "output_type": "stream",
     "text": [
      "TIme to process 1 frame : 255 milliseconds\n"
     ]
    },
    {
     "name": "stderr",
     "output_type": "stream",
     "text": [
      "\n",
      "0: 256x416 3 persons, 27.0ms\n",
      "Speed: 1.6ms preprocess, 27.0ms inference, 0.3ms postprocess per image at shape (1, 3, 256, 416)\n"
     ]
    },
    {
     "name": "stdout",
     "output_type": "stream",
     "text": [
      "TIme to process 1 frame : 251 milliseconds\n"
     ]
    },
    {
     "name": "stderr",
     "output_type": "stream",
     "text": [
      "\n",
      "0: 256x416 3 persons, 26.4ms\n",
      "Speed: 0.9ms preprocess, 26.4ms inference, 0.3ms postprocess per image at shape (1, 3, 256, 416)\n"
     ]
    },
    {
     "name": "stdout",
     "output_type": "stream",
     "text": [
      "TIme to process 1 frame : 199 milliseconds\n"
     ]
    },
    {
     "name": "stderr",
     "output_type": "stream",
     "text": [
      "\n",
      "0: 256x416 3 persons, 25.4ms\n",
      "Speed: 0.8ms preprocess, 25.4ms inference, 0.3ms postprocess per image at shape (1, 3, 256, 416)\n"
     ]
    },
    {
     "name": "stdout",
     "output_type": "stream",
     "text": [
      "TIme to process 1 frame : 201 milliseconds\n"
     ]
    },
    {
     "name": "stderr",
     "output_type": "stream",
     "text": [
      "\n",
      "0: 256x416 4 persons, 27.8ms\n",
      "Speed: 0.9ms preprocess, 27.8ms inference, 0.4ms postprocess per image at shape (1, 3, 256, 416)\n"
     ]
    },
    {
     "name": "stdout",
     "output_type": "stream",
     "text": [
      "TIme to process 1 frame : 300 milliseconds\n"
     ]
    },
    {
     "name": "stderr",
     "output_type": "stream",
     "text": [
      "\n",
      "0: 256x416 3 persons, 29.0ms\n",
      "Speed: 1.0ms preprocess, 29.0ms inference, 0.6ms postprocess per image at shape (1, 3, 256, 416)\n"
     ]
    },
    {
     "name": "stdout",
     "output_type": "stream",
     "text": [
      "TIme to process 1 frame : 278 milliseconds\n"
     ]
    },
    {
     "name": "stderr",
     "output_type": "stream",
     "text": [
      "\n",
      "0: 256x416 3 persons, 27.6ms\n",
      "Speed: 1.4ms preprocess, 27.6ms inference, 0.4ms postprocess per image at shape (1, 3, 256, 416)\n"
     ]
    },
    {
     "name": "stdout",
     "output_type": "stream",
     "text": [
      "TIme to process 1 frame : 266 milliseconds\n"
     ]
    },
    {
     "name": "stderr",
     "output_type": "stream",
     "text": [
      "\n",
      "0: 256x416 3 persons, 27.7ms\n",
      "Speed: 1.2ms preprocess, 27.7ms inference, 1.0ms postprocess per image at shape (1, 3, 256, 416)\n"
     ]
    },
    {
     "name": "stdout",
     "output_type": "stream",
     "text": [
      "TIme to process 1 frame : 268 milliseconds\n"
     ]
    },
    {
     "name": "stderr",
     "output_type": "stream",
     "text": [
      "\n",
      "0: 256x416 3 persons, 27.3ms\n",
      "Speed: 1.2ms preprocess, 27.3ms inference, 0.4ms postprocess per image at shape (1, 3, 256, 416)\n"
     ]
    },
    {
     "name": "stdout",
     "output_type": "stream",
     "text": [
      "TIme to process 1 frame : 309 milliseconds\n"
     ]
    },
    {
     "name": "stderr",
     "output_type": "stream",
     "text": [
      "\n",
      "0: 256x416 3 persons, 28.5ms\n",
      "Speed: 1.5ms preprocess, 28.5ms inference, 0.4ms postprocess per image at shape (1, 3, 256, 416)\n"
     ]
    },
    {
     "name": "stdout",
     "output_type": "stream",
     "text": [
      "TIme to process 1 frame : 237 milliseconds\n"
     ]
    },
    {
     "name": "stderr",
     "output_type": "stream",
     "text": [
      "\n",
      "0: 256x416 5 persons, 29.2ms\n",
      "Speed: 1.5ms preprocess, 29.2ms inference, 0.3ms postprocess per image at shape (1, 3, 256, 416)\n"
     ]
    },
    {
     "name": "stdout",
     "output_type": "stream",
     "text": [
      "TIme to process 1 frame : 199 milliseconds\n"
     ]
    },
    {
     "name": "stderr",
     "output_type": "stream",
     "text": [
      "\n",
      "0: 256x416 5 persons, 91.6ms\n",
      "Speed: 1.6ms preprocess, 91.6ms inference, 0.9ms postprocess per image at shape (1, 3, 256, 416)\n"
     ]
    },
    {
     "name": "stdout",
     "output_type": "stream",
     "text": [
      "TIme to process 1 frame : 274 milliseconds\n"
     ]
    },
    {
     "name": "stderr",
     "output_type": "stream",
     "text": [
      "\n",
      "0: 256x416 6 persons, 37.6ms\n",
      "Speed: 1.0ms preprocess, 37.6ms inference, 0.5ms postprocess per image at shape (1, 3, 256, 416)\n"
     ]
    },
    {
     "name": "stdout",
     "output_type": "stream",
     "text": [
      "TIme to process 1 frame : 357 milliseconds\n"
     ]
    },
    {
     "name": "stderr",
     "output_type": "stream",
     "text": [
      "\n",
      "0: 256x416 4 persons, 30.0ms\n",
      "Speed: 1.3ms preprocess, 30.0ms inference, 0.3ms postprocess per image at shape (1, 3, 256, 416)\n"
     ]
    },
    {
     "name": "stdout",
     "output_type": "stream",
     "text": [
      "TIme to process 1 frame : 281 milliseconds\n"
     ]
    },
    {
     "name": "stderr",
     "output_type": "stream",
     "text": [
      "\n",
      "0: 256x416 3 persons, 26.3ms\n",
      "Speed: 1.5ms preprocess, 26.3ms inference, 0.3ms postprocess per image at shape (1, 3, 256, 416)\n"
     ]
    },
    {
     "name": "stdout",
     "output_type": "stream",
     "text": [
      "TIme to process 1 frame : 226 milliseconds\n"
     ]
    },
    {
     "name": "stderr",
     "output_type": "stream",
     "text": [
      "\n",
      "0: 256x416 3 persons, 27.5ms\n",
      "Speed: 1.3ms preprocess, 27.5ms inference, 0.4ms postprocess per image at shape (1, 3, 256, 416)\n"
     ]
    },
    {
     "name": "stdout",
     "output_type": "stream",
     "text": [
      "TIme to process 1 frame : 213 milliseconds\n"
     ]
    },
    {
     "name": "stderr",
     "output_type": "stream",
     "text": [
      "\n",
      "0: 256x416 3 persons, 27.8ms\n",
      "Speed: 1.3ms preprocess, 27.8ms inference, 0.4ms postprocess per image at shape (1, 3, 256, 416)\n"
     ]
    },
    {
     "name": "stdout",
     "output_type": "stream",
     "text": [
      "TIme to process 1 frame : 272 milliseconds\n"
     ]
    },
    {
     "name": "stderr",
     "output_type": "stream",
     "text": [
      "\n",
      "0: 256x416 2 persons, 28.5ms\n",
      "Speed: 1.3ms preprocess, 28.5ms inference, 0.9ms postprocess per image at shape (1, 3, 256, 416)\n"
     ]
    },
    {
     "name": "stdout",
     "output_type": "stream",
     "text": [
      "TIme to process 1 frame : 371 milliseconds\n"
     ]
    },
    {
     "name": "stderr",
     "output_type": "stream",
     "text": [
      "\n",
      "0: 256x416 4 persons, 25.5ms\n",
      "Speed: 0.8ms preprocess, 25.5ms inference, 0.4ms postprocess per image at shape (1, 3, 256, 416)\n"
     ]
    },
    {
     "name": "stdout",
     "output_type": "stream",
     "text": [
      "TIme to process 1 frame : 243 milliseconds\n"
     ]
    },
    {
     "name": "stderr",
     "output_type": "stream",
     "text": [
      "\n",
      "0: 256x416 3 persons, 38.5ms\n",
      "Speed: 0.9ms preprocess, 38.5ms inference, 0.6ms postprocess per image at shape (1, 3, 256, 416)\n"
     ]
    },
    {
     "name": "stdout",
     "output_type": "stream",
     "text": [
      "TIme to process 1 frame : 231 milliseconds\n"
     ]
    },
    {
     "name": "stderr",
     "output_type": "stream",
     "text": [
      "\n",
      "0: 256x416 4 persons, 26.9ms\n",
      "Speed: 0.8ms preprocess, 26.9ms inference, 0.3ms postprocess per image at shape (1, 3, 256, 416)\n"
     ]
    },
    {
     "name": "stdout",
     "output_type": "stream",
     "text": [
      "TIme to process 1 frame : 224 milliseconds\n"
     ]
    },
    {
     "name": "stderr",
     "output_type": "stream",
     "text": [
      "\n",
      "0: 256x416 3 persons, 31.5ms\n",
      "Speed: 0.9ms preprocess, 31.5ms inference, 0.3ms postprocess per image at shape (1, 3, 256, 416)\n"
     ]
    },
    {
     "name": "stdout",
     "output_type": "stream",
     "text": [
      "TIme to process 1 frame : 201 milliseconds\n"
     ]
    },
    {
     "name": "stderr",
     "output_type": "stream",
     "text": [
      "\n",
      "0: 256x416 4 persons, 24.0ms\n",
      "Speed: 1.3ms preprocess, 24.0ms inference, 0.3ms postprocess per image at shape (1, 3, 256, 416)\n"
     ]
    },
    {
     "name": "stdout",
     "output_type": "stream",
     "text": [
      "TIme to process 1 frame : 209 milliseconds\n",
      "TIme to process 1 frame : 172 milliseconds\n"
     ]
    },
    {
     "name": "stderr",
     "output_type": "stream",
     "text": [
      "\n",
      "0: 256x416 4 persons, 25.8ms\n",
      "Speed: 1.2ms preprocess, 25.8ms inference, 0.3ms postprocess per image at shape (1, 3, 256, 416)\n",
      "\n",
      "0: 256x416 3 persons, 24.4ms\n",
      "Speed: 0.9ms preprocess, 24.4ms inference, 0.3ms postprocess per image at shape (1, 3, 256, 416)\n"
     ]
    },
    {
     "name": "stdout",
     "output_type": "stream",
     "text": [
      "TIme to process 1 frame : 194 milliseconds\n"
     ]
    },
    {
     "name": "stderr",
     "output_type": "stream",
     "text": [
      "\n",
      "0: 256x416 3 persons, 26.2ms\n",
      "Speed: 1.4ms preprocess, 26.2ms inference, 0.3ms postprocess per image at shape (1, 3, 256, 416)\n"
     ]
    },
    {
     "name": "stdout",
     "output_type": "stream",
     "text": [
      "TIme to process 1 frame : 208 milliseconds\n"
     ]
    },
    {
     "name": "stderr",
     "output_type": "stream",
     "text": [
      "\n",
      "0: 256x416 4 persons, 26.1ms\n",
      "Speed: 1.2ms preprocess, 26.1ms inference, 0.3ms postprocess per image at shape (1, 3, 256, 416)\n"
     ]
    },
    {
     "name": "stdout",
     "output_type": "stream",
     "text": [
      "TIme to process 1 frame : 271 milliseconds\n"
     ]
    },
    {
     "name": "stderr",
     "output_type": "stream",
     "text": [
      "\n",
      "0: 256x416 4 persons, 27.2ms\n",
      "Speed: 1.1ms preprocess, 27.2ms inference, 0.3ms postprocess per image at shape (1, 3, 256, 416)\n"
     ]
    },
    {
     "name": "stdout",
     "output_type": "stream",
     "text": [
      "TIme to process 1 frame : 256 milliseconds\n"
     ]
    },
    {
     "name": "stderr",
     "output_type": "stream",
     "text": [
      "\n",
      "0: 256x416 5 persons, 26.4ms\n",
      "Speed: 0.9ms preprocess, 26.4ms inference, 0.4ms postprocess per image at shape (1, 3, 256, 416)\n"
     ]
    },
    {
     "name": "stdout",
     "output_type": "stream",
     "text": [
      "TIme to process 1 frame : 255 milliseconds\n"
     ]
    },
    {
     "name": "stderr",
     "output_type": "stream",
     "text": [
      "\n",
      "0: 256x416 5 persons, 28.6ms\n",
      "Speed: 1.5ms preprocess, 28.6ms inference, 0.4ms postprocess per image at shape (1, 3, 256, 416)\n"
     ]
    },
    {
     "name": "stdout",
     "output_type": "stream",
     "text": [
      "TIme to process 1 frame : 278 milliseconds\n"
     ]
    },
    {
     "name": "stderr",
     "output_type": "stream",
     "text": [
      "\n",
      "0: 256x416 3 persons, 28.6ms\n",
      "Speed: 0.8ms preprocess, 28.6ms inference, 0.4ms postprocess per image at shape (1, 3, 256, 416)\n"
     ]
    },
    {
     "name": "stdout",
     "output_type": "stream",
     "text": [
      "TIme to process 1 frame : 259 milliseconds\n"
     ]
    },
    {
     "name": "stderr",
     "output_type": "stream",
     "text": [
      "\n",
      "0: 256x416 3 persons, 26.6ms\n",
      "Speed: 1.6ms preprocess, 26.6ms inference, 0.3ms postprocess per image at shape (1, 3, 256, 416)\n"
     ]
    },
    {
     "name": "stdout",
     "output_type": "stream",
     "text": [
      "TIme to process 1 frame : 254 milliseconds\n"
     ]
    },
    {
     "name": "stderr",
     "output_type": "stream",
     "text": [
      "\n",
      "0: 256x416 3 persons, 30.0ms\n",
      "Speed: 1.5ms preprocess, 30.0ms inference, 0.4ms postprocess per image at shape (1, 3, 256, 416)\n"
     ]
    },
    {
     "name": "stdout",
     "output_type": "stream",
     "text": [
      "TIme to process 1 frame : 257 milliseconds\n"
     ]
    },
    {
     "name": "stderr",
     "output_type": "stream",
     "text": [
      "\n",
      "0: 256x416 3 persons, 28.6ms\n",
      "Speed: 1.3ms preprocess, 28.6ms inference, 0.3ms postprocess per image at shape (1, 3, 256, 416)\n"
     ]
    },
    {
     "name": "stdout",
     "output_type": "stream",
     "text": [
      "TIme to process 1 frame : 256 milliseconds\n"
     ]
    },
    {
     "name": "stderr",
     "output_type": "stream",
     "text": [
      "\n",
      "0: 256x416 3 persons, 45.1ms\n",
      "Speed: 1.3ms preprocess, 45.1ms inference, 0.4ms postprocess per image at shape (1, 3, 256, 416)\n"
     ]
    },
    {
     "name": "stdout",
     "output_type": "stream",
     "text": [
      "TIme to process 1 frame : 249 milliseconds\n"
     ]
    },
    {
     "name": "stderr",
     "output_type": "stream",
     "text": [
      "\n",
      "0: 256x416 3 persons, 28.0ms\n",
      "Speed: 1.4ms preprocess, 28.0ms inference, 0.4ms postprocess per image at shape (1, 3, 256, 416)\n"
     ]
    },
    {
     "name": "stdout",
     "output_type": "stream",
     "text": [
      "TIme to process 1 frame : 376 milliseconds\n"
     ]
    },
    {
     "name": "stderr",
     "output_type": "stream",
     "text": [
      "\n",
      "0: 256x416 3 persons, 28.3ms\n",
      "Speed: 0.9ms preprocess, 28.3ms inference, 0.3ms postprocess per image at shape (1, 3, 256, 416)\n"
     ]
    },
    {
     "name": "stdout",
     "output_type": "stream",
     "text": [
      "TIme to process 1 frame : 257 milliseconds\n"
     ]
    },
    {
     "name": "stderr",
     "output_type": "stream",
     "text": [
      "\n",
      "0: 256x416 3 persons, 28.7ms\n",
      "Speed: 0.9ms preprocess, 28.7ms inference, 0.3ms postprocess per image at shape (1, 3, 256, 416)\n"
     ]
    },
    {
     "name": "stdout",
     "output_type": "stream",
     "text": [
      "TIme to process 1 frame : 323 milliseconds\n"
     ]
    },
    {
     "name": "stderr",
     "output_type": "stream",
     "text": [
      "\n",
      "0: 256x416 3 persons, 29.0ms\n",
      "Speed: 1.3ms preprocess, 29.0ms inference, 0.4ms postprocess per image at shape (1, 3, 256, 416)\n"
     ]
    },
    {
     "name": "stdout",
     "output_type": "stream",
     "text": [
      "TIme to process 1 frame : 256 milliseconds\n"
     ]
    },
    {
     "name": "stderr",
     "output_type": "stream",
     "text": [
      "\n",
      "0: 256x416 4 persons, 27.5ms\n",
      "Speed: 0.9ms preprocess, 27.5ms inference, 0.4ms postprocess per image at shape (1, 3, 256, 416)\n"
     ]
    },
    {
     "name": "stdout",
     "output_type": "stream",
     "text": [
      "TIme to process 1 frame : 268 milliseconds\n"
     ]
    },
    {
     "name": "stderr",
     "output_type": "stream",
     "text": [
      "\n",
      "0: 256x416 4 persons, 27.5ms\n",
      "Speed: 1.5ms preprocess, 27.5ms inference, 0.3ms postprocess per image at shape (1, 3, 256, 416)\n"
     ]
    },
    {
     "name": "stdout",
     "output_type": "stream",
     "text": [
      "TIme to process 1 frame : 244 milliseconds\n"
     ]
    },
    {
     "name": "stderr",
     "output_type": "stream",
     "text": [
      "\n",
      "0: 256x416 3 persons, 28.6ms\n",
      "Speed: 1.3ms preprocess, 28.6ms inference, 0.4ms postprocess per image at shape (1, 3, 256, 416)\n"
     ]
    },
    {
     "name": "stdout",
     "output_type": "stream",
     "text": [
      "TIme to process 1 frame : 265 milliseconds\n"
     ]
    },
    {
     "name": "stderr",
     "output_type": "stream",
     "text": [
      "\n",
      "0: 256x416 3 persons, 39.5ms\n",
      "Speed: 3.6ms preprocess, 39.5ms inference, 0.3ms postprocess per image at shape (1, 3, 256, 416)\n"
     ]
    },
    {
     "name": "stdout",
     "output_type": "stream",
     "text": [
      "TIme to process 1 frame : 191 milliseconds\n"
     ]
    },
    {
     "name": "stderr",
     "output_type": "stream",
     "text": [
      "\n",
      "0: 256x416 4 persons, 35.4ms\n",
      "Speed: 0.9ms preprocess, 35.4ms inference, 0.4ms postprocess per image at shape (1, 3, 256, 416)\n"
     ]
    },
    {
     "name": "stdout",
     "output_type": "stream",
     "text": [
      "TIme to process 1 frame : 284 milliseconds\n"
     ]
    },
    {
     "name": "stderr",
     "output_type": "stream",
     "text": [
      "\n",
      "0: 256x416 3 persons, 28.7ms\n",
      "Speed: 0.9ms preprocess, 28.7ms inference, 0.3ms postprocess per image at shape (1, 3, 256, 416)\n"
     ]
    },
    {
     "name": "stdout",
     "output_type": "stream",
     "text": [
      "TIme to process 1 frame : 267 milliseconds\n"
     ]
    },
    {
     "name": "stderr",
     "output_type": "stream",
     "text": [
      "\n",
      "0: 256x416 3 persons, 45.0ms\n",
      "Speed: 5.8ms preprocess, 45.0ms inference, 0.4ms postprocess per image at shape (1, 3, 256, 416)\n"
     ]
    },
    {
     "name": "stdout",
     "output_type": "stream",
     "text": [
      "TIme to process 1 frame : 202 milliseconds\n"
     ]
    },
    {
     "name": "stderr",
     "output_type": "stream",
     "text": [
      "\n",
      "0: 256x416 3 persons, 29.3ms\n",
      "Speed: 1.5ms preprocess, 29.3ms inference, 0.4ms postprocess per image at shape (1, 3, 256, 416)\n"
     ]
    },
    {
     "name": "stdout",
     "output_type": "stream",
     "text": [
      "TIme to process 1 frame : 254 milliseconds\n"
     ]
    },
    {
     "name": "stderr",
     "output_type": "stream",
     "text": [
      "\n",
      "0: 256x416 3 persons, 36.8ms\n",
      "Speed: 1.0ms preprocess, 36.8ms inference, 0.3ms postprocess per image at shape (1, 3, 256, 416)\n"
     ]
    },
    {
     "name": "stdout",
     "output_type": "stream",
     "text": [
      "TIme to process 1 frame : 282 milliseconds\n"
     ]
    },
    {
     "name": "stderr",
     "output_type": "stream",
     "text": [
      "\n",
      "0: 256x416 2 persons, 25.0ms\n",
      "Speed: 0.7ms preprocess, 25.0ms inference, 0.3ms postprocess per image at shape (1, 3, 256, 416)\n"
     ]
    },
    {
     "name": "stdout",
     "output_type": "stream",
     "text": [
      "TIme to process 1 frame : 233 milliseconds\n",
      "TIme to process 1 frame : 177 milliseconds\n"
     ]
    },
    {
     "name": "stderr",
     "output_type": "stream",
     "text": [
      "\n",
      "0: 256x416 3 persons, 28.2ms\n",
      "Speed: 1.2ms preprocess, 28.2ms inference, 0.4ms postprocess per image at shape (1, 3, 256, 416)\n",
      "\n",
      "0: 256x416 3 persons, 22.2ms\n",
      "Speed: 0.7ms preprocess, 22.2ms inference, 0.3ms postprocess per image at shape (1, 3, 256, 416)\n",
      "\n"
     ]
    },
    {
     "name": "stdout",
     "output_type": "stream",
     "text": [
      "TIme to process 1 frame : 173 milliseconds\n",
      "TIme to process 1 frame : 162 milliseconds\n"
     ]
    },
    {
     "name": "stderr",
     "output_type": "stream",
     "text": [
      "0: 256x416 2 persons, 22.5ms\n",
      "Speed: 0.6ms preprocess, 22.5ms inference, 0.3ms postprocess per image at shape (1, 3, 256, 416)\n",
      "\n",
      "0: 256x416 2 persons, 21.5ms\n",
      "Speed: 0.6ms preprocess, 21.5ms inference, 0.3ms postprocess per image at shape (1, 3, 256, 416)\n"
     ]
    },
    {
     "name": "stdout",
     "output_type": "stream",
     "text": [
      "TIme to process 1 frame : 164 milliseconds\n",
      "TIme to process 1 frame : 174 milliseconds\n"
     ]
    },
    {
     "name": "stderr",
     "output_type": "stream",
     "text": [
      "\n",
      "0: 256x416 2 persons, 23.3ms\n",
      "Speed: 0.6ms preprocess, 23.3ms inference, 0.3ms postprocess per image at shape (1, 3, 256, 416)\n",
      "\n",
      "0: 256x416 3 persons, 30.1ms\n",
      "Speed: 0.8ms preprocess, 30.1ms inference, 0.4ms postprocess per image at shape (1, 3, 256, 416)\n"
     ]
    },
    {
     "name": "stdout",
     "output_type": "stream",
     "text": [
      "TIme to process 1 frame : 185 milliseconds\n"
     ]
    },
    {
     "name": "stderr",
     "output_type": "stream",
     "text": [
      "\n",
      "0: 256x416 2 persons, 28.2ms\n",
      "Speed: 1.1ms preprocess, 28.2ms inference, 0.4ms postprocess per image at shape (1, 3, 256, 416)\n"
     ]
    },
    {
     "name": "stdout",
     "output_type": "stream",
     "text": [
      "TIme to process 1 frame : 196 milliseconds\n",
      "TIme to process 1 frame : 181 milliseconds\n"
     ]
    },
    {
     "name": "stderr",
     "output_type": "stream",
     "text": [
      "\n",
      "0: 256x416 4 persons, 27.3ms\n",
      "Speed: 0.7ms preprocess, 27.3ms inference, 0.3ms postprocess per image at shape (1, 3, 256, 416)\n",
      "\n",
      "0: 256x416 3 persons, 25.8ms\n",
      "Speed: 1.1ms preprocess, 25.8ms inference, 0.4ms postprocess per image at shape (1, 3, 256, 416)\n"
     ]
    },
    {
     "name": "stdout",
     "output_type": "stream",
     "text": [
      "TIme to process 1 frame : 276 milliseconds\n"
     ]
    },
    {
     "name": "stderr",
     "output_type": "stream",
     "text": [
      "\n",
      "0: 256x416 3 persons, 28.8ms\n",
      "Speed: 1.2ms preprocess, 28.8ms inference, 0.4ms postprocess per image at shape (1, 3, 256, 416)\n"
     ]
    },
    {
     "name": "stdout",
     "output_type": "stream",
     "text": [
      "TIme to process 1 frame : 258 milliseconds\n"
     ]
    },
    {
     "name": "stderr",
     "output_type": "stream",
     "text": [
      "\n",
      "0: 256x416 2 persons, 38.9ms\n",
      "Speed: 1.0ms preprocess, 38.9ms inference, 0.3ms postprocess per image at shape (1, 3, 256, 416)\n"
     ]
    },
    {
     "name": "stdout",
     "output_type": "stream",
     "text": [
      "TIme to process 1 frame : 197 milliseconds\n"
     ]
    },
    {
     "name": "stderr",
     "output_type": "stream",
     "text": [
      "\n",
      "0: 256x416 2 persons, 24.6ms\n",
      "Speed: 0.7ms preprocess, 24.6ms inference, 0.3ms postprocess per image at shape (1, 3, 256, 416)\n"
     ]
    },
    {
     "name": "stdout",
     "output_type": "stream",
     "text": [
      "TIme to process 1 frame : 215 milliseconds\n"
     ]
    },
    {
     "name": "stderr",
     "output_type": "stream",
     "text": [
      "\n",
      "0: 256x416 2 persons, 35.3ms\n",
      "Speed: 5.6ms preprocess, 35.3ms inference, 0.4ms postprocess per image at shape (1, 3, 256, 416)\n"
     ]
    },
    {
     "name": "stdout",
     "output_type": "stream",
     "text": [
      "TIme to process 1 frame : 195 milliseconds\n"
     ]
    },
    {
     "name": "stderr",
     "output_type": "stream",
     "text": [
      "\n",
      "0: 256x416 2 persons, 26.4ms\n",
      "Speed: 0.8ms preprocess, 26.4ms inference, 0.4ms postprocess per image at shape (1, 3, 256, 416)\n"
     ]
    },
    {
     "name": "stdout",
     "output_type": "stream",
     "text": [
      "TIme to process 1 frame : 265 milliseconds\n"
     ]
    },
    {
     "name": "stderr",
     "output_type": "stream",
     "text": [
      "\n",
      "0: 256x416 2 persons, 24.9ms\n",
      "Speed: 0.7ms preprocess, 24.9ms inference, 0.3ms postprocess per image at shape (1, 3, 256, 416)\n"
     ]
    },
    {
     "name": "stdout",
     "output_type": "stream",
     "text": [
      "TIme to process 1 frame : 202 milliseconds\n"
     ]
    },
    {
     "name": "stderr",
     "output_type": "stream",
     "text": [
      "\n",
      "0: 256x416 3 persons, 25.4ms\n",
      "Speed: 0.8ms preprocess, 25.4ms inference, 0.3ms postprocess per image at shape (1, 3, 256, 416)\n"
     ]
    },
    {
     "name": "stdout",
     "output_type": "stream",
     "text": [
      "TIme to process 1 frame : 258 milliseconds\n"
     ]
    },
    {
     "name": "stderr",
     "output_type": "stream",
     "text": [
      "\n",
      "0: 256x416 2 persons, 26.8ms\n",
      "Speed: 0.8ms preprocess, 26.8ms inference, 0.3ms postprocess per image at shape (1, 3, 256, 416)\n"
     ]
    },
    {
     "name": "stdout",
     "output_type": "stream",
     "text": [
      "TIme to process 1 frame : 197 milliseconds\n"
     ]
    },
    {
     "name": "stderr",
     "output_type": "stream",
     "text": [
      "\n",
      "0: 256x416 3 persons, 23.4ms\n",
      "Speed: 0.7ms preprocess, 23.4ms inference, 0.3ms postprocess per image at shape (1, 3, 256, 416)\n"
     ]
    },
    {
     "name": "stdout",
     "output_type": "stream",
     "text": [
      "TIme to process 1 frame : 194 milliseconds\n"
     ]
    },
    {
     "name": "stderr",
     "output_type": "stream",
     "text": [
      "\n",
      "0: 256x416 2 persons, 28.0ms\n",
      "Speed: 1.5ms preprocess, 28.0ms inference, 0.4ms postprocess per image at shape (1, 3, 256, 416)\n"
     ]
    },
    {
     "name": "stdout",
     "output_type": "stream",
     "text": [
      "TIme to process 1 frame : 214 milliseconds\n"
     ]
    },
    {
     "name": "stderr",
     "output_type": "stream",
     "text": [
      "\n",
      "0: 256x416 2 persons, 40.1ms\n",
      "Speed: 1.0ms preprocess, 40.1ms inference, 1.3ms postprocess per image at shape (1, 3, 256, 416)\n"
     ]
    },
    {
     "name": "stdout",
     "output_type": "stream",
     "text": [
      "TIme to process 1 frame : 205 milliseconds\n"
     ]
    },
    {
     "name": "stderr",
     "output_type": "stream",
     "text": [
      "\n",
      "0: 256x416 2 persons, 25.6ms\n",
      "Speed: 1.3ms preprocess, 25.6ms inference, 0.3ms postprocess per image at shape (1, 3, 256, 416)\n"
     ]
    },
    {
     "name": "stdout",
     "output_type": "stream",
     "text": [
      "TIme to process 1 frame : 221 milliseconds\n"
     ]
    },
    {
     "name": "stderr",
     "output_type": "stream",
     "text": [
      "\n",
      "0: 256x416 2 persons, 25.2ms\n",
      "Speed: 0.9ms preprocess, 25.2ms inference, 0.3ms postprocess per image at shape (1, 3, 256, 416)\n"
     ]
    },
    {
     "name": "stdout",
     "output_type": "stream",
     "text": [
      "TIme to process 1 frame : 195 milliseconds\n"
     ]
    },
    {
     "name": "stderr",
     "output_type": "stream",
     "text": [
      "\n",
      "0: 256x416 2 persons, 24.1ms\n",
      "Speed: 0.8ms preprocess, 24.1ms inference, 0.3ms postprocess per image at shape (1, 3, 256, 416)\n"
     ]
    },
    {
     "name": "stdout",
     "output_type": "stream",
     "text": [
      "TIme to process 1 frame : 194 milliseconds\n"
     ]
    },
    {
     "name": "stderr",
     "output_type": "stream",
     "text": [
      "\n",
      "0: 256x416 2 persons, 26.5ms\n",
      "Speed: 0.8ms preprocess, 26.5ms inference, 0.3ms postprocess per image at shape (1, 3, 256, 416)\n"
     ]
    },
    {
     "name": "stdout",
     "output_type": "stream",
     "text": [
      "TIme to process 1 frame : 195 milliseconds\n"
     ]
    },
    {
     "name": "stderr",
     "output_type": "stream",
     "text": [
      "\n",
      "0: 256x416 2 persons, 25.9ms\n",
      "Speed: 0.6ms preprocess, 25.9ms inference, 0.3ms postprocess per image at shape (1, 3, 256, 416)\n"
     ]
    },
    {
     "name": "stdout",
     "output_type": "stream",
     "text": [
      "TIme to process 1 frame : 212 milliseconds\n"
     ]
    },
    {
     "name": "stderr",
     "output_type": "stream",
     "text": [
      "\n",
      "0: 256x416 2 persons, 23.9ms\n",
      "Speed: 1.2ms preprocess, 23.9ms inference, 0.3ms postprocess per image at shape (1, 3, 256, 416)\n"
     ]
    },
    {
     "name": "stdout",
     "output_type": "stream",
     "text": [
      "TIme to process 1 frame : 203 milliseconds\n"
     ]
    },
    {
     "name": "stderr",
     "output_type": "stream",
     "text": [
      "\n",
      "0: 256x416 2 persons, 24.6ms\n",
      "Speed: 1.2ms preprocess, 24.6ms inference, 0.3ms postprocess per image at shape (1, 3, 256, 416)\n"
     ]
    },
    {
     "name": "stdout",
     "output_type": "stream",
     "text": [
      "TIme to process 1 frame : 208 milliseconds\n"
     ]
    },
    {
     "name": "stderr",
     "output_type": "stream",
     "text": [
      "\n",
      "0: 256x416 2 persons, 41.9ms\n",
      "Speed: 3.0ms preprocess, 41.9ms inference, 0.3ms postprocess per image at shape (1, 3, 256, 416)\n"
     ]
    },
    {
     "name": "stdout",
     "output_type": "stream",
     "text": [
      "TIme to process 1 frame : 193 milliseconds\n"
     ]
    },
    {
     "name": "stderr",
     "output_type": "stream",
     "text": [
      "\n",
      "0: 256x416 2 persons, 25.6ms\n",
      "Speed: 1.9ms preprocess, 25.6ms inference, 0.3ms postprocess per image at shape (1, 3, 256, 416)\n"
     ]
    },
    {
     "name": "stdout",
     "output_type": "stream",
     "text": [
      "TIme to process 1 frame : 218 milliseconds\n"
     ]
    },
    {
     "name": "stderr",
     "output_type": "stream",
     "text": [
      "\n",
      "0: 256x416 2 persons, 26.4ms\n",
      "Speed: 0.9ms preprocess, 26.4ms inference, 0.3ms postprocess per image at shape (1, 3, 256, 416)\n"
     ]
    },
    {
     "name": "stdout",
     "output_type": "stream",
     "text": [
      "TIme to process 1 frame : 198 milliseconds\n"
     ]
    },
    {
     "name": "stderr",
     "output_type": "stream",
     "text": [
      "\n",
      "0: 256x416 2 persons, 35.0ms\n",
      "Speed: 1.2ms preprocess, 35.0ms inference, 0.4ms postprocess per image at shape (1, 3, 256, 416)\n"
     ]
    },
    {
     "name": "stdout",
     "output_type": "stream",
     "text": [
      "TIme to process 1 frame : 219 milliseconds\n"
     ]
    },
    {
     "name": "stderr",
     "output_type": "stream",
     "text": [
      "\n",
      "0: 256x416 2 persons, 23.6ms\n",
      "Speed: 1.0ms preprocess, 23.6ms inference, 0.4ms postprocess per image at shape (1, 3, 256, 416)\n"
     ]
    },
    {
     "name": "stdout",
     "output_type": "stream",
     "text": [
      "TIme to process 1 frame : 212 milliseconds\n"
     ]
    },
    {
     "name": "stderr",
     "output_type": "stream",
     "text": [
      "\n",
      "0: 256x416 2 persons, 28.8ms\n",
      "Speed: 0.9ms preprocess, 28.8ms inference, 0.3ms postprocess per image at shape (1, 3, 256, 416)\n"
     ]
    },
    {
     "name": "stdout",
     "output_type": "stream",
     "text": [
      "TIme to process 1 frame : 193 milliseconds\n"
     ]
    },
    {
     "name": "stderr",
     "output_type": "stream",
     "text": [
      "\n",
      "0: 256x416 2 persons, 27.4ms\n",
      "Speed: 1.2ms preprocess, 27.4ms inference, 0.3ms postprocess per image at shape (1, 3, 256, 416)\n"
     ]
    },
    {
     "name": "stdout",
     "output_type": "stream",
     "text": [
      "TIme to process 1 frame : 202 milliseconds\n"
     ]
    },
    {
     "name": "stderr",
     "output_type": "stream",
     "text": [
      "\n",
      "0: 256x416 2 persons, 23.7ms\n",
      "Speed: 0.8ms preprocess, 23.7ms inference, 0.3ms postprocess per image at shape (1, 3, 256, 416)\n"
     ]
    },
    {
     "name": "stdout",
     "output_type": "stream",
     "text": [
      "TIme to process 1 frame : 236 milliseconds\n"
     ]
    },
    {
     "name": "stderr",
     "output_type": "stream",
     "text": [
      "\n",
      "0: 256x416 3 persons, 25.5ms\n",
      "Speed: 0.7ms preprocess, 25.5ms inference, 0.4ms postprocess per image at shape (1, 3, 256, 416)\n"
     ]
    },
    {
     "name": "stdout",
     "output_type": "stream",
     "text": [
      "TIme to process 1 frame : 192 milliseconds\n"
     ]
    },
    {
     "name": "stderr",
     "output_type": "stream",
     "text": [
      "\n",
      "0: 256x416 2 persons, 27.2ms\n",
      "Speed: 1.2ms preprocess, 27.2ms inference, 0.3ms postprocess per image at shape (1, 3, 256, 416)\n"
     ]
    },
    {
     "name": "stdout",
     "output_type": "stream",
     "text": [
      "TIme to process 1 frame : 196 milliseconds\n"
     ]
    },
    {
     "name": "stderr",
     "output_type": "stream",
     "text": [
      "\n",
      "0: 256x416 2 persons, 28.4ms\n",
      "Speed: 0.7ms preprocess, 28.4ms inference, 0.3ms postprocess per image at shape (1, 3, 256, 416)\n"
     ]
    },
    {
     "name": "stdout",
     "output_type": "stream",
     "text": [
      "TIme to process 1 frame : 197 milliseconds\n"
     ]
    },
    {
     "name": "stderr",
     "output_type": "stream",
     "text": [
      "\n",
      "0: 256x416 2 persons, 26.9ms\n",
      "Speed: 1.0ms preprocess, 26.9ms inference, 0.3ms postprocess per image at shape (1, 3, 256, 416)\n"
     ]
    },
    {
     "name": "stdout",
     "output_type": "stream",
     "text": [
      "TIme to process 1 frame : 220 milliseconds\n"
     ]
    },
    {
     "name": "stderr",
     "output_type": "stream",
     "text": [
      "\n",
      "0: 256x416 2 persons, 26.7ms\n",
      "Speed: 0.8ms preprocess, 26.7ms inference, 0.3ms postprocess per image at shape (1, 3, 256, 416)\n"
     ]
    },
    {
     "name": "stdout",
     "output_type": "stream",
     "text": [
      "TIme to process 1 frame : 197 milliseconds\n"
     ]
    },
    {
     "name": "stderr",
     "output_type": "stream",
     "text": [
      "\n",
      "0: 256x416 2 persons, 25.3ms\n",
      "Speed: 1.3ms preprocess, 25.3ms inference, 0.4ms postprocess per image at shape (1, 3, 256, 416)\n"
     ]
    },
    {
     "name": "stdout",
     "output_type": "stream",
     "text": [
      "TIme to process 1 frame : 207 milliseconds\n"
     ]
    },
    {
     "name": "stderr",
     "output_type": "stream",
     "text": [
      "\n",
      "0: 256x416 2 persons, 37.1ms\n",
      "Speed: 0.8ms preprocess, 37.1ms inference, 0.9ms postprocess per image at shape (1, 3, 256, 416)\n"
     ]
    },
    {
     "name": "stdout",
     "output_type": "stream",
     "text": [
      "TIme to process 1 frame : 231 milliseconds\n"
     ]
    },
    {
     "name": "stderr",
     "output_type": "stream",
     "text": [
      "\n",
      "0: 256x416 2 persons, 24.3ms\n",
      "Speed: 1.1ms preprocess, 24.3ms inference, 0.3ms postprocess per image at shape (1, 3, 256, 416)\n"
     ]
    },
    {
     "name": "stdout",
     "output_type": "stream",
     "text": [
      "TIme to process 1 frame : 235 milliseconds\n"
     ]
    },
    {
     "name": "stderr",
     "output_type": "stream",
     "text": [
      "\n",
      "0: 256x416 2 persons, 38.0ms\n",
      "Speed: 1.0ms preprocess, 38.0ms inference, 0.4ms postprocess per image at shape (1, 3, 256, 416)\n"
     ]
    },
    {
     "name": "stdout",
     "output_type": "stream",
     "text": [
      "TIme to process 1 frame : 197 milliseconds\n"
     ]
    },
    {
     "name": "stderr",
     "output_type": "stream",
     "text": [
      "\n",
      "0: 256x416 2 persons, 25.9ms\n",
      "Speed: 1.1ms preprocess, 25.9ms inference, 0.3ms postprocess per image at shape (1, 3, 256, 416)\n"
     ]
    },
    {
     "name": "stdout",
     "output_type": "stream",
     "text": [
      "TIme to process 1 frame : 231 milliseconds\n"
     ]
    },
    {
     "name": "stderr",
     "output_type": "stream",
     "text": [
      "\n",
      "0: 256x416 2 persons, 26.7ms\n",
      "Speed: 0.7ms preprocess, 26.7ms inference, 0.6ms postprocess per image at shape (1, 3, 256, 416)\n"
     ]
    },
    {
     "name": "stdout",
     "output_type": "stream",
     "text": [
      "TIme to process 1 frame : 198 milliseconds\n"
     ]
    },
    {
     "name": "stderr",
     "output_type": "stream",
     "text": [
      "\n",
      "0: 256x416 2 persons, 23.5ms\n",
      "Speed: 0.8ms preprocess, 23.5ms inference, 0.3ms postprocess per image at shape (1, 3, 256, 416)\n"
     ]
    },
    {
     "name": "stdout",
     "output_type": "stream",
     "text": [
      "TIme to process 1 frame : 197 milliseconds\n",
      "TIme to process 1 frame : 172 milliseconds\n"
     ]
    },
    {
     "name": "stderr",
     "output_type": "stream",
     "text": [
      "\n",
      "0: 256x416 2 persons, 30.6ms\n",
      "Speed: 0.9ms preprocess, 30.6ms inference, 0.4ms postprocess per image at shape (1, 3, 256, 416)\n",
      "\n",
      "0: 256x416 2 persons, 21.6ms\n",
      "Speed: 0.6ms preprocess, 21.6ms inference, 0.3ms postprocess per image at shape (1, 3, 256, 416)\n",
      "\n"
     ]
    },
    {
     "name": "stdout",
     "output_type": "stream",
     "text": [
      "TIme to process 1 frame : 172 milliseconds\n",
      "TIme to process 1 frame : 159 milliseconds\n"
     ]
    },
    {
     "name": "stderr",
     "output_type": "stream",
     "text": [
      "0: 256x416 1 person, 23.3ms\n",
      "Speed: 0.6ms preprocess, 23.3ms inference, 0.3ms postprocess per image at shape (1, 3, 256, 416)\n",
      "\n",
      "0: 256x416 3 persons, 31.0ms\n",
      "Speed: 0.8ms preprocess, 31.0ms inference, 0.3ms postprocess per image at shape (1, 3, 256, 416)\n"
     ]
    },
    {
     "name": "stdout",
     "output_type": "stream",
     "text": [
      "TIme to process 1 frame : 163 milliseconds\n",
      "TIme to process 1 frame : 172 milliseconds\n"
     ]
    },
    {
     "name": "stderr",
     "output_type": "stream",
     "text": [
      "\n",
      "0: 256x416 3 persons, 34.9ms\n",
      "Speed: 0.7ms preprocess, 34.9ms inference, 0.3ms postprocess per image at shape (1, 3, 256, 416)\n",
      "\n",
      "0: 256x416 3 persons, 23.6ms\n",
      "Speed: 0.8ms preprocess, 23.6ms inference, 0.3ms postprocess per image at shape (1, 3, 256, 416)\n"
     ]
    },
    {
     "name": "stdout",
     "output_type": "stream",
     "text": [
      "TIme to process 1 frame : 211 milliseconds\n"
     ]
    },
    {
     "name": "stderr",
     "output_type": "stream",
     "text": [
      "\n",
      "0: 256x416 3 persons, 29.7ms\n",
      "Speed: 1.3ms preprocess, 29.7ms inference, 0.3ms postprocess per image at shape (1, 3, 256, 416)\n",
      "\n"
     ]
    },
    {
     "name": "stdout",
     "output_type": "stream",
     "text": [
      "TIme to process 1 frame : 268 milliseconds\n",
      "TIme to process 1 frame : 162 milliseconds\n"
     ]
    },
    {
     "name": "stderr",
     "output_type": "stream",
     "text": [
      "0: 256x416 1 person, 27.5ms\n",
      "Speed: 1.4ms preprocess, 27.5ms inference, 0.4ms postprocess per image at shape (1, 3, 256, 416)\n",
      "\n",
      "0: 256x416 3 persons, 21.6ms\n",
      "Speed: 0.7ms preprocess, 21.6ms inference, 0.3ms postprocess per image at shape (1, 3, 256, 416)\n"
     ]
    },
    {
     "name": "stdout",
     "output_type": "stream",
     "text": [
      "TIme to process 1 frame : 189 milliseconds\n",
      "TIme to process 1 frame : 182 milliseconds\n"
     ]
    },
    {
     "name": "stderr",
     "output_type": "stream",
     "text": [
      "\n",
      "0: 256x416 1 person, 24.5ms\n",
      "Speed: 0.7ms preprocess, 24.5ms inference, 0.3ms postprocess per image at shape (1, 3, 256, 416)\n",
      "\n",
      "0: 256x416 1 person, 22.3ms\n",
      "Speed: 0.6ms preprocess, 22.3ms inference, 0.3ms postprocess per image at shape (1, 3, 256, 416)\n",
      "\n"
     ]
    },
    {
     "name": "stdout",
     "output_type": "stream",
     "text": [
      "TIme to process 1 frame : 164 milliseconds\n",
      "TIme to process 1 frame : 160 milliseconds\n"
     ]
    },
    {
     "name": "stderr",
     "output_type": "stream",
     "text": [
      "0: 256x416 1 person, 22.5ms\n",
      "Speed: 0.6ms preprocess, 22.5ms inference, 0.4ms postprocess per image at shape (1, 3, 256, 416)\n",
      "\n",
      "0: 256x416 2 persons, 30.1ms\n",
      "Speed: 1.9ms preprocess, 30.1ms inference, 0.3ms postprocess per image at shape (1, 3, 256, 416)\n"
     ]
    },
    {
     "name": "stdout",
     "output_type": "stream",
     "text": [
      "TIme to process 1 frame : 165 milliseconds\n",
      "TIme to process 1 frame : 173 milliseconds\n"
     ]
    },
    {
     "name": "stderr",
     "output_type": "stream",
     "text": [
      "\n",
      "0: 256x416 1 person, 22.0ms\n",
      "Speed: 0.9ms preprocess, 22.0ms inference, 0.3ms postprocess per image at shape (1, 3, 256, 416)\n",
      "\n",
      "0: 256x416 1 person, 21.9ms\n",
      "Speed: 0.6ms preprocess, 21.9ms inference, 0.3ms postprocess per image at shape (1, 3, 256, 416)\n",
      "\n"
     ]
    },
    {
     "name": "stdout",
     "output_type": "stream",
     "text": [
      "TIme to process 1 frame : 153 milliseconds\n",
      "TIme to process 1 frame : 165 milliseconds\n"
     ]
    },
    {
     "name": "stderr",
     "output_type": "stream",
     "text": [
      "0: 256x416 2 persons, 21.8ms\n",
      "Speed: 0.6ms preprocess, 21.8ms inference, 0.3ms postprocess per image at shape (1, 3, 256, 416)\n",
      "\n",
      "0: 256x416 2 persons, 22.8ms\n",
      "Speed: 0.6ms preprocess, 22.8ms inference, 0.3ms postprocess per image at shape (1, 3, 256, 416)\n"
     ]
    },
    {
     "name": "stdout",
     "output_type": "stream",
     "text": [
      "TIme to process 1 frame : 166 milliseconds\n"
     ]
    },
    {
     "name": "stderr",
     "output_type": "stream",
     "text": [
      "\n",
      "0: 256x416 2 persons, 46.5ms\n",
      "Speed: 1.2ms preprocess, 46.5ms inference, 1.9ms postprocess per image at shape (1, 3, 256, 416)\n"
     ]
    },
    {
     "name": "stdout",
     "output_type": "stream",
     "text": [
      "TIme to process 1 frame : 202 milliseconds\n"
     ]
    },
    {
     "name": "stderr",
     "output_type": "stream",
     "text": [
      "\n",
      "0: 256x416 2 persons, 26.7ms\n",
      "Speed: 0.7ms preprocess, 26.7ms inference, 0.3ms postprocess per image at shape (1, 3, 256, 416)\n"
     ]
    },
    {
     "name": "stdout",
     "output_type": "stream",
     "text": [
      "TIme to process 1 frame : 245 milliseconds\n"
     ]
    },
    {
     "name": "stderr",
     "output_type": "stream",
     "text": [
      "\n",
      "0: 256x416 2 persons, 23.6ms\n",
      "Speed: 1.1ms preprocess, 23.6ms inference, 0.3ms postprocess per image at shape (1, 3, 256, 416)\n"
     ]
    },
    {
     "name": "stdout",
     "output_type": "stream",
     "text": [
      "TIme to process 1 frame : 195 milliseconds\n"
     ]
    },
    {
     "name": "stderr",
     "output_type": "stream",
     "text": [
      "\n",
      "0: 256x416 2 persons, 27.7ms\n",
      "Speed: 1.0ms preprocess, 27.7ms inference, 0.6ms postprocess per image at shape (1, 3, 256, 416)\n"
     ]
    },
    {
     "name": "stdout",
     "output_type": "stream",
     "text": [
      "TIme to process 1 frame : 195 milliseconds\n"
     ]
    },
    {
     "name": "stderr",
     "output_type": "stream",
     "text": [
      "\n",
      "0: 256x416 2 persons, 25.3ms\n",
      "Speed: 0.8ms preprocess, 25.3ms inference, 0.3ms postprocess per image at shape (1, 3, 256, 416)\n"
     ]
    },
    {
     "name": "stdout",
     "output_type": "stream",
     "text": [
      "TIme to process 1 frame : 209 milliseconds\n"
     ]
    },
    {
     "name": "stderr",
     "output_type": "stream",
     "text": [
      "\n",
      "0: 256x416 2 persons, 27.5ms\n",
      "Speed: 1.2ms preprocess, 27.5ms inference, 0.4ms postprocess per image at shape (1, 3, 256, 416)\n"
     ]
    },
    {
     "name": "stdout",
     "output_type": "stream",
     "text": [
      "TIme to process 1 frame : 193 milliseconds\n"
     ]
    },
    {
     "name": "stderr",
     "output_type": "stream",
     "text": [
      "\n",
      "0: 256x416 2 persons, 24.0ms\n",
      "Speed: 0.8ms preprocess, 24.0ms inference, 0.3ms postprocess per image at shape (1, 3, 256, 416)\n"
     ]
    },
    {
     "name": "stdout",
     "output_type": "stream",
     "text": [
      "TIme to process 1 frame : 211 milliseconds\n"
     ]
    },
    {
     "name": "stderr",
     "output_type": "stream",
     "text": [
      "\n",
      "0: 256x416 3 persons, 25.6ms\n",
      "Speed: 0.9ms preprocess, 25.6ms inference, 0.4ms postprocess per image at shape (1, 3, 256, 416)\n"
     ]
    },
    {
     "name": "stdout",
     "output_type": "stream",
     "text": [
      "TIme to process 1 frame : 195 milliseconds\n"
     ]
    },
    {
     "name": "stderr",
     "output_type": "stream",
     "text": [
      "\n",
      "0: 256x416 3 persons, 25.3ms\n",
      "Speed: 1.2ms preprocess, 25.3ms inference, 0.3ms postprocess per image at shape (1, 3, 256, 416)\n"
     ]
    },
    {
     "name": "stdout",
     "output_type": "stream",
     "text": [
      "TIme to process 1 frame : 227 milliseconds\n"
     ]
    },
    {
     "name": "stderr",
     "output_type": "stream",
     "text": [
      "\n",
      "0: 256x416 2 persons, 26.1ms\n",
      "Speed: 2.7ms preprocess, 26.1ms inference, 0.3ms postprocess per image at shape (1, 3, 256, 416)\n"
     ]
    },
    {
     "name": "stdout",
     "output_type": "stream",
     "text": [
      "TIme to process 1 frame : 196 milliseconds\n"
     ]
    },
    {
     "name": "stderr",
     "output_type": "stream",
     "text": [
      "\n",
      "0: 256x416 2 persons, 24.7ms\n",
      "Speed: 0.7ms preprocess, 24.7ms inference, 0.4ms postprocess per image at shape (1, 3, 256, 416)\n"
     ]
    },
    {
     "name": "stdout",
     "output_type": "stream",
     "text": [
      "TIme to process 1 frame : 196 milliseconds\n"
     ]
    },
    {
     "name": "stderr",
     "output_type": "stream",
     "text": [
      "\n",
      "0: 256x416 2 persons, 24.5ms\n",
      "Speed: 0.8ms preprocess, 24.5ms inference, 0.3ms postprocess per image at shape (1, 3, 256, 416)\n"
     ]
    },
    {
     "name": "stdout",
     "output_type": "stream",
     "text": [
      "TIme to process 1 frame : 196 milliseconds\n"
     ]
    },
    {
     "name": "stderr",
     "output_type": "stream",
     "text": [
      "\n",
      "0: 256x416 4 persons, 25.0ms\n",
      "Speed: 0.8ms preprocess, 25.0ms inference, 0.3ms postprocess per image at shape (1, 3, 256, 416)\n"
     ]
    },
    {
     "name": "stdout",
     "output_type": "stream",
     "text": [
      "TIme to process 1 frame : 193 milliseconds\n"
     ]
    },
    {
     "name": "stderr",
     "output_type": "stream",
     "text": [
      "\n",
      "0: 256x416 3 persons, 28.1ms\n",
      "Speed: 1.1ms preprocess, 28.1ms inference, 0.3ms postprocess per image at shape (1, 3, 256, 416)\n"
     ]
    },
    {
     "name": "stdout",
     "output_type": "stream",
     "text": [
      "TIme to process 1 frame : 268 milliseconds\n"
     ]
    },
    {
     "name": "stderr",
     "output_type": "stream",
     "text": [
      "\n",
      "0: 256x416 3 persons, 51.0ms\n",
      "Speed: 1.6ms preprocess, 51.0ms inference, 0.4ms postprocess per image at shape (1, 3, 256, 416)\n"
     ]
    },
    {
     "name": "stdout",
     "output_type": "stream",
     "text": [
      "TIme to process 1 frame : 202 milliseconds\n"
     ]
    },
    {
     "name": "stderr",
     "output_type": "stream",
     "text": [
      "\n",
      "0: 256x416 3 persons, 25.0ms\n",
      "Speed: 2.0ms preprocess, 25.0ms inference, 0.3ms postprocess per image at shape (1, 3, 256, 416)\n"
     ]
    },
    {
     "name": "stdout",
     "output_type": "stream",
     "text": [
      "TIme to process 1 frame : 225 milliseconds\n"
     ]
    },
    {
     "name": "stderr",
     "output_type": "stream",
     "text": [
      "\n",
      "0: 256x416 4 persons, 29.4ms\n",
      "Speed: 1.2ms preprocess, 29.4ms inference, 0.3ms postprocess per image at shape (1, 3, 256, 416)\n"
     ]
    },
    {
     "name": "stdout",
     "output_type": "stream",
     "text": [
      "TIme to process 1 frame : 269 milliseconds\n"
     ]
    },
    {
     "name": "stderr",
     "output_type": "stream",
     "text": [
      "\n",
      "0: 256x416 3 persons, 28.9ms\n",
      "Speed: 1.6ms preprocess, 28.9ms inference, 0.3ms postprocess per image at shape (1, 3, 256, 416)\n"
     ]
    },
    {
     "name": "stdout",
     "output_type": "stream",
     "text": [
      "TIme to process 1 frame : 252 milliseconds\n"
     ]
    },
    {
     "name": "stderr",
     "output_type": "stream",
     "text": [
      "\n",
      "0: 256x416 4 persons, 28.6ms\n",
      "Speed: 0.9ms preprocess, 28.6ms inference, 0.3ms postprocess per image at shape (1, 3, 256, 416)\n"
     ]
    },
    {
     "name": "stdout",
     "output_type": "stream",
     "text": [
      "TIme to process 1 frame : 268 milliseconds\n"
     ]
    },
    {
     "name": "stderr",
     "output_type": "stream",
     "text": [
      "\n",
      "0: 256x416 4 persons, 30.1ms\n",
      "Speed: 1.0ms preprocess, 30.1ms inference, 0.4ms postprocess per image at shape (1, 3, 256, 416)\n"
     ]
    },
    {
     "name": "stdout",
     "output_type": "stream",
     "text": [
      "TIme to process 1 frame : 262 milliseconds\n"
     ]
    },
    {
     "name": "stderr",
     "output_type": "stream",
     "text": [
      "\n",
      "0: 256x416 4 persons, 27.2ms\n",
      "Speed: 1.6ms preprocess, 27.2ms inference, 0.3ms postprocess per image at shape (1, 3, 256, 416)\n"
     ]
    },
    {
     "name": "stdout",
     "output_type": "stream",
     "text": [
      "TIme to process 1 frame : 262 milliseconds\n"
     ]
    },
    {
     "name": "stderr",
     "output_type": "stream",
     "text": [
      "\n",
      "0: 256x416 3 persons, 48.9ms\n",
      "Speed: 1.0ms preprocess, 48.9ms inference, 0.6ms postprocess per image at shape (1, 3, 256, 416)\n"
     ]
    },
    {
     "name": "stdout",
     "output_type": "stream",
     "text": [
      "TIme to process 1 frame : 246 milliseconds\n"
     ]
    },
    {
     "name": "stderr",
     "output_type": "stream",
     "text": [
      "\n",
      "0: 256x416 3 persons, 29.4ms\n",
      "Speed: 0.9ms preprocess, 29.4ms inference, 0.3ms postprocess per image at shape (1, 3, 256, 416)\n"
     ]
    },
    {
     "name": "stdout",
     "output_type": "stream",
     "text": [
      "TIme to process 1 frame : 300 milliseconds\n"
     ]
    },
    {
     "name": "stderr",
     "output_type": "stream",
     "text": [
      "\n",
      "0: 256x416 3 persons, 26.6ms\n",
      "Speed: 1.0ms preprocess, 26.6ms inference, 0.4ms postprocess per image at shape (1, 3, 256, 416)\n"
     ]
    },
    {
     "name": "stdout",
     "output_type": "stream",
     "text": [
      "TIme to process 1 frame : 260 milliseconds\n"
     ]
    },
    {
     "name": "stderr",
     "output_type": "stream",
     "text": [
      "\n",
      "0: 256x416 3 persons, 28.7ms\n",
      "Speed: 1.1ms preprocess, 28.7ms inference, 0.3ms postprocess per image at shape (1, 3, 256, 416)\n"
     ]
    },
    {
     "name": "stdout",
     "output_type": "stream",
     "text": [
      "TIme to process 1 frame : 262 milliseconds\n"
     ]
    },
    {
     "name": "stderr",
     "output_type": "stream",
     "text": [
      "\n",
      "0: 256x416 3 persons, 28.3ms\n",
      "Speed: 0.9ms preprocess, 28.3ms inference, 0.4ms postprocess per image at shape (1, 3, 256, 416)\n"
     ]
    },
    {
     "name": "stdout",
     "output_type": "stream",
     "text": [
      "TIme to process 1 frame : 252 milliseconds\n"
     ]
    },
    {
     "name": "stderr",
     "output_type": "stream",
     "text": [
      "\n",
      "0: 256x416 3 persons, 28.0ms\n",
      "Speed: 1.0ms preprocess, 28.0ms inference, 0.3ms postprocess per image at shape (1, 3, 256, 416)\n"
     ]
    },
    {
     "name": "stdout",
     "output_type": "stream",
     "text": [
      "TIme to process 1 frame : 321 milliseconds\n"
     ]
    },
    {
     "name": "stderr",
     "output_type": "stream",
     "text": [
      "\n",
      "0: 256x416 3 persons, 26.2ms\n",
      "Speed: 0.9ms preprocess, 26.2ms inference, 0.4ms postprocess per image at shape (1, 3, 256, 416)\n"
     ]
    },
    {
     "name": "stdout",
     "output_type": "stream",
     "text": [
      "TIme to process 1 frame : 262 milliseconds\n"
     ]
    },
    {
     "name": "stderr",
     "output_type": "stream",
     "text": [
      "\n",
      "0: 256x416 3 persons, 27.2ms\n",
      "Speed: 1.5ms preprocess, 27.2ms inference, 0.3ms postprocess per image at shape (1, 3, 256, 416)\n"
     ]
    },
    {
     "name": "stdout",
     "output_type": "stream",
     "text": [
      "TIme to process 1 frame : 298 milliseconds\n"
     ]
    },
    {
     "name": "stderr",
     "output_type": "stream",
     "text": [
      "\n",
      "0: 256x416 3 persons, 27.9ms\n",
      "Speed: 1.2ms preprocess, 27.9ms inference, 0.3ms postprocess per image at shape (1, 3, 256, 416)\n"
     ]
    },
    {
     "name": "stdout",
     "output_type": "stream",
     "text": [
      "TIme to process 1 frame : 271 milliseconds\n"
     ]
    },
    {
     "name": "stderr",
     "output_type": "stream",
     "text": [
      "\n",
      "0: 256x416 3 persons, 30.9ms\n",
      "Speed: 1.4ms preprocess, 30.9ms inference, 0.3ms postprocess per image at shape (1, 3, 256, 416)\n"
     ]
    },
    {
     "name": "stdout",
     "output_type": "stream",
     "text": [
      "TIme to process 1 frame : 260 milliseconds\n"
     ]
    },
    {
     "name": "stderr",
     "output_type": "stream",
     "text": [
      "\n",
      "0: 256x416 3 persons, 25.7ms\n",
      "Speed: 1.2ms preprocess, 25.7ms inference, 0.4ms postprocess per image at shape (1, 3, 256, 416)\n"
     ]
    },
    {
     "name": "stdout",
     "output_type": "stream",
     "text": [
      "TIme to process 1 frame : 263 milliseconds\n"
     ]
    },
    {
     "name": "stderr",
     "output_type": "stream",
     "text": [
      "\n",
      "0: 256x416 3 persons, 26.9ms\n",
      "Speed: 1.0ms preprocess, 26.9ms inference, 0.3ms postprocess per image at shape (1, 3, 256, 416)\n"
     ]
    },
    {
     "name": "stdout",
     "output_type": "stream",
     "text": [
      "TIme to process 1 frame : 252 milliseconds\n"
     ]
    },
    {
     "name": "stderr",
     "output_type": "stream",
     "text": [
      "\n",
      "0: 256x416 3 persons, 28.2ms\n",
      "Speed: 1.1ms preprocess, 28.2ms inference, 0.3ms postprocess per image at shape (1, 3, 256, 416)\n"
     ]
    },
    {
     "name": "stdout",
     "output_type": "stream",
     "text": [
      "TIme to process 1 frame : 256 milliseconds\n"
     ]
    },
    {
     "name": "stderr",
     "output_type": "stream",
     "text": [
      "\n",
      "0: 256x416 3 persons, 27.7ms\n",
      "Speed: 1.2ms preprocess, 27.7ms inference, 0.4ms postprocess per image at shape (1, 3, 256, 416)\n"
     ]
    },
    {
     "name": "stdout",
     "output_type": "stream",
     "text": [
      "TIme to process 1 frame : 262 milliseconds\n"
     ]
    },
    {
     "name": "stderr",
     "output_type": "stream",
     "text": [
      "\n",
      "0: 256x416 3 persons, 25.7ms\n",
      "Speed: 1.2ms preprocess, 25.7ms inference, 0.3ms postprocess per image at shape (1, 3, 256, 416)\n"
     ]
    },
    {
     "name": "stdout",
     "output_type": "stream",
     "text": [
      "TIme to process 1 frame : 284 milliseconds\n"
     ]
    },
    {
     "name": "stderr",
     "output_type": "stream",
     "text": [
      "\n",
      "0: 256x416 3 persons, 30.2ms\n",
      "Speed: 1.2ms preprocess, 30.2ms inference, 0.4ms postprocess per image at shape (1, 3, 256, 416)\n"
     ]
    },
    {
     "name": "stdout",
     "output_type": "stream",
     "text": [
      "TIme to process 1 frame : 310 milliseconds\n"
     ]
    },
    {
     "name": "stderr",
     "output_type": "stream",
     "text": [
      "\n",
      "0: 256x416 3 persons, 29.1ms\n",
      "Speed: 1.5ms preprocess, 29.1ms inference, 0.3ms postprocess per image at shape (1, 3, 256, 416)\n"
     ]
    },
    {
     "name": "stdout",
     "output_type": "stream",
     "text": [
      "TIme to process 1 frame : 270 milliseconds\n"
     ]
    },
    {
     "name": "stderr",
     "output_type": "stream",
     "text": [
      "\n",
      "0: 256x416 3 persons, 34.2ms\n",
      "Speed: 1.0ms preprocess, 34.2ms inference, 0.3ms postprocess per image at shape (1, 3, 256, 416)\n"
     ]
    },
    {
     "name": "stdout",
     "output_type": "stream",
     "text": [
      "TIme to process 1 frame : 262 milliseconds\n"
     ]
    },
    {
     "name": "stderr",
     "output_type": "stream",
     "text": [
      "\n",
      "0: 256x416 3 persons, 26.6ms\n",
      "Speed: 1.3ms preprocess, 26.6ms inference, 0.3ms postprocess per image at shape (1, 3, 256, 416)\n"
     ]
    },
    {
     "name": "stdout",
     "output_type": "stream",
     "text": [
      "TIme to process 1 frame : 262 milliseconds\n"
     ]
    },
    {
     "name": "stderr",
     "output_type": "stream",
     "text": [
      "\n",
      "0: 256x416 3 persons, 27.6ms\n",
      "Speed: 0.9ms preprocess, 27.6ms inference, 0.3ms postprocess per image at shape (1, 3, 256, 416)\n"
     ]
    },
    {
     "name": "stdout",
     "output_type": "stream",
     "text": [
      "TIme to process 1 frame : 277 milliseconds\n"
     ]
    },
    {
     "name": "stderr",
     "output_type": "stream",
     "text": [
      "\n",
      "0: 256x416 3 persons, 51.2ms\n",
      "Speed: 1.3ms preprocess, 51.2ms inference, 0.8ms postprocess per image at shape (1, 3, 256, 416)\n"
     ]
    },
    {
     "name": "stdout",
     "output_type": "stream",
     "text": [
      "TIme to process 1 frame : 264 milliseconds\n"
     ]
    },
    {
     "name": "stderr",
     "output_type": "stream",
     "text": [
      "\n",
      "0: 256x416 3 persons, 30.2ms\n",
      "Speed: 1.2ms preprocess, 30.2ms inference, 0.3ms postprocess per image at shape (1, 3, 256, 416)\n"
     ]
    },
    {
     "name": "stdout",
     "output_type": "stream",
     "text": [
      "TIme to process 1 frame : 275 milliseconds\n"
     ]
    },
    {
     "name": "stderr",
     "output_type": "stream",
     "text": [
      "\n",
      "0: 256x416 3 persons, 29.7ms\n",
      "Speed: 0.8ms preprocess, 29.7ms inference, 0.3ms postprocess per image at shape (1, 3, 256, 416)\n"
     ]
    },
    {
     "name": "stdout",
     "output_type": "stream",
     "text": [
      "TIme to process 1 frame : 260 milliseconds\n"
     ]
    },
    {
     "name": "stderr",
     "output_type": "stream",
     "text": [
      "\n",
      "0: 256x416 3 persons, 27.4ms\n",
      "Speed: 1.4ms preprocess, 27.4ms inference, 0.4ms postprocess per image at shape (1, 3, 256, 416)\n"
     ]
    },
    {
     "name": "stdout",
     "output_type": "stream",
     "text": [
      "TIme to process 1 frame : 261 milliseconds\n"
     ]
    },
    {
     "name": "stderr",
     "output_type": "stream",
     "text": [
      "\n",
      "0: 256x416 3 persons, 29.9ms\n",
      "Speed: 1.2ms preprocess, 29.9ms inference, 0.3ms postprocess per image at shape (1, 3, 256, 416)\n"
     ]
    },
    {
     "name": "stdout",
     "output_type": "stream",
     "text": [
      "TIme to process 1 frame : 257 milliseconds\n"
     ]
    },
    {
     "name": "stderr",
     "output_type": "stream",
     "text": [
      "\n",
      "0: 256x416 3 persons, 24.6ms\n",
      "Speed: 0.9ms preprocess, 24.6ms inference, 0.3ms postprocess per image at shape (1, 3, 256, 416)\n"
     ]
    },
    {
     "name": "stdout",
     "output_type": "stream",
     "text": [
      "TIme to process 1 frame : 252 milliseconds\n"
     ]
    },
    {
     "name": "stderr",
     "output_type": "stream",
     "text": [
      "\n",
      "0: 256x416 4 persons, 27.5ms\n",
      "Speed: 1.5ms preprocess, 27.5ms inference, 0.3ms postprocess per image at shape (1, 3, 256, 416)\n"
     ]
    },
    {
     "name": "stdout",
     "output_type": "stream",
     "text": [
      "TIme to process 1 frame : 241 milliseconds\n"
     ]
    },
    {
     "name": "stderr",
     "output_type": "stream",
     "text": [
      "\n",
      "0: 256x416 4 persons, 25.9ms\n",
      "Speed: 1.1ms preprocess, 25.9ms inference, 0.3ms postprocess per image at shape (1, 3, 256, 416)\n"
     ]
    },
    {
     "name": "stdout",
     "output_type": "stream",
     "text": [
      "TIme to process 1 frame : 245 milliseconds\n"
     ]
    },
    {
     "name": "stderr",
     "output_type": "stream",
     "text": [
      "\n",
      "0: 256x416 3 persons, 24.1ms\n",
      "Speed: 1.5ms preprocess, 24.1ms inference, 0.3ms postprocess per image at shape (1, 3, 256, 416)\n"
     ]
    },
    {
     "name": "stdout",
     "output_type": "stream",
     "text": [
      "TIme to process 1 frame : 230 milliseconds\n"
     ]
    },
    {
     "name": "stderr",
     "output_type": "stream",
     "text": [
      "\n",
      "0: 256x416 3 persons, 49.8ms\n",
      "Speed: 1.7ms preprocess, 49.8ms inference, 0.4ms postprocess per image at shape (1, 3, 256, 416)\n"
     ]
    },
    {
     "name": "stdout",
     "output_type": "stream",
     "text": [
      "TIme to process 1 frame : 242 milliseconds\n"
     ]
    },
    {
     "name": "stderr",
     "output_type": "stream",
     "text": [
      "\n",
      "0: 256x416 3 persons, 26.7ms\n",
      "Speed: 1.0ms preprocess, 26.7ms inference, 0.3ms postprocess per image at shape (1, 3, 256, 416)\n"
     ]
    },
    {
     "name": "stdout",
     "output_type": "stream",
     "text": [
      "TIme to process 1 frame : 275 milliseconds\n"
     ]
    },
    {
     "name": "stderr",
     "output_type": "stream",
     "text": [
      "\n",
      "0: 256x416 3 persons, 25.3ms\n",
      "Speed: 1.3ms preprocess, 25.3ms inference, 0.4ms postprocess per image at shape (1, 3, 256, 416)\n"
     ]
    },
    {
     "name": "stdout",
     "output_type": "stream",
     "text": [
      "TIme to process 1 frame : 240 milliseconds\n"
     ]
    },
    {
     "name": "stderr",
     "output_type": "stream",
     "text": [
      "\n",
      "0: 256x416 3 persons, 27.4ms\n",
      "Speed: 1.2ms preprocess, 27.4ms inference, 0.3ms postprocess per image at shape (1, 3, 256, 416)\n"
     ]
    },
    {
     "name": "stdout",
     "output_type": "stream",
     "text": [
      "TIme to process 1 frame : 241 milliseconds\n"
     ]
    },
    {
     "name": "stderr",
     "output_type": "stream",
     "text": [
      "\n",
      "0: 256x416 3 persons, 26.6ms\n",
      "Speed: 0.9ms preprocess, 26.6ms inference, 0.3ms postprocess per image at shape (1, 3, 256, 416)\n"
     ]
    },
    {
     "name": "stdout",
     "output_type": "stream",
     "text": [
      "TIme to process 1 frame : 241 milliseconds\n"
     ]
    },
    {
     "name": "stderr",
     "output_type": "stream",
     "text": [
      "\n",
      "0: 256x416 3 persons, 24.6ms\n",
      "Speed: 1.4ms preprocess, 24.6ms inference, 0.3ms postprocess per image at shape (1, 3, 256, 416)\n"
     ]
    },
    {
     "name": "stdout",
     "output_type": "stream",
     "text": [
      "TIme to process 1 frame : 243 milliseconds\n"
     ]
    },
    {
     "name": "stderr",
     "output_type": "stream",
     "text": [
      "\n",
      "0: 256x416 3 persons, 25.2ms\n",
      "Speed: 1.0ms preprocess, 25.2ms inference, 0.4ms postprocess per image at shape (1, 3, 256, 416)\n"
     ]
    },
    {
     "name": "stdout",
     "output_type": "stream",
     "text": [
      "TIme to process 1 frame : 239 milliseconds\n"
     ]
    },
    {
     "name": "stderr",
     "output_type": "stream",
     "text": [
      "\n",
      "0: 256x416 3 persons, 27.8ms\n",
      "Speed: 1.4ms preprocess, 27.8ms inference, 0.3ms postprocess per image at shape (1, 3, 256, 416)\n"
     ]
    },
    {
     "name": "stdout",
     "output_type": "stream",
     "text": [
      "TIme to process 1 frame : 238 milliseconds\n"
     ]
    },
    {
     "name": "stderr",
     "output_type": "stream",
     "text": [
      "\n",
      "0: 256x416 4 persons, 27.9ms\n",
      "Speed: 0.9ms preprocess, 27.9ms inference, 0.4ms postprocess per image at shape (1, 3, 256, 416)\n"
     ]
    },
    {
     "name": "stdout",
     "output_type": "stream",
     "text": [
      "TIme to process 1 frame : 242 milliseconds\n"
     ]
    },
    {
     "name": "stderr",
     "output_type": "stream",
     "text": [
      "\n",
      "0: 256x416 3 persons, 32.4ms\n",
      "Speed: 1.2ms preprocess, 32.4ms inference, 0.4ms postprocess per image at shape (1, 3, 256, 416)\n"
     ]
    },
    {
     "name": "stdout",
     "output_type": "stream",
     "text": [
      "TIme to process 1 frame : 319 milliseconds\n"
     ]
    },
    {
     "name": "stderr",
     "output_type": "stream",
     "text": [
      "\n",
      "0: 256x416 3 persons, 26.4ms\n",
      "Speed: 1.0ms preprocess, 26.4ms inference, 0.3ms postprocess per image at shape (1, 3, 256, 416)\n"
     ]
    },
    {
     "name": "stdout",
     "output_type": "stream",
     "text": [
      "TIme to process 1 frame : 335 milliseconds\n"
     ]
    },
    {
     "name": "stderr",
     "output_type": "stream",
     "text": [
      "\n",
      "0: 256x416 4 persons, 26.1ms\n",
      "Speed: 1.0ms preprocess, 26.1ms inference, 0.3ms postprocess per image at shape (1, 3, 256, 416)\n"
     ]
    },
    {
     "name": "stdout",
     "output_type": "stream",
     "text": [
      "TIme to process 1 frame : 244 milliseconds\n"
     ]
    },
    {
     "name": "stderr",
     "output_type": "stream",
     "text": [
      "\n",
      "0: 256x416 5 persons, 34.3ms\n",
      "Speed: 0.9ms preprocess, 34.3ms inference, 0.3ms postprocess per image at shape (1, 3, 256, 416)\n"
     ]
    },
    {
     "name": "stdout",
     "output_type": "stream",
     "text": [
      "TIme to process 1 frame : 288 milliseconds\n"
     ]
    },
    {
     "name": "stderr",
     "output_type": "stream",
     "text": [
      "\n",
      "0: 256x416 3 persons, 30.9ms\n",
      "Speed: 1.5ms preprocess, 30.9ms inference, 0.3ms postprocess per image at shape (1, 3, 256, 416)\n"
     ]
    },
    {
     "name": "stdout",
     "output_type": "stream",
     "text": [
      "TIme to process 1 frame : 367 milliseconds\n"
     ]
    },
    {
     "name": "stderr",
     "output_type": "stream",
     "text": [
      "\n",
      "0: 256x416 3 persons, 27.1ms\n",
      "Speed: 2.2ms preprocess, 27.1ms inference, 0.3ms postprocess per image at shape (1, 3, 256, 416)\n"
     ]
    },
    {
     "name": "stdout",
     "output_type": "stream",
     "text": [
      "TIme to process 1 frame : 328 milliseconds\n"
     ]
    },
    {
     "name": "stderr",
     "output_type": "stream",
     "text": [
      "\n",
      "0: 256x416 3 persons, 26.1ms\n",
      "Speed: 1.0ms preprocess, 26.1ms inference, 0.3ms postprocess per image at shape (1, 3, 256, 416)\n"
     ]
    },
    {
     "name": "stdout",
     "output_type": "stream",
     "text": [
      "TIme to process 1 frame : 239 milliseconds\n"
     ]
    },
    {
     "name": "stderr",
     "output_type": "stream",
     "text": [
      "\n",
      "0: 256x416 3 persons, 29.8ms\n",
      "Speed: 0.7ms preprocess, 29.8ms inference, 0.3ms postprocess per image at shape (1, 3, 256, 416)\n"
     ]
    },
    {
     "name": "stdout",
     "output_type": "stream",
     "text": [
      "TIme to process 1 frame : 240 milliseconds\n"
     ]
    },
    {
     "name": "stderr",
     "output_type": "stream",
     "text": [
      "\n",
      "0: 256x416 3 persons, 25.5ms\n",
      "Speed: 1.5ms preprocess, 25.5ms inference, 0.3ms postprocess per image at shape (1, 3, 256, 416)\n"
     ]
    },
    {
     "name": "stdout",
     "output_type": "stream",
     "text": [
      "TIme to process 1 frame : 250 milliseconds\n"
     ]
    },
    {
     "name": "stderr",
     "output_type": "stream",
     "text": [
      "\n",
      "0: 256x416 3 persons, 25.3ms\n",
      "Speed: 0.9ms preprocess, 25.3ms inference, 0.4ms postprocess per image at shape (1, 3, 256, 416)\n"
     ]
    },
    {
     "name": "stdout",
     "output_type": "stream",
     "text": [
      "TIme to process 1 frame : 240 milliseconds\n"
     ]
    },
    {
     "name": "stderr",
     "output_type": "stream",
     "text": [
      "\n",
      "0: 256x416 3 persons, 25.8ms\n",
      "Speed: 1.0ms preprocess, 25.8ms inference, 0.7ms postprocess per image at shape (1, 3, 256, 416)\n"
     ]
    },
    {
     "name": "stdout",
     "output_type": "stream",
     "text": [
      "TIme to process 1 frame : 244 milliseconds\n"
     ]
    },
    {
     "name": "stderr",
     "output_type": "stream",
     "text": [
      "\n",
      "0: 256x416 3 persons, 26.7ms\n",
      "Speed: 0.9ms preprocess, 26.7ms inference, 0.3ms postprocess per image at shape (1, 3, 256, 416)\n"
     ]
    },
    {
     "name": "stdout",
     "output_type": "stream",
     "text": [
      "TIme to process 1 frame : 277 milliseconds\n"
     ]
    },
    {
     "name": "stderr",
     "output_type": "stream",
     "text": [
      "\n",
      "0: 256x416 4 persons, 27.1ms\n",
      "Speed: 1.3ms preprocess, 27.1ms inference, 0.4ms postprocess per image at shape (1, 3, 256, 416)\n"
     ]
    },
    {
     "name": "stdout",
     "output_type": "stream",
     "text": [
      "TIme to process 1 frame : 246 milliseconds\n"
     ]
    },
    {
     "name": "stderr",
     "output_type": "stream",
     "text": [
      "\n",
      "0: 256x416 3 persons, 28.9ms\n",
      "Speed: 0.9ms preprocess, 28.9ms inference, 0.4ms postprocess per image at shape (1, 3, 256, 416)\n"
     ]
    },
    {
     "name": "stdout",
     "output_type": "stream",
     "text": [
      "TIme to process 1 frame : 239 milliseconds\n"
     ]
    },
    {
     "name": "stderr",
     "output_type": "stream",
     "text": [
      "\n",
      "0: 256x416 4 persons, 27.0ms\n",
      "Speed: 0.9ms preprocess, 27.0ms inference, 0.3ms postprocess per image at shape (1, 3, 256, 416)\n"
     ]
    },
    {
     "name": "stdout",
     "output_type": "stream",
     "text": [
      "TIme to process 1 frame : 250 milliseconds\n"
     ]
    },
    {
     "name": "stderr",
     "output_type": "stream",
     "text": [
      "\n",
      "0: 256x416 3 persons, 29.2ms\n",
      "Speed: 1.5ms preprocess, 29.2ms inference, 0.4ms postprocess per image at shape (1, 3, 256, 416)\n"
     ]
    },
    {
     "name": "stdout",
     "output_type": "stream",
     "text": [
      "TIme to process 1 frame : 243 milliseconds\n"
     ]
    },
    {
     "name": "stderr",
     "output_type": "stream",
     "text": [
      "\n",
      "0: 256x416 4 persons, 27.4ms\n",
      "Speed: 0.9ms preprocess, 27.4ms inference, 0.5ms postprocess per image at shape (1, 3, 256, 416)\n"
     ]
    },
    {
     "name": "stdout",
     "output_type": "stream",
     "text": [
      "TIme to process 1 frame : 202 milliseconds\n"
     ]
    },
    {
     "name": "stderr",
     "output_type": "stream",
     "text": [
      "\n",
      "0: 256x416 3 persons, 27.2ms\n",
      "Speed: 1.2ms preprocess, 27.2ms inference, 0.3ms postprocess per image at shape (1, 3, 256, 416)\n"
     ]
    },
    {
     "name": "stdout",
     "output_type": "stream",
     "text": [
      "TIme to process 1 frame : 266 milliseconds\n"
     ]
    },
    {
     "name": "stderr",
     "output_type": "stream",
     "text": [
      "\n",
      "0: 256x416 3 persons, 26.2ms\n",
      "Speed: 1.4ms preprocess, 26.2ms inference, 0.5ms postprocess per image at shape (1, 3, 256, 416)\n"
     ]
    },
    {
     "name": "stdout",
     "output_type": "stream",
     "text": [
      "TIme to process 1 frame : 242 milliseconds\n"
     ]
    },
    {
     "name": "stderr",
     "output_type": "stream",
     "text": [
      "\n",
      "0: 256x416 4 persons, 25.8ms\n",
      "Speed: 1.3ms preprocess, 25.8ms inference, 0.3ms postprocess per image at shape (1, 3, 256, 416)\n"
     ]
    },
    {
     "name": "stdout",
     "output_type": "stream",
     "text": [
      "TIme to process 1 frame : 244 milliseconds\n"
     ]
    },
    {
     "name": "stderr",
     "output_type": "stream",
     "text": [
      "\n",
      "0: 256x416 4 persons, 50.2ms\n",
      "Speed: 1.4ms preprocess, 50.2ms inference, 0.4ms postprocess per image at shape (1, 3, 256, 416)\n"
     ]
    },
    {
     "name": "stdout",
     "output_type": "stream",
     "text": [
      "TIme to process 1 frame : 242 milliseconds\n"
     ]
    },
    {
     "name": "stderr",
     "output_type": "stream",
     "text": [
      "\n",
      "0: 256x416 3 persons, 27.8ms\n",
      "Speed: 1.0ms preprocess, 27.8ms inference, 0.3ms postprocess per image at shape (1, 3, 256, 416)\n"
     ]
    },
    {
     "name": "stdout",
     "output_type": "stream",
     "text": [
      "TIme to process 1 frame : 284 milliseconds\n"
     ]
    },
    {
     "name": "stderr",
     "output_type": "stream",
     "text": [
      "\n",
      "0: 256x416 3 persons, 26.4ms\n",
      "Speed: 1.0ms preprocess, 26.4ms inference, 0.3ms postprocess per image at shape (1, 3, 256, 416)\n"
     ]
    },
    {
     "name": "stdout",
     "output_type": "stream",
     "text": [
      "TIme to process 1 frame : 260 milliseconds\n"
     ]
    },
    {
     "name": "stderr",
     "output_type": "stream",
     "text": [
      "\n",
      "0: 256x416 3 persons, 28.0ms\n",
      "Speed: 0.9ms preprocess, 28.0ms inference, 0.6ms postprocess per image at shape (1, 3, 256, 416)\n"
     ]
    },
    {
     "name": "stdout",
     "output_type": "stream",
     "text": [
      "TIme to process 1 frame : 239 milliseconds\n"
     ]
    },
    {
     "name": "stderr",
     "output_type": "stream",
     "text": [
      "\n",
      "0: 256x416 3 persons, 29.2ms\n",
      "Speed: 1.7ms preprocess, 29.2ms inference, 0.4ms postprocess per image at shape (1, 3, 256, 416)\n"
     ]
    },
    {
     "name": "stdout",
     "output_type": "stream",
     "text": [
      "TIme to process 1 frame : 245 milliseconds\n"
     ]
    },
    {
     "name": "stderr",
     "output_type": "stream",
     "text": [
      "\n",
      "0: 256x416 3 persons, 26.2ms\n",
      "Speed: 1.5ms preprocess, 26.2ms inference, 0.4ms postprocess per image at shape (1, 3, 256, 416)\n"
     ]
    },
    {
     "name": "stdout",
     "output_type": "stream",
     "text": [
      "TIme to process 1 frame : 243 milliseconds\n"
     ]
    },
    {
     "name": "stderr",
     "output_type": "stream",
     "text": [
      "\n",
      "0: 256x416 3 persons, 27.8ms\n",
      "Speed: 1.5ms preprocess, 27.8ms inference, 0.3ms postprocess per image at shape (1, 3, 256, 416)\n"
     ]
    },
    {
     "name": "stdout",
     "output_type": "stream",
     "text": [
      "TIme to process 1 frame : 237 milliseconds\n"
     ]
    },
    {
     "name": "stderr",
     "output_type": "stream",
     "text": [
      "\n",
      "0: 256x416 3 persons, 29.0ms\n",
      "Speed: 2.0ms preprocess, 29.0ms inference, 0.3ms postprocess per image at shape (1, 3, 256, 416)\n"
     ]
    },
    {
     "name": "stdout",
     "output_type": "stream",
     "text": [
      "TIme to process 1 frame : 252 milliseconds\n"
     ]
    },
    {
     "name": "stderr",
     "output_type": "stream",
     "text": [
      "\n",
      "0: 256x416 3 persons, 25.8ms\n",
      "Speed: 1.2ms preprocess, 25.8ms inference, 0.4ms postprocess per image at shape (1, 3, 256, 416)\n"
     ]
    },
    {
     "name": "stdout",
     "output_type": "stream",
     "text": [
      "TIme to process 1 frame : 251 milliseconds\n"
     ]
    },
    {
     "name": "stderr",
     "output_type": "stream",
     "text": [
      "\n",
      "0: 256x416 3 persons, 42.1ms\n",
      "Speed: 1.0ms preprocess, 42.1ms inference, 0.7ms postprocess per image at shape (1, 3, 256, 416)\n"
     ]
    },
    {
     "name": "stdout",
     "output_type": "stream",
     "text": [
      "TIme to process 1 frame : 233 milliseconds\n"
     ]
    },
    {
     "name": "stderr",
     "output_type": "stream",
     "text": [
      "\n",
      "0: 256x416 3 persons, 27.1ms\n",
      "Speed: 1.4ms preprocess, 27.1ms inference, 0.3ms postprocess per image at shape (1, 3, 256, 416)\n"
     ]
    },
    {
     "name": "stdout",
     "output_type": "stream",
     "text": [
      "TIme to process 1 frame : 267 milliseconds\n"
     ]
    },
    {
     "name": "stderr",
     "output_type": "stream",
     "text": [
      "\n",
      "0: 256x416 3 persons, 28.2ms\n",
      "Speed: 1.4ms preprocess, 28.2ms inference, 0.3ms postprocess per image at shape (1, 3, 256, 416)\n"
     ]
    },
    {
     "name": "stdout",
     "output_type": "stream",
     "text": [
      "TIme to process 1 frame : 242 milliseconds\n"
     ]
    },
    {
     "name": "stderr",
     "output_type": "stream",
     "text": [
      "\n",
      "0: 256x416 3 persons, 25.5ms\n",
      "Speed: 0.9ms preprocess, 25.5ms inference, 0.4ms postprocess per image at shape (1, 3, 256, 416)\n"
     ]
    },
    {
     "name": "stdout",
     "output_type": "stream",
     "text": [
      "TIme to process 1 frame : 245 milliseconds\n"
     ]
    },
    {
     "name": "stderr",
     "output_type": "stream",
     "text": [
      "\n",
      "0: 256x416 3 persons, 28.1ms\n",
      "Speed: 1.0ms preprocess, 28.1ms inference, 0.4ms postprocess per image at shape (1, 3, 256, 416)\n"
     ]
    },
    {
     "name": "stdout",
     "output_type": "stream",
     "text": [
      "TIme to process 1 frame : 232 milliseconds\n"
     ]
    },
    {
     "name": "stderr",
     "output_type": "stream",
     "text": [
      "\n",
      "0: 256x416 3 persons, 27.3ms\n",
      "Speed: 1.2ms preprocess, 27.3ms inference, 0.4ms postprocess per image at shape (1, 3, 256, 416)\n"
     ]
    },
    {
     "name": "stdout",
     "output_type": "stream",
     "text": [
      "TIme to process 1 frame : 246 milliseconds\n"
     ]
    },
    {
     "name": "stderr",
     "output_type": "stream",
     "text": [
      "\n",
      "0: 256x416 3 persons, 24.5ms\n",
      "Speed: 1.5ms preprocess, 24.5ms inference, 0.3ms postprocess per image at shape (1, 3, 256, 416)\n"
     ]
    },
    {
     "name": "stdout",
     "output_type": "stream",
     "text": [
      "TIme to process 1 frame : 243 milliseconds\n"
     ]
    },
    {
     "name": "stderr",
     "output_type": "stream",
     "text": [
      "\n",
      "0: 256x416 3 persons, 25.8ms\n",
      "Speed: 1.7ms preprocess, 25.8ms inference, 0.3ms postprocess per image at shape (1, 3, 256, 416)\n"
     ]
    },
    {
     "name": "stdout",
     "output_type": "stream",
     "text": [
      "TIme to process 1 frame : 236 milliseconds\n"
     ]
    },
    {
     "name": "stderr",
     "output_type": "stream",
     "text": [
      "\n",
      "0: 256x416 3 persons, 24.9ms\n",
      "Speed: 1.0ms preprocess, 24.9ms inference, 0.4ms postprocess per image at shape (1, 3, 256, 416)\n"
     ]
    },
    {
     "name": "stdout",
     "output_type": "stream",
     "text": [
      "TIme to process 1 frame : 242 milliseconds\n"
     ]
    },
    {
     "name": "stderr",
     "output_type": "stream",
     "text": [
      "\n",
      "0: 256x416 3 persons, 26.3ms\n",
      "Speed: 1.3ms preprocess, 26.3ms inference, 0.3ms postprocess per image at shape (1, 3, 256, 416)\n"
     ]
    },
    {
     "name": "stdout",
     "output_type": "stream",
     "text": [
      "TIme to process 1 frame : 269 milliseconds\n"
     ]
    },
    {
     "name": "stderr",
     "output_type": "stream",
     "text": [
      "\n",
      "0: 256x416 3 persons, 25.2ms\n",
      "Speed: 0.9ms preprocess, 25.2ms inference, 0.3ms postprocess per image at shape (1, 3, 256, 416)\n"
     ]
    },
    {
     "name": "stdout",
     "output_type": "stream",
     "text": [
      "TIme to process 1 frame : 244 milliseconds\n"
     ]
    },
    {
     "name": "stderr",
     "output_type": "stream",
     "text": [
      "\n",
      "0: 256x416 3 persons, 24.0ms\n",
      "Speed: 1.3ms preprocess, 24.0ms inference, 0.3ms postprocess per image at shape (1, 3, 256, 416)\n"
     ]
    },
    {
     "name": "stdout",
     "output_type": "stream",
     "text": [
      "TIme to process 1 frame : 239 milliseconds\n"
     ]
    },
    {
     "name": "stderr",
     "output_type": "stream",
     "text": [
      "\n",
      "0: 256x416 3 persons, 25.5ms\n",
      "Speed: 1.2ms preprocess, 25.5ms inference, 0.3ms postprocess per image at shape (1, 3, 256, 416)\n"
     ]
    },
    {
     "name": "stdout",
     "output_type": "stream",
     "text": [
      "TIme to process 1 frame : 239 milliseconds\n"
     ]
    },
    {
     "name": "stderr",
     "output_type": "stream",
     "text": [
      "\n",
      "0: 256x416 3 persons, 26.7ms\n",
      "Speed: 0.8ms preprocess, 26.7ms inference, 0.3ms postprocess per image at shape (1, 3, 256, 416)\n"
     ]
    },
    {
     "name": "stdout",
     "output_type": "stream",
     "text": [
      "TIme to process 1 frame : 242 milliseconds\n"
     ]
    },
    {
     "name": "stderr",
     "output_type": "stream",
     "text": [
      "\n",
      "0: 256x416 3 persons, 26.8ms\n",
      "Speed: 1.3ms preprocess, 26.8ms inference, 0.3ms postprocess per image at shape (1, 3, 256, 416)\n"
     ]
    },
    {
     "name": "stdout",
     "output_type": "stream",
     "text": [
      "TIme to process 1 frame : 244 milliseconds\n"
     ]
    },
    {
     "name": "stderr",
     "output_type": "stream",
     "text": [
      "\n",
      "0: 256x416 3 persons, 24.9ms\n",
      "Speed: 1.4ms preprocess, 24.9ms inference, 0.3ms postprocess per image at shape (1, 3, 256, 416)\n"
     ]
    },
    {
     "name": "stdout",
     "output_type": "stream",
     "text": [
      "TIme to process 1 frame : 239 milliseconds\n"
     ]
    },
    {
     "name": "stderr",
     "output_type": "stream",
     "text": [
      "\n",
      "0: 256x416 3 persons, 26.8ms\n",
      "Speed: 1.2ms preprocess, 26.8ms inference, 0.3ms postprocess per image at shape (1, 3, 256, 416)\n"
     ]
    },
    {
     "name": "stdout",
     "output_type": "stream",
     "text": [
      "TIme to process 1 frame : 241 milliseconds\n"
     ]
    },
    {
     "name": "stderr",
     "output_type": "stream",
     "text": [
      "\n",
      "0: 256x416 3 persons, 30.6ms\n",
      "Speed: 1.5ms preprocess, 30.6ms inference, 0.5ms postprocess per image at shape (1, 3, 256, 416)\n"
     ]
    },
    {
     "name": "stdout",
     "output_type": "stream",
     "text": [
      "TIme to process 1 frame : 360 milliseconds\n"
     ]
    },
    {
     "name": "stderr",
     "output_type": "stream",
     "text": [
      "\n",
      "0: 256x416 3 persons, 27.7ms\n",
      "Speed: 1.2ms preprocess, 27.7ms inference, 0.4ms postprocess per image at shape (1, 3, 256, 416)\n"
     ]
    },
    {
     "name": "stdout",
     "output_type": "stream",
     "text": [
      "TIme to process 1 frame : 288 milliseconds\n"
     ]
    },
    {
     "name": "stderr",
     "output_type": "stream",
     "text": [
      "\n",
      "0: 256x416 3 persons, 31.8ms\n",
      "Speed: 0.9ms preprocess, 31.8ms inference, 0.4ms postprocess per image at shape (1, 3, 256, 416)\n"
     ]
    },
    {
     "name": "stdout",
     "output_type": "stream",
     "text": [
      "TIme to process 1 frame : 251 milliseconds\n"
     ]
    },
    {
     "name": "stderr",
     "output_type": "stream",
     "text": [
      "\n",
      "0: 256x416 3 persons, 26.3ms\n",
      "Speed: 1.3ms preprocess, 26.3ms inference, 0.3ms postprocess per image at shape (1, 3, 256, 416)\n"
     ]
    },
    {
     "name": "stdout",
     "output_type": "stream",
     "text": [
      "TIme to process 1 frame : 239 milliseconds\n"
     ]
    },
    {
     "name": "stderr",
     "output_type": "stream",
     "text": [
      "\n",
      "0: 256x416 3 persons, 24.7ms\n",
      "Speed: 0.9ms preprocess, 24.7ms inference, 0.3ms postprocess per image at shape (1, 3, 256, 416)\n"
     ]
    },
    {
     "name": "stdout",
     "output_type": "stream",
     "text": [
      "TIme to process 1 frame : 246 milliseconds\n"
     ]
    },
    {
     "name": "stderr",
     "output_type": "stream",
     "text": [
      "\n",
      "0: 256x416 3 persons, 24.9ms\n",
      "Speed: 1.0ms preprocess, 24.9ms inference, 0.3ms postprocess per image at shape (1, 3, 256, 416)\n"
     ]
    },
    {
     "name": "stdout",
     "output_type": "stream",
     "text": [
      "TIme to process 1 frame : 239 milliseconds\n"
     ]
    },
    {
     "name": "stderr",
     "output_type": "stream",
     "text": [
      "\n",
      "0: 256x416 3 persons, 25.8ms\n",
      "Speed: 1.0ms preprocess, 25.8ms inference, 0.6ms postprocess per image at shape (1, 3, 256, 416)\n"
     ]
    },
    {
     "name": "stdout",
     "output_type": "stream",
     "text": [
      "TIme to process 1 frame : 247 milliseconds\n"
     ]
    },
    {
     "name": "stderr",
     "output_type": "stream",
     "text": [
      "\n",
      "0: 256x416 3 persons, 31.5ms\n",
      "Speed: 1.4ms preprocess, 31.5ms inference, 0.4ms postprocess per image at shape (1, 3, 256, 416)\n"
     ]
    },
    {
     "name": "stdout",
     "output_type": "stream",
     "text": [
      "TIme to process 1 frame : 244 milliseconds\n"
     ]
    },
    {
     "name": "stderr",
     "output_type": "stream",
     "text": [
      "\n",
      "0: 256x416 3 persons, 27.1ms\n",
      "Speed: 0.9ms preprocess, 27.1ms inference, 0.3ms postprocess per image at shape (1, 3, 256, 416)\n"
     ]
    },
    {
     "name": "stdout",
     "output_type": "stream",
     "text": [
      "TIme to process 1 frame : 251 milliseconds\n"
     ]
    },
    {
     "name": "stderr",
     "output_type": "stream",
     "text": [
      "\n",
      "0: 256x416 3 persons, 26.6ms\n",
      "Speed: 1.4ms preprocess, 26.6ms inference, 0.3ms postprocess per image at shape (1, 3, 256, 416)\n"
     ]
    },
    {
     "name": "stdout",
     "output_type": "stream",
     "text": [
      "TIme to process 1 frame : 240 milliseconds\n"
     ]
    },
    {
     "name": "stderr",
     "output_type": "stream",
     "text": [
      "\n",
      "0: 256x416 3 persons, 28.4ms\n",
      "Speed: 1.2ms preprocess, 28.4ms inference, 0.3ms postprocess per image at shape (1, 3, 256, 416)\n"
     ]
    },
    {
     "name": "stdout",
     "output_type": "stream",
     "text": [
      "TIme to process 1 frame : 283 milliseconds\n"
     ]
    },
    {
     "name": "stderr",
     "output_type": "stream",
     "text": [
      "\n",
      "0: 256x416 3 persons, 27.5ms\n",
      "Speed: 1.1ms preprocess, 27.5ms inference, 0.3ms postprocess per image at shape (1, 3, 256, 416)\n"
     ]
    },
    {
     "name": "stdout",
     "output_type": "stream",
     "text": [
      "TIme to process 1 frame : 242 milliseconds\n"
     ]
    },
    {
     "name": "stderr",
     "output_type": "stream",
     "text": [
      "\n",
      "0: 256x416 3 persons, 27.6ms\n",
      "Speed: 1.4ms preprocess, 27.6ms inference, 0.3ms postprocess per image at shape (1, 3, 256, 416)\n"
     ]
    },
    {
     "name": "stdout",
     "output_type": "stream",
     "text": [
      "TIme to process 1 frame : 248 milliseconds\n"
     ]
    },
    {
     "name": "stderr",
     "output_type": "stream",
     "text": [
      "\n",
      "0: 256x416 3 persons, 72.3ms\n",
      "Speed: 0.8ms preprocess, 72.3ms inference, 0.4ms postprocess per image at shape (1, 3, 256, 416)\n"
     ]
    },
    {
     "name": "stdout",
     "output_type": "stream",
     "text": [
      "TIme to process 1 frame : 266 milliseconds\n"
     ]
    },
    {
     "name": "stderr",
     "output_type": "stream",
     "text": [
      "\n",
      "0: 256x416 3 persons, 33.6ms\n",
      "Speed: 0.7ms preprocess, 33.6ms inference, 0.4ms postprocess per image at shape (1, 3, 256, 416)\n"
     ]
    },
    {
     "name": "stdout",
     "output_type": "stream",
     "text": [
      "TIme to process 1 frame : 312 milliseconds\n"
     ]
    },
    {
     "name": "stderr",
     "output_type": "stream",
     "text": [
      "\n",
      "0: 256x416 3 persons, 32.8ms\n",
      "Speed: 1.0ms preprocess, 32.8ms inference, 0.3ms postprocess per image at shape (1, 3, 256, 416)\n"
     ]
    },
    {
     "name": "stdout",
     "output_type": "stream",
     "text": [
      "TIme to process 1 frame : 240 milliseconds\n"
     ]
    },
    {
     "name": "stderr",
     "output_type": "stream",
     "text": [
      "\n",
      "0: 256x416 3 persons, 36.5ms\n",
      "Speed: 2.3ms preprocess, 36.5ms inference, 0.4ms postprocess per image at shape (1, 3, 256, 416)\n"
     ]
    },
    {
     "name": "stdout",
     "output_type": "stream",
     "text": [
      "TIme to process 1 frame : 252 milliseconds\n"
     ]
    },
    {
     "name": "stderr",
     "output_type": "stream",
     "text": [
      "\n",
      "0: 256x416 3 persons, 29.1ms\n",
      "Speed: 0.9ms preprocess, 29.1ms inference, 0.3ms postprocess per image at shape (1, 3, 256, 416)\n"
     ]
    },
    {
     "name": "stdout",
     "output_type": "stream",
     "text": [
      "TIme to process 1 frame : 252 milliseconds\n"
     ]
    },
    {
     "name": "stderr",
     "output_type": "stream",
     "text": [
      "\n",
      "0: 256x416 3 persons, 27.1ms\n",
      "Speed: 0.9ms preprocess, 27.1ms inference, 0.4ms postprocess per image at shape (1, 3, 256, 416)\n"
     ]
    },
    {
     "name": "stdout",
     "output_type": "stream",
     "text": [
      "TIme to process 1 frame : 250 milliseconds\n"
     ]
    },
    {
     "name": "stderr",
     "output_type": "stream",
     "text": [
      "\n",
      "0: 256x416 3 persons, 25.8ms\n",
      "Speed: 1.2ms preprocess, 25.8ms inference, 0.4ms postprocess per image at shape (1, 3, 256, 416)\n"
     ]
    },
    {
     "name": "stdout",
     "output_type": "stream",
     "text": [
      "TIme to process 1 frame : 266 milliseconds\n"
     ]
    },
    {
     "name": "stderr",
     "output_type": "stream",
     "text": [
      "\n",
      "0: 256x416 3 persons, 25.6ms\n",
      "Speed: 1.6ms preprocess, 25.6ms inference, 0.3ms postprocess per image at shape (1, 3, 256, 416)\n"
     ]
    },
    {
     "name": "stdout",
     "output_type": "stream",
     "text": [
      "TIme to process 1 frame : 244 milliseconds\n"
     ]
    },
    {
     "name": "stderr",
     "output_type": "stream",
     "text": [
      "\n",
      "0: 256x416 3 persons, 26.9ms\n",
      "Speed: 1.1ms preprocess, 26.9ms inference, 0.3ms postprocess per image at shape (1, 3, 256, 416)\n"
     ]
    },
    {
     "name": "stdout",
     "output_type": "stream",
     "text": [
      "TIme to process 1 frame : 247 milliseconds\n"
     ]
    },
    {
     "name": "stderr",
     "output_type": "stream",
     "text": [
      "\n",
      "0: 256x416 3 persons, 26.7ms\n",
      "Speed: 0.8ms preprocess, 26.7ms inference, 0.3ms postprocess per image at shape (1, 3, 256, 416)\n"
     ]
    },
    {
     "name": "stdout",
     "output_type": "stream",
     "text": [
      "TIme to process 1 frame : 243 milliseconds\n"
     ]
    },
    {
     "name": "stderr",
     "output_type": "stream",
     "text": [
      "\n",
      "0: 256x416 3 persons, 24.3ms\n",
      "Speed: 1.1ms preprocess, 24.3ms inference, 0.4ms postprocess per image at shape (1, 3, 256, 416)\n"
     ]
    },
    {
     "name": "stdout",
     "output_type": "stream",
     "text": [
      "TIme to process 1 frame : 240 milliseconds\n"
     ]
    },
    {
     "name": "stderr",
     "output_type": "stream",
     "text": [
      "\n",
      "0: 256x416 3 persons, 26.4ms\n",
      "Speed: 1.3ms preprocess, 26.4ms inference, 0.3ms postprocess per image at shape (1, 3, 256, 416)\n"
     ]
    },
    {
     "name": "stdout",
     "output_type": "stream",
     "text": [
      "TIme to process 1 frame : 244 milliseconds\n"
     ]
    },
    {
     "name": "stderr",
     "output_type": "stream",
     "text": [
      "\n",
      "0: 256x416 3 persons, 27.9ms\n",
      "Speed: 1.1ms preprocess, 27.9ms inference, 0.3ms postprocess per image at shape (1, 3, 256, 416)\n"
     ]
    },
    {
     "name": "stdout",
     "output_type": "stream",
     "text": [
      "TIme to process 1 frame : 240 milliseconds\n"
     ]
    },
    {
     "name": "stderr",
     "output_type": "stream",
     "text": [
      "\n",
      "0: 256x416 3 persons, 25.7ms\n",
      "Speed: 1.4ms preprocess, 25.7ms inference, 0.3ms postprocess per image at shape (1, 3, 256, 416)\n"
     ]
    },
    {
     "name": "stdout",
     "output_type": "stream",
     "text": [
      "TIme to process 1 frame : 245 milliseconds\n"
     ]
    },
    {
     "name": "stderr",
     "output_type": "stream",
     "text": [
      "\n",
      "0: 256x416 3 persons, 25.1ms\n",
      "Speed: 1.1ms preprocess, 25.1ms inference, 0.3ms postprocess per image at shape (1, 3, 256, 416)\n"
     ]
    },
    {
     "name": "stdout",
     "output_type": "stream",
     "text": [
      "TIme to process 1 frame : 239 milliseconds\n"
     ]
    },
    {
     "name": "stderr",
     "output_type": "stream",
     "text": [
      "\n",
      "0: 256x416 3 persons, 23.8ms\n",
      "Speed: 1.3ms preprocess, 23.8ms inference, 0.3ms postprocess per image at shape (1, 3, 256, 416)\n"
     ]
    },
    {
     "name": "stdout",
     "output_type": "stream",
     "text": [
      "TIme to process 1 frame : 277 milliseconds\n"
     ]
    },
    {
     "name": "stderr",
     "output_type": "stream",
     "text": [
      "\n",
      "0: 256x416 3 persons, 26.0ms\n",
      "Speed: 0.9ms preprocess, 26.0ms inference, 0.3ms postprocess per image at shape (1, 3, 256, 416)\n"
     ]
    },
    {
     "name": "stdout",
     "output_type": "stream",
     "text": [
      "TIme to process 1 frame : 237 milliseconds\n"
     ]
    },
    {
     "name": "stderr",
     "output_type": "stream",
     "text": [
      "\n",
      "0: 256x416 3 persons, 25.2ms\n",
      "Speed: 1.5ms preprocess, 25.2ms inference, 0.3ms postprocess per image at shape (1, 3, 256, 416)\n"
     ]
    },
    {
     "name": "stdout",
     "output_type": "stream",
     "text": [
      "TIme to process 1 frame : 246 milliseconds\n"
     ]
    },
    {
     "name": "stderr",
     "output_type": "stream",
     "text": [
      "\n",
      "0: 256x416 3 persons, 26.0ms\n",
      "Speed: 2.3ms preprocess, 26.0ms inference, 0.3ms postprocess per image at shape (1, 3, 256, 416)\n"
     ]
    },
    {
     "name": "stdout",
     "output_type": "stream",
     "text": [
      "TIme to process 1 frame : 240 milliseconds\n"
     ]
    },
    {
     "name": "stderr",
     "output_type": "stream",
     "text": [
      "\n",
      "0: 256x416 3 persons, 27.0ms\n",
      "Speed: 1.4ms preprocess, 27.0ms inference, 0.3ms postprocess per image at shape (1, 3, 256, 416)\n"
     ]
    },
    {
     "name": "stdout",
     "output_type": "stream",
     "text": [
      "TIme to process 1 frame : 245 milliseconds\n"
     ]
    },
    {
     "name": "stderr",
     "output_type": "stream",
     "text": [
      "\n",
      "0: 256x416 4 persons, 26.8ms\n",
      "Speed: 1.4ms preprocess, 26.8ms inference, 0.3ms postprocess per image at shape (1, 3, 256, 416)\n"
     ]
    },
    {
     "name": "stdout",
     "output_type": "stream",
     "text": [
      "TIme to process 1 frame : 195 milliseconds\n"
     ]
    },
    {
     "name": "stderr",
     "output_type": "stream",
     "text": [
      "\n",
      "0: 256x416 3 persons, 26.5ms\n",
      "Speed: 0.9ms preprocess, 26.5ms inference, 0.3ms postprocess per image at shape (1, 3, 256, 416)\n"
     ]
    },
    {
     "name": "stdout",
     "output_type": "stream",
     "text": [
      "TIme to process 1 frame : 268 milliseconds\n"
     ]
    },
    {
     "name": "stderr",
     "output_type": "stream",
     "text": [
      "\n",
      "0: 256x416 3 persons, 25.9ms\n",
      "Speed: 1.3ms preprocess, 25.9ms inference, 0.3ms postprocess per image at shape (1, 3, 256, 416)\n"
     ]
    },
    {
     "name": "stdout",
     "output_type": "stream",
     "text": [
      "TIme to process 1 frame : 237 milliseconds\n"
     ]
    },
    {
     "name": "stderr",
     "output_type": "stream",
     "text": [
      "\n",
      "0: 256x416 3 persons, 36.9ms\n",
      "Speed: 2.7ms preprocess, 36.9ms inference, 0.4ms postprocess per image at shape (1, 3, 256, 416)\n"
     ]
    },
    {
     "name": "stdout",
     "output_type": "stream",
     "text": [
      "TIme to process 1 frame : 272 milliseconds\n"
     ]
    },
    {
     "name": "stderr",
     "output_type": "stream",
     "text": [
      "\n",
      "0: 256x416 3 persons, 26.0ms\n",
      "Speed: 1.6ms preprocess, 26.0ms inference, 0.3ms postprocess per image at shape (1, 3, 256, 416)\n"
     ]
    },
    {
     "name": "stdout",
     "output_type": "stream",
     "text": [
      "TIme to process 1 frame : 242 milliseconds\n"
     ]
    },
    {
     "name": "stderr",
     "output_type": "stream",
     "text": [
      "\n",
      "0: 256x416 3 persons, 25.9ms\n",
      "Speed: 0.9ms preprocess, 25.9ms inference, 0.3ms postprocess per image at shape (1, 3, 256, 416)\n"
     ]
    },
    {
     "name": "stdout",
     "output_type": "stream",
     "text": [
      "TIme to process 1 frame : 245 milliseconds\n"
     ]
    },
    {
     "name": "stderr",
     "output_type": "stream",
     "text": [
      "\n",
      "0: 256x416 3 persons, 26.2ms\n",
      "Speed: 1.2ms preprocess, 26.2ms inference, 0.3ms postprocess per image at shape (1, 3, 256, 416)\n"
     ]
    },
    {
     "name": "stdout",
     "output_type": "stream",
     "text": [
      "TIme to process 1 frame : 238 milliseconds\n"
     ]
    },
    {
     "name": "stderr",
     "output_type": "stream",
     "text": [
      "\n",
      "0: 256x416 3 persons, 26.0ms\n",
      "Speed: 0.9ms preprocess, 26.0ms inference, 0.3ms postprocess per image at shape (1, 3, 256, 416)\n"
     ]
    },
    {
     "name": "stdout",
     "output_type": "stream",
     "text": [
      "TIme to process 1 frame : 242 milliseconds\n"
     ]
    },
    {
     "name": "stderr",
     "output_type": "stream",
     "text": [
      "\n",
      "0: 256x416 3 persons, 28.1ms\n",
      "Speed: 1.4ms preprocess, 28.1ms inference, 0.3ms postprocess per image at shape (1, 3, 256, 416)\n"
     ]
    },
    {
     "name": "stdout",
     "output_type": "stream",
     "text": [
      "TIme to process 1 frame : 245 milliseconds\n"
     ]
    },
    {
     "name": "stderr",
     "output_type": "stream",
     "text": [
      "\n",
      "0: 256x416 4 persons, 26.0ms\n",
      "Speed: 1.5ms preprocess, 26.0ms inference, 0.3ms postprocess per image at shape (1, 3, 256, 416)\n"
     ]
    },
    {
     "name": "stdout",
     "output_type": "stream",
     "text": [
      "TIme to process 1 frame : 243 milliseconds\n"
     ]
    },
    {
     "name": "stderr",
     "output_type": "stream",
     "text": [
      "\n",
      "0: 256x416 2 persons, 26.5ms\n",
      "Speed: 1.2ms preprocess, 26.5ms inference, 0.3ms postprocess per image at shape (1, 3, 256, 416)\n"
     ]
    },
    {
     "name": "stdout",
     "output_type": "stream",
     "text": [
      "TIme to process 1 frame : 194 milliseconds\n"
     ]
    },
    {
     "name": "stderr",
     "output_type": "stream",
     "text": [
      "\n",
      "0: 256x416 2 persons, 35.8ms\n",
      "Speed: 2.3ms preprocess, 35.8ms inference, 0.3ms postprocess per image at shape (1, 3, 256, 416)\n"
     ]
    },
    {
     "name": "stdout",
     "output_type": "stream",
     "text": [
      "TIme to process 1 frame : 194 milliseconds\n"
     ]
    },
    {
     "name": "stderr",
     "output_type": "stream",
     "text": [
      "\n",
      "0: 256x416 2 persons, 24.0ms\n",
      "Speed: 1.3ms preprocess, 24.0ms inference, 0.3ms postprocess per image at shape (1, 3, 256, 416)\n"
     ]
    },
    {
     "name": "stdout",
     "output_type": "stream",
     "text": [
      "TIme to process 1 frame : 210 milliseconds\n"
     ]
    },
    {
     "name": "stderr",
     "output_type": "stream",
     "text": [
      "\n",
      "0: 256x416 3 persons, 23.8ms\n",
      "Speed: 0.8ms preprocess, 23.8ms inference, 0.3ms postprocess per image at shape (1, 3, 256, 416)\n"
     ]
    },
    {
     "name": "stdout",
     "output_type": "stream",
     "text": [
      "TIme to process 1 frame : 193 milliseconds\n"
     ]
    },
    {
     "name": "stderr",
     "output_type": "stream",
     "text": [
      "\n",
      "0: 256x416 3 persons, 27.5ms\n",
      "Speed: 0.8ms preprocess, 27.5ms inference, 0.4ms postprocess per image at shape (1, 3, 256, 416)\n"
     ]
    },
    {
     "name": "stdout",
     "output_type": "stream",
     "text": [
      "TIme to process 1 frame : 191 milliseconds\n"
     ]
    },
    {
     "name": "stderr",
     "output_type": "stream",
     "text": [
      "\n",
      "0: 256x416 3 persons, 23.9ms\n",
      "Speed: 0.8ms preprocess, 23.9ms inference, 0.3ms postprocess per image at shape (1, 3, 256, 416)\n"
     ]
    },
    {
     "name": "stdout",
     "output_type": "stream",
     "text": [
      "TIme to process 1 frame : 198 milliseconds\n"
     ]
    },
    {
     "name": "stderr",
     "output_type": "stream",
     "text": [
      "\n",
      "0: 256x416 4 persons, 28.2ms\n",
      "Speed: 1.6ms preprocess, 28.2ms inference, 0.3ms postprocess per image at shape (1, 3, 256, 416)\n"
     ]
    },
    {
     "name": "stdout",
     "output_type": "stream",
     "text": [
      "TIme to process 1 frame : 193 milliseconds\n"
     ]
    },
    {
     "name": "stderr",
     "output_type": "stream",
     "text": [
      "\n",
      "0: 256x416 3 persons, 23.3ms\n",
      "Speed: 0.9ms preprocess, 23.3ms inference, 0.3ms postprocess per image at shape (1, 3, 256, 416)\n"
     ]
    },
    {
     "name": "stdout",
     "output_type": "stream",
     "text": [
      "TIme to process 1 frame : 212 milliseconds\n"
     ]
    },
    {
     "name": "stderr",
     "output_type": "stream",
     "text": [
      "\n",
      "0: 256x416 3 persons, 27.0ms\n",
      "Speed: 0.8ms preprocess, 27.0ms inference, 0.3ms postprocess per image at shape (1, 3, 256, 416)\n"
     ]
    },
    {
     "name": "stdout",
     "output_type": "stream",
     "text": [
      "TIme to process 1 frame : 265 milliseconds\n"
     ]
    },
    {
     "name": "stderr",
     "output_type": "stream",
     "text": [
      "\n",
      "0: 256x416 4 persons, 26.2ms\n",
      "Speed: 1.0ms preprocess, 26.2ms inference, 0.3ms postprocess per image at shape (1, 3, 256, 416)\n"
     ]
    },
    {
     "name": "stdout",
     "output_type": "stream",
     "text": [
      "TIme to process 1 frame : 242 milliseconds\n"
     ]
    },
    {
     "name": "stderr",
     "output_type": "stream",
     "text": [
      "\n",
      "0: 256x416 3 persons, 25.9ms\n",
      "Speed: 0.8ms preprocess, 25.9ms inference, 0.3ms postprocess per image at shape (1, 3, 256, 416)\n"
     ]
    },
    {
     "name": "stdout",
     "output_type": "stream",
     "text": [
      "TIme to process 1 frame : 275 milliseconds\n"
     ]
    },
    {
     "name": "stderr",
     "output_type": "stream",
     "text": [
      "\n",
      "0: 256x416 3 persons, 23.7ms\n",
      "Speed: 1.0ms preprocess, 23.7ms inference, 0.3ms postprocess per image at shape (1, 3, 256, 416)\n"
     ]
    },
    {
     "name": "stdout",
     "output_type": "stream",
     "text": [
      "TIme to process 1 frame : 240 milliseconds\n"
     ]
    },
    {
     "name": "stderr",
     "output_type": "stream",
     "text": [
      "\n",
      "0: 256x416 4 persons, 26.0ms\n",
      "Speed: 1.2ms preprocess, 26.0ms inference, 0.3ms postprocess per image at shape (1, 3, 256, 416)\n"
     ]
    },
    {
     "name": "stdout",
     "output_type": "stream",
     "text": [
      "TIme to process 1 frame : 242 milliseconds\n"
     ]
    },
    {
     "name": "stderr",
     "output_type": "stream",
     "text": [
      "\n",
      "0: 256x416 3 persons, 25.1ms\n",
      "Speed: 0.9ms preprocess, 25.1ms inference, 0.3ms postprocess per image at shape (1, 3, 256, 416)\n"
     ]
    },
    {
     "name": "stdout",
     "output_type": "stream",
     "text": [
      "TIme to process 1 frame : 242 milliseconds\n"
     ]
    },
    {
     "name": "stderr",
     "output_type": "stream",
     "text": [
      "\n",
      "0: 256x416 3 persons, 25.6ms\n",
      "Speed: 1.3ms preprocess, 25.6ms inference, 0.3ms postprocess per image at shape (1, 3, 256, 416)\n"
     ]
    },
    {
     "name": "stdout",
     "output_type": "stream",
     "text": [
      "TIme to process 1 frame : 236 milliseconds\n"
     ]
    },
    {
     "name": "stderr",
     "output_type": "stream",
     "text": [
      "\n",
      "0: 256x416 4 persons, 27.1ms\n",
      "Speed: 1.0ms preprocess, 27.1ms inference, 0.3ms postprocess per image at shape (1, 3, 256, 416)\n"
     ]
    },
    {
     "name": "stdout",
     "output_type": "stream",
     "text": [
      "TIme to process 1 frame : 241 milliseconds\n"
     ]
    },
    {
     "name": "stderr",
     "output_type": "stream",
     "text": [
      "\n",
      "0: 256x416 2 persons, 25.4ms\n",
      "Speed: 0.9ms preprocess, 25.4ms inference, 0.3ms postprocess per image at shape (1, 3, 256, 416)\n",
      "\n"
     ]
    },
    {
     "name": "stdout",
     "output_type": "stream",
     "text": [
      "TIme to process 1 frame : 245 milliseconds\n",
      "TIme to process 1 frame : 147 milliseconds\n"
     ]
    },
    {
     "name": "stderr",
     "output_type": "stream",
     "text": [
      "0: 256x416 1 person, 24.6ms\n",
      "Speed: 1.0ms preprocess, 24.6ms inference, 0.3ms postprocess per image at shape (1, 3, 256, 416)\n",
      "\n",
      "0: 256x416 1 person, 20.6ms\n",
      "Speed: 0.6ms preprocess, 20.6ms inference, 0.3ms postprocess per image at shape (1, 3, 256, 416)\n"
     ]
    },
    {
     "name": "stdout",
     "output_type": "stream",
     "text": [
      "TIme to process 1 frame : 153 milliseconds\n",
      "TIme to process 1 frame : 174 milliseconds\n"
     ]
    },
    {
     "name": "stderr",
     "output_type": "stream",
     "text": [
      "\n",
      "0: 256x416 2 persons, 22.0ms\n",
      "Speed: 0.6ms preprocess, 22.0ms inference, 0.3ms postprocess per image at shape (1, 3, 256, 416)\n",
      "\n",
      "0: 256x416 2 persons, 21.1ms\n",
      "Speed: 0.8ms preprocess, 21.1ms inference, 0.3ms postprocess per image at shape (1, 3, 256, 416)\n",
      "\n"
     ]
    },
    {
     "name": "stdout",
     "output_type": "stream",
     "text": [
      "TIme to process 1 frame : 161 milliseconds\n",
      "TIme to process 1 frame : 160 milliseconds\n"
     ]
    },
    {
     "name": "stderr",
     "output_type": "stream",
     "text": [
      "0: 256x416 2 persons, 21.5ms\n",
      "Speed: 1.1ms preprocess, 21.5ms inference, 0.3ms postprocess per image at shape (1, 3, 256, 416)\n",
      "\n",
      "0: 256x416 2 persons, 20.4ms\n",
      "Speed: 0.6ms preprocess, 20.4ms inference, 0.3ms postprocess per image at shape (1, 3, 256, 416)\n",
      "\n"
     ]
    },
    {
     "name": "stdout",
     "output_type": "stream",
     "text": [
      "TIme to process 1 frame : 158 milliseconds\n",
      "TIme to process 1 frame : 159 milliseconds\n"
     ]
    },
    {
     "name": "stderr",
     "output_type": "stream",
     "text": [
      "0: 256x416 2 persons, 20.1ms\n",
      "Speed: 0.6ms preprocess, 20.1ms inference, 0.3ms postprocess per image at shape (1, 3, 256, 416)\n",
      "\n",
      "0: 256x416 2 persons, 21.2ms\n",
      "Speed: 0.6ms preprocess, 21.2ms inference, 0.3ms postprocess per image at shape (1, 3, 256, 416)\n",
      "\n"
     ]
    },
    {
     "name": "stdout",
     "output_type": "stream",
     "text": [
      "TIme to process 1 frame : 157 milliseconds\n",
      "TIme to process 1 frame : 158 milliseconds\n"
     ]
    },
    {
     "name": "stderr",
     "output_type": "stream",
     "text": [
      "0: 256x416 2 persons, 20.1ms\n",
      "Speed: 0.7ms preprocess, 20.1ms inference, 0.3ms postprocess per image at shape (1, 3, 256, 416)\n",
      "\n",
      "0: 256x416 1 person, 21.3ms\n",
      "Speed: 0.6ms preprocess, 21.3ms inference, 0.3ms postprocess per image at shape (1, 3, 256, 416)\n",
      "\n"
     ]
    },
    {
     "name": "stdout",
     "output_type": "stream",
     "text": [
      "TIme to process 1 frame : 25 milliseconds\n",
      "TIme to process 1 frame : 164 milliseconds\n"
     ]
    },
    {
     "name": "stderr",
     "output_type": "stream",
     "text": [
      "0: 256x416 2 persons, 22.1ms\n",
      "Speed: 0.6ms preprocess, 22.1ms inference, 0.3ms postprocess per image at shape (1, 3, 256, 416)\n",
      "\n",
      "0: 256x416 2 persons, 24.8ms\n",
      "Speed: 1.1ms preprocess, 24.8ms inference, 0.3ms postprocess per image at shape (1, 3, 256, 416)\n"
     ]
    },
    {
     "name": "stdout",
     "output_type": "stream",
     "text": [
      "TIme to process 1 frame : 188 milliseconds\n"
     ]
    },
    {
     "name": "stderr",
     "output_type": "stream",
     "text": [
      "\n",
      "0: 256x416 2 persons, 23.5ms\n",
      "Speed: 0.8ms preprocess, 23.5ms inference, 0.3ms postprocess per image at shape (1, 3, 256, 416)\n"
     ]
    },
    {
     "name": "stdout",
     "output_type": "stream",
     "text": [
      "TIme to process 1 frame : 193 milliseconds\n"
     ]
    },
    {
     "name": "stderr",
     "output_type": "stream",
     "text": [
      "\n",
      "0: 256x416 2 persons, 22.8ms\n",
      "Speed: 0.8ms preprocess, 22.8ms inference, 0.3ms postprocess per image at shape (1, 3, 256, 416)\n"
     ]
    },
    {
     "name": "stdout",
     "output_type": "stream",
     "text": [
      "TIme to process 1 frame : 190 milliseconds\n",
      "TIme to process 1 frame : 174 milliseconds\n"
     ]
    },
    {
     "name": "stderr",
     "output_type": "stream",
     "text": [
      "\n",
      "0: 256x416 2 persons, 22.2ms\n",
      "Speed: 0.8ms preprocess, 22.2ms inference, 0.3ms postprocess per image at shape (1, 3, 256, 416)\n",
      "\n",
      "0: 256x416 1 person, 20.2ms\n",
      "Speed: 0.6ms preprocess, 20.2ms inference, 0.3ms postprocess per image at shape (1, 3, 256, 416)\n",
      "\n"
     ]
    },
    {
     "name": "stdout",
     "output_type": "stream",
     "text": [
      "TIme to process 1 frame : 160 milliseconds\n",
      "TIme to process 1 frame : 165 milliseconds\n"
     ]
    },
    {
     "name": "stderr",
     "output_type": "stream",
     "text": [
      "0: 256x416 2 persons, 21.1ms\n",
      "Speed: 0.6ms preprocess, 21.1ms inference, 0.4ms postprocess per image at shape (1, 3, 256, 416)\n",
      "\n",
      "0: 256x416 1 person, 21.3ms\n",
      "Speed: 0.6ms preprocess, 21.3ms inference, 0.3ms postprocess per image at shape (1, 3, 256, 416)\n",
      "\n"
     ]
    },
    {
     "name": "stdout",
     "output_type": "stream",
     "text": [
      "TIme to process 1 frame : 158 milliseconds\n",
      "TIme to process 1 frame : 158 milliseconds\n"
     ]
    },
    {
     "name": "stderr",
     "output_type": "stream",
     "text": [
      "0: 256x416 2 persons, 22.0ms\n",
      "Speed: 0.9ms preprocess, 22.0ms inference, 0.3ms postprocess per image at shape (1, 3, 256, 416)\n",
      "\n",
      "0: 256x416 2 persons, 21.5ms\n",
      "Speed: 1.0ms preprocess, 21.5ms inference, 0.3ms postprocess per image at shape (1, 3, 256, 416)\n",
      "\n"
     ]
    },
    {
     "name": "stdout",
     "output_type": "stream",
     "text": [
      "TIme to process 1 frame : 177 milliseconds\n",
      "TIme to process 1 frame : 159 milliseconds\n"
     ]
    },
    {
     "name": "stderr",
     "output_type": "stream",
     "text": [
      "0: 256x416 2 persons, 20.8ms\n",
      "Speed: 0.6ms preprocess, 20.8ms inference, 0.3ms postprocess per image at shape (1, 3, 256, 416)\n",
      "\n",
      "0: 256x416 2 persons, 20.6ms\n",
      "Speed: 0.8ms preprocess, 20.6ms inference, 0.3ms postprocess per image at shape (1, 3, 256, 416)\n",
      "\n"
     ]
    },
    {
     "name": "stdout",
     "output_type": "stream",
     "text": [
      "TIme to process 1 frame : 162 milliseconds\n",
      "TIme to process 1 frame : 160 milliseconds\n"
     ]
    },
    {
     "name": "stderr",
     "output_type": "stream",
     "text": [
      "0: 256x416 1 person, 21.5ms\n",
      "Speed: 0.7ms preprocess, 21.5ms inference, 0.3ms postprocess per image at shape (1, 3, 256, 416)\n",
      "\n",
      "0: 256x416 1 person, 22.2ms\n",
      "Speed: 0.6ms preprocess, 22.2ms inference, 0.3ms postprocess per image at shape (1, 3, 256, 416)\n",
      "\n",
      "0: 256x416 1 person, 21.6ms\n",
      "Speed: 0.6ms preprocess, 21.6ms inference, 0.3ms postprocess per image at shape (1, 3, 256, 416)\n",
      "\n",
      "0: 256x416 1 person, 20.6ms\n",
      "Speed: 0.6ms preprocess, 20.6ms inference, 0.3ms postprocess per image at shape (1, 3, 256, 416)\n"
     ]
    },
    {
     "name": "stdout",
     "output_type": "stream",
     "text": [
      "TIme to process 1 frame : 161 milliseconds\n",
      "TIme to process 1 frame : 26 milliseconds\n",
      "TIme to process 1 frame : 26 milliseconds\n"
     ]
    },
    {
     "name": "stderr",
     "output_type": "stream",
     "text": [
      "\n",
      "0: 256x416 1 person, 21.7ms\n",
      "Speed: 0.9ms preprocess, 21.7ms inference, 0.3ms postprocess per image at shape (1, 3, 256, 416)\n",
      "\n"
     ]
    },
    {
     "name": "stdout",
     "output_type": "stream",
     "text": [
      "TIme to process 1 frame : 157 milliseconds\n",
      "TIme to process 1 frame : 159 milliseconds\n"
     ]
    },
    {
     "name": "stderr",
     "output_type": "stream",
     "text": [
      "0: 256x416 2 persons, 21.0ms\n",
      "Speed: 0.6ms preprocess, 21.0ms inference, 0.3ms postprocess per image at shape (1, 3, 256, 416)\n",
      "\n",
      "0: 256x416 2 persons, 20.5ms\n",
      "Speed: 0.6ms preprocess, 20.5ms inference, 0.3ms postprocess per image at shape (1, 3, 256, 416)\n",
      "\n"
     ]
    },
    {
     "name": "stdout",
     "output_type": "stream",
     "text": [
      "TIme to process 1 frame : 158 milliseconds\n",
      "TIme to process 1 frame : 159 milliseconds\n"
     ]
    },
    {
     "name": "stderr",
     "output_type": "stream",
     "text": [
      "0: 256x416 2 persons, 22.6ms\n",
      "Speed: 0.6ms preprocess, 22.6ms inference, 0.3ms postprocess per image at shape (1, 3, 256, 416)\n",
      "\n",
      "0: 256x416 2 persons, 21.5ms\n",
      "Speed: 0.6ms preprocess, 21.5ms inference, 0.3ms postprocess per image at shape (1, 3, 256, 416)\n",
      "\n"
     ]
    },
    {
     "name": "stdout",
     "output_type": "stream",
     "text": [
      "TIme to process 1 frame : 161 milliseconds\n",
      "TIme to process 1 frame : 159 milliseconds\n"
     ]
    },
    {
     "name": "stderr",
     "output_type": "stream",
     "text": [
      "0: 256x416 1 person, 21.6ms\n",
      "Speed: 0.6ms preprocess, 21.6ms inference, 0.3ms postprocess per image at shape (1, 3, 256, 416)\n",
      "\n",
      "0: 256x416 1 person, 22.6ms\n",
      "Speed: 0.6ms preprocess, 22.6ms inference, 0.3ms postprocess per image at shape (1, 3, 256, 416)\n",
      "\n"
     ]
    },
    {
     "name": "stdout",
     "output_type": "stream",
     "text": [
      "TIme to process 1 frame : 157 milliseconds\n",
      "TIme to process 1 frame : 158 milliseconds\n"
     ]
    },
    {
     "name": "stderr",
     "output_type": "stream",
     "text": [
      "0: 256x416 1 person, 21.7ms\n",
      "Speed: 0.7ms preprocess, 21.7ms inference, 0.3ms postprocess per image at shape (1, 3, 256, 416)\n",
      "\n",
      "0: 256x416 1 person, 21.2ms\n",
      "Speed: 0.6ms preprocess, 21.2ms inference, 0.3ms postprocess per image at shape (1, 3, 256, 416)\n",
      "\n"
     ]
    },
    {
     "name": "stdout",
     "output_type": "stream",
     "text": [
      "TIme to process 1 frame : 181 milliseconds\n",
      "TIme to process 1 frame : 158 milliseconds\n"
     ]
    },
    {
     "name": "stderr",
     "output_type": "stream",
     "text": [
      "0: 256x416 1 person, 21.2ms\n",
      "Speed: 0.6ms preprocess, 21.2ms inference, 0.3ms postprocess per image at shape (1, 3, 256, 416)\n",
      "\n",
      "0: 256x416 1 person, 22.0ms\n",
      "Speed: 0.6ms preprocess, 22.0ms inference, 0.3ms postprocess per image at shape (1, 3, 256, 416)\n",
      "\n"
     ]
    },
    {
     "name": "stdout",
     "output_type": "stream",
     "text": [
      "TIme to process 1 frame : 25 milliseconds\n",
      "TIme to process 1 frame : 161 milliseconds\n"
     ]
    },
    {
     "name": "stderr",
     "output_type": "stream",
     "text": [
      "0: 256x416 1 person, 22.2ms\n",
      "Speed: 0.7ms preprocess, 22.2ms inference, 0.3ms postprocess per image at shape (1, 3, 256, 416)\n",
      "\n",
      "0: 256x416 1 person, 21.3ms\n",
      "Speed: 0.6ms preprocess, 21.3ms inference, 0.3ms postprocess per image at shape (1, 3, 256, 416)\n",
      "\n"
     ]
    },
    {
     "name": "stdout",
     "output_type": "stream",
     "text": [
      "TIme to process 1 frame : 26 milliseconds\n",
      "TIme to process 1 frame : 157 milliseconds\n"
     ]
    },
    {
     "name": "stderr",
     "output_type": "stream",
     "text": [
      "0: 256x416 1 person, 20.7ms\n",
      "Speed: 0.7ms preprocess, 20.7ms inference, 0.3ms postprocess per image at shape (1, 3, 256, 416)\n",
      "\n",
      "0: 256x416 1 person, 22.4ms\n",
      "Speed: 0.7ms preprocess, 22.4ms inference, 0.3ms postprocess per image at shape (1, 3, 256, 416)\n",
      "\n",
      "0: 256x416 1 person, 21.7ms\n",
      "Speed: 0.6ms preprocess, 21.7ms inference, 0.3ms postprocess per image at shape (1, 3, 256, 416)\n",
      "\n",
      "0: 256x416 1 person, 20.9ms\n",
      "Speed: 0.5ms preprocess, 20.9ms inference, 0.3ms postprocess per image at shape (1, 3, 256, 416)\n",
      "\n",
      "0: 256x416 1 person, 20.8ms\n",
      "Speed: 0.6ms preprocess, 20.8ms inference, 0.3ms postprocess per image at shape (1, 3, 256, 416)\n",
      "\n",
      "0: 256x416 (no detections), 21.5ms\n",
      "Speed: 0.6ms preprocess, 21.5ms inference, 0.1ms postprocess per image at shape (1, 3, 256, 416)\n"
     ]
    },
    {
     "name": "stdout",
     "output_type": "stream",
     "text": [
      "TIme to process 1 frame : 26 milliseconds\n",
      "TIme to process 1 frame : 26 milliseconds\n",
      "TIme to process 1 frame : 25 milliseconds\n",
      "TIme to process 1 frame : 24 milliseconds\n",
      "TIme to process 1 frame : 24 milliseconds\n",
      "TIme to process 1 frame : 25 milliseconds\n"
     ]
    },
    {
     "name": "stderr",
     "output_type": "stream",
     "text": [
      "\n",
      "0: 256x416 (no detections), 20.7ms\n",
      "Speed: 0.6ms preprocess, 20.7ms inference, 0.2ms postprocess per image at shape (1, 3, 256, 416)\n",
      "\n",
      "0: 256x416 (no detections), 21.1ms\n",
      "Speed: 0.6ms preprocess, 21.1ms inference, 0.1ms postprocess per image at shape (1, 3, 256, 416)\n",
      "\n",
      "0: 256x416 (no detections), 21.2ms\n",
      "Speed: 0.6ms preprocess, 21.2ms inference, 0.2ms postprocess per image at shape (1, 3, 256, 416)\n",
      "\n",
      "0: 256x416 (no detections), 20.9ms\n",
      "Speed: 0.5ms preprocess, 20.9ms inference, 0.1ms postprocess per image at shape (1, 3, 256, 416)\n",
      "\n",
      "0: 256x416 (no detections), 21.1ms\n",
      "Speed: 0.6ms preprocess, 21.1ms inference, 0.2ms postprocess per image at shape (1, 3, 256, 416)\n",
      "\n",
      "0: 256x416 (no detections), 21.0ms\n",
      "Speed: 0.6ms preprocess, 21.0ms inference, 0.1ms postprocess per image at shape (1, 3, 256, 416)\n"
     ]
    },
    {
     "name": "stdout",
     "output_type": "stream",
     "text": [
      "TIme to process 1 frame : 24 milliseconds\n",
      "TIme to process 1 frame : 24 milliseconds\n",
      "TIme to process 1 frame : 25 milliseconds\n",
      "TIme to process 1 frame : 24 milliseconds\n",
      "TIme to process 1 frame : 24 milliseconds\n",
      "TIme to process 1 frame : 25 milliseconds\n"
     ]
    },
    {
     "name": "stderr",
     "output_type": "stream",
     "text": [
      "\n",
      "0: 256x416 (no detections), 21.1ms\n",
      "Speed: 0.6ms preprocess, 21.1ms inference, 0.2ms postprocess per image at shape (1, 3, 256, 416)\n",
      "\n",
      "0: 256x416 1 person, 20.0ms\n",
      "Speed: 0.6ms preprocess, 20.0ms inference, 0.3ms postprocess per image at shape (1, 3, 256, 416)\n",
      "\n",
      "0: 256x416 (no detections), 20.6ms\n",
      "Speed: 0.6ms preprocess, 20.6ms inference, 0.2ms postprocess per image at shape (1, 3, 256, 416)\n",
      "\n",
      "0: 256x416 (no detections), 20.7ms\n",
      "Speed: 0.6ms preprocess, 20.7ms inference, 0.2ms postprocess per image at shape (1, 3, 256, 416)\n",
      "\n",
      "0: 256x416 (no detections), 20.8ms\n",
      "Speed: 0.7ms preprocess, 20.8ms inference, 0.2ms postprocess per image at shape (1, 3, 256, 416)\n",
      "\n",
      "0: 256x416 (no detections), 20.7ms\n",
      "Speed: 0.6ms preprocess, 20.7ms inference, 0.2ms postprocess per image at shape (1, 3, 256, 416)\n"
     ]
    },
    {
     "name": "stdout",
     "output_type": "stream",
     "text": [
      "TIme to process 1 frame : 25 milliseconds\n",
      "TIme to process 1 frame : 24 milliseconds\n",
      "TIme to process 1 frame : 24 milliseconds\n",
      "TIme to process 1 frame : 25 milliseconds\n",
      "TIme to process 1 frame : 24 milliseconds\n",
      "TIme to process 1 frame : 24 milliseconds\n"
     ]
    },
    {
     "name": "stderr",
     "output_type": "stream",
     "text": [
      "\n",
      "0: 256x416 (no detections), 21.3ms\n",
      "Speed: 0.6ms preprocess, 21.3ms inference, 0.2ms postprocess per image at shape (1, 3, 256, 416)\n",
      "\n",
      "0: 256x416 (no detections), 20.0ms\n",
      "Speed: 0.6ms preprocess, 20.0ms inference, 0.1ms postprocess per image at shape (1, 3, 256, 416)\n",
      "\n",
      "0: 256x416 (no detections), 20.0ms\n",
      "Speed: 0.6ms preprocess, 20.0ms inference, 0.2ms postprocess per image at shape (1, 3, 256, 416)\n",
      "\n",
      "0: 256x416 (no detections), 21.8ms\n",
      "Speed: 0.6ms preprocess, 21.8ms inference, 0.1ms postprocess per image at shape (1, 3, 256, 416)\n",
      "\n",
      "0: 256x416 (no detections), 21.2ms\n",
      "Speed: 0.7ms preprocess, 21.2ms inference, 0.2ms postprocess per image at shape (1, 3, 256, 416)\n",
      "\n",
      "0: 256x416 (no detections), 20.7ms\n",
      "Speed: 0.6ms preprocess, 20.7ms inference, 0.2ms postprocess per image at shape (1, 3, 256, 416)\n"
     ]
    },
    {
     "name": "stdout",
     "output_type": "stream",
     "text": [
      "TIme to process 1 frame : 25 milliseconds\n",
      "TIme to process 1 frame : 24 milliseconds\n",
      "TIme to process 1 frame : 24 milliseconds\n",
      "TIme to process 1 frame : 25 milliseconds\n",
      "TIme to process 1 frame : 25 milliseconds\n",
      "TIme to process 1 frame : 25 milliseconds\n"
     ]
    },
    {
     "name": "stderr",
     "output_type": "stream",
     "text": [
      "\n",
      "0: 256x416 (no detections), 21.6ms\n",
      "Speed: 1.0ms preprocess, 21.6ms inference, 0.2ms postprocess per image at shape (1, 3, 256, 416)\n",
      "\n",
      "0: 256x416 (no detections), 21.3ms\n",
      "Speed: 0.6ms preprocess, 21.3ms inference, 0.1ms postprocess per image at shape (1, 3, 256, 416)\n",
      "\n",
      "0: 256x416 (no detections), 33.7ms\n",
      "Speed: 1.4ms preprocess, 33.7ms inference, 0.2ms postprocess per image at shape (1, 3, 256, 416)\n",
      "\n",
      "0: 256x416 (no detections), 19.9ms\n",
      "Speed: 0.6ms preprocess, 19.9ms inference, 0.2ms postprocess per image at shape (1, 3, 256, 416)\n",
      "\n",
      "0: 256x416 (no detections), 21.0ms\n",
      "Speed: 0.6ms preprocess, 21.0ms inference, 0.2ms postprocess per image at shape (1, 3, 256, 416)\n",
      "\n"
     ]
    },
    {
     "name": "stdout",
     "output_type": "stream",
     "text": [
      "TIme to process 1 frame : 25 milliseconds\n",
      "TIme to process 1 frame : 25 milliseconds\n",
      "TIme to process 1 frame : 39 milliseconds\n",
      "TIme to process 1 frame : 23 milliseconds\n",
      "TIme to process 1 frame : 24 milliseconds\n"
     ]
    },
    {
     "name": "stderr",
     "output_type": "stream",
     "text": [
      "0: 256x416 (no detections), 20.7ms\n",
      "Speed: 0.9ms preprocess, 20.7ms inference, 0.2ms postprocess per image at shape (1, 3, 256, 416)\n",
      "\n",
      "0: 256x416 (no detections), 21.0ms\n",
      "Speed: 0.7ms preprocess, 21.0ms inference, 0.2ms postprocess per image at shape (1, 3, 256, 416)\n",
      "WARNING ⚠️ 'source' is missing. Using 'source=/opt/homebrew/lib/python3.11/site-packages/ultralytics/assets'.\n",
      "\n",
      "image 1/2 /opt/homebrew/lib/python3.11/site-packages/ultralytics/assets/bus.jpg: 416x320 2 persons, 23.4ms\n",
      "image 2/2 /opt/homebrew/lib/python3.11/site-packages/ultralytics/assets/zidane.jpg: 256x416 2 persons, 19.6ms\n",
      "Speed: 0.6ms preprocess, 21.5ms inference, 0.3ms postprocess per image at shape (1, 3, 256, 416)\n"
     ]
    },
    {
     "name": "stdout",
     "output_type": "stream",
     "text": [
      "TIme to process 1 frame : 25 milliseconds\n",
      "TIme to process 1 frame : 24 milliseconds\n"
     ]
    },
    {
     "ename": "Exception",
     "evalue": "either embeddings or frame must be given!",
     "output_type": "error",
     "traceback": [
      "\u001b[0;31m---------------------------------------------------------------------------\u001b[0m",
      "\u001b[0;31mException\u001b[0m                                 Traceback (most recent call last)",
      "Cell \u001b[0;32mIn[39], line 23\u001b[0m\n\u001b[1;32m     19\u001b[0m     class_id \u001b[39m=\u001b[39m \u001b[39mint\u001b[39m(data[\u001b[39m5\u001b[39m])\n\u001b[1;32m     21\u001b[0m     results\u001b[39m.\u001b[39mappend([[xmin, ymin, xmax\u001b[39m-\u001b[39mxmin, ymax\u001b[39m-\u001b[39mymin], confidence, class_id])\n\u001b[0;32m---> 23\u001b[0m tracks \u001b[39m=\u001b[39m tracker\u001b[39m.\u001b[39;49mupdate_tracks(results, frame\u001b[39m=\u001b[39;49mframe)\n\u001b[1;32m     24\u001b[0m \u001b[39mfor\u001b[39;00m track \u001b[39min\u001b[39;00m tracks:\n\u001b[1;32m     25\u001b[0m     \u001b[39mif\u001b[39;00m \u001b[39mnot\u001b[39;00m track\u001b[39m.\u001b[39mis_confirmed():\n",
      "File \u001b[0;32m/opt/homebrew/lib/python3.11/site-packages/deep_sort_realtime/deepsort_tracker.py:189\u001b[0m, in \u001b[0;36mDeepSort.update_tracks\u001b[0;34m(self, raw_detections, embeds, frame, today, others, instance_masks)\u001b[0m\n\u001b[1;32m    185\u001b[0m         \u001b[39mraise\u001b[39;00m \u001b[39mException\u001b[39;00m(\n\u001b[1;32m    186\u001b[0m             \u001b[39m\"\u001b[39m\u001b[39mEmbedder not created during init so embeddings must be given now!\u001b[39m\u001b[39m\"\u001b[39m\n\u001b[1;32m    187\u001b[0m         )\n\u001b[1;32m    188\u001b[0m     \u001b[39mif\u001b[39;00m frame \u001b[39mis\u001b[39;00m \u001b[39mNone\u001b[39;00m:\n\u001b[0;32m--> 189\u001b[0m         \u001b[39mraise\u001b[39;00m \u001b[39mException\u001b[39;00m(\u001b[39m\"\u001b[39m\u001b[39meither embeddings or frame must be given!\u001b[39m\u001b[39m\"\u001b[39m)\n\u001b[1;32m    191\u001b[0m \u001b[39massert\u001b[39;00m \u001b[39misinstance\u001b[39m(raw_detections,Iterable)\n\u001b[1;32m    193\u001b[0m \u001b[39mif\u001b[39;00m \u001b[39mlen\u001b[39m(raw_detections) \u001b[39m>\u001b[39m \u001b[39m0\u001b[39m: \n",
      "\u001b[0;31mException\u001b[0m: either embeddings or frame must be given!"
     ]
    }
   ],
   "source": [
    "\n",
    "model = YOLO(\"724.pt\")\n",
    "tracker = DeepSort(max_age=60)\n",
    "video_cap = cv2.VideoCapture(\"/Users/gimgeon-yu/Desktop/openCV/friend_group_1.mp4\")\n",
    "results = []\n",
    "while video_cap.isOpened():\n",
    "    start = datetime.datetime.now()\n",
    "    ret, frame = video_cap.read()\n",
    "\n",
    "    detections = model(frame)[0]\n",
    "\n",
    "    results = []\n",
    "\n",
    "    for data in detections.boxes.data.tolist():\n",
    "        confidence = data[4]\n",
    "        if float(confidence) < CONFIDENCE_THESHOLD:\n",
    "            continue\n",
    "        \n",
    "        xmin, ymin, xmax, ymax = int(data[0]),int(data[1]),int(data[2]),int(data[3])\n",
    "        class_id = int(data[5])\n",
    "\n",
    "        results.append([[xmin, ymin, xmax-xmin, ymax-ymin], confidence, class_id])\n",
    "\n",
    "    tracks = tracker.update_tracks(results, frame=frame)\n",
    "    for track in tracks:\n",
    "        if not track.is_confirmed():\n",
    "            continue\n",
    "\n",
    "        track_id = track.track_id\n",
    "        ltrb = track.to_ltrb()\n",
    "\n",
    "        xmin, ymin, xmax, ymax = int(ltrb[0]), int(ltrb[1]), int(ltrb[2]), int(ltrb[3])\n",
    "\n",
    "        cv2.rectangle(frame, (xmin, ymin), (xmax, ymax),GREEN, 2)\n",
    "        cv2.rectangle(frame, (xmin, ymin-20), (xmin+20,ymin), GREEN, -1)\n",
    "        cv2.putText(frame, str(track_id), (xmin+5, ymin-8), cv2.FONT_HERSHEY_SIMPLEX, 0.5, WHITE, 2)\n",
    "\n",
    "    end = datetime.datetime.now()\n",
    "\n",
    "    print(f\"TIme to process 1 frame : {(end-start).total_seconds()*1000:.0f} milliseconds\")\n",
    "    fps = f\"FPS : {1/(end-start).total_seconds():.2f}\"\n",
    "    cv2.putText(frame, fps, (50,50),cv2.FONT_HERSHEY_SIMPLEX,2, (0,0,255), 8)\n",
    "\n",
    "    cv2.imshow(\"Frame\", frame)\n",
    "\n",
    "    if cv2.waitKey(1) == ord(\"q\"):\n",
    "        break\n",
    "\n",
    "video_cap.release()\n",
    "cv2.destroyAllWindows()"
   ]
  },
  {
   "cell_type": "code",
   "execution_count": null,
   "metadata": {},
   "outputs": [],
   "source": [
    "model = YOLO(\"\")"
   ]
  }
 ],
 "metadata": {
  "kernelspec": {
   "display_name": "Python 3",
   "language": "python",
   "name": "python3"
  },
  "language_info": {
   "codemirror_mode": {
    "name": "ipython",
    "version": 3
   },
   "file_extension": ".py",
   "mimetype": "text/x-python",
   "name": "python",
   "nbconvert_exporter": "python",
   "pygments_lexer": "ipython3",
   "version": "3.11.4"
  },
  "orig_nbformat": 4
 },
 "nbformat": 4,
 "nbformat_minor": 2
}
